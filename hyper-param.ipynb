{
 "cells": [
  {
   "cell_type": "code",
   "execution_count": 1,
   "metadata": {},
   "outputs": [],
   "source": [
    "import fml_lib\n",
    "import numpy as np\n",
    "import pandas as pd\n",
    "from sklearn.ensemble import RandomForestClassifier\n",
    "from sklearn.ensemble import BaggingClassifier\n",
    "from sklearn.svm import SVC"
   ]
  },
  {
   "cell_type": "markdown",
   "metadata": {},
   "source": [
    "Exercise 1"
   ]
  },
  {
   "cell_type": "markdown",
   "metadata": {},
   "source": [
    "Generating dataset"
   ]
  },
  {
   "cell_type": "code",
   "execution_count": 2,
   "metadata": {},
   "outputs": [
    {
     "name": "stdout",
     "output_type": "stream",
     "text": [
      "            bin       w         t1\n",
      "1985-10-28    0  0.0001 1985-10-28\n",
      "1985-10-29    0  0.0001 1985-10-29\n",
      "1985-10-30    0  0.0001 1985-10-30\n",
      "1985-10-31    0  0.0001 1985-10-31\n",
      "1985-11-01    0  0.0001 1985-11-01\n",
      "...         ...     ...        ...\n",
      "2024-02-19    1  0.0001 2024-02-19\n",
      "2024-02-20    1  0.0001 2024-02-20\n",
      "2024-02-21    1  0.0001 2024-02-21\n",
      "2024-02-22    1  0.0001 2024-02-22\n",
      "2024-02-23    1  0.0001 2024-02-23\n",
      "\n",
      "[10000 rows x 3 columns]\n"
     ]
    }
   ],
   "source": [
    "trnsx, cont = fml_lib.getTestData(n_features=10, n_informative=5, n_redundant=5, n_samples=10000)\n",
    "#print(trnsx)\n",
    "print(cont)"
   ]
  },
  {
   "cell_type": "code",
   "execution_count": 3,
   "metadata": {},
   "outputs": [],
   "source": [
    "#clf0=RandomForestClassifier(n_estimators=1000,class_weight='balanced_subsample',criterion='entropy')"
   ]
  },
  {
   "cell_type": "code",
   "execution_count": 3,
   "metadata": {},
   "outputs": [],
   "source": [
    "clf0 = SVC(class_weight=\"balanced\")"
   ]
  },
  {
   "cell_type": "code",
   "execution_count": 5,
   "metadata": {},
   "outputs": [
    {
     "name": "stderr",
     "output_type": "stream",
     "text": [
      "c:\\Users\\dstek\\Documents\\ECE479\\fml_lib.py:319: FutureWarning: Series.__getitem__ treating keys as positions is deprecated. In a future version, integer keys will always be treated as labels (consistent with DataFrame behavior). To access a value by position, use `ser.iloc[pos]`\n",
      "  maxT1Idx=self.t1.index.searchsorted(self.t1[test_indices].max())\n"
     ]
    }
   ],
   "source": [
    "output = fml_lib.clfHyperFit(feat = trnsx, lbl=cont['bin'], t1=cont['t1'], param_grid={'C':[1E2,1E-1,1,10,100],'gamma':[1E-2,1E-1,1,10,100]}, \n",
    "                    cv=10, pipe_clf=clf0)"
   ]
  },
  {
   "cell_type": "code",
   "execution_count": 7,
   "metadata": {},
   "outputs": [
    {
     "name": "stdout",
     "output_type": "stream",
     "text": [
      "SVC(C=10, class_weight='balanced', gamma=0.1)\n"
     ]
    }
   ],
   "source": [
    "print(output)\n",
    "optimal_svc = output"
   ]
  },
  {
   "cell_type": "markdown",
   "metadata": {},
   "source": [
    "Q: How many nodes in the grid?\n",
    "A: 25, 5x5 grid with 5 C values and 5 gamma values\n",
    "\n",
    "Q: How long to find the solution?\n",
    "A: 6 minutes\n",
    "\n",
    "Q: How can you access the optimal result?\n",
    "A: Just access the returned best estimator\n",
    "\n",
    "Q: What is the CV score of the optimal parameter combination?\n",
    "A: See below"
   ]
  },
  {
   "cell_type": "code",
   "execution_count": 12,
   "metadata": {},
   "outputs": [],
   "source": [
    "optimal_bagging = BaggingClassifier(estimator=optimal_svc, n_estimators=10)\n"
   ]
  },
  {
   "cell_type": "code",
   "execution_count": 13,
   "metadata": {},
   "outputs": [
    {
     "name": "stderr",
     "output_type": "stream",
     "text": [
      "c:\\Users\\dstek\\Documents\\ECE479\\fml_lib.py:319: FutureWarning: Series.__getitem__ treating keys as positions is deprecated. In a future version, integer keys will always be treated as labels (consistent with DataFrame behavior). To access a value by position, use `ser.iloc[pos]`\n",
      "  maxT1Idx=self.t1.index.searchsorted(self.t1[test_indices].max())\n",
      "c:\\Users\\dstek\\Documents\\ECE479\\fml_lib.py:319: FutureWarning: Series.__getitem__ treating keys as positions is deprecated. In a future version, integer keys will always be treated as labels (consistent with DataFrame behavior). To access a value by position, use `ser.iloc[pos]`\n",
      "  maxT1Idx=self.t1.index.searchsorted(self.t1[test_indices].max())\n",
      "c:\\Users\\dstek\\Documents\\ECE479\\fml_lib.py:319: FutureWarning: Series.__getitem__ treating keys as positions is deprecated. In a future version, integer keys will always be treated as labels (consistent with DataFrame behavior). To access a value by position, use `ser.iloc[pos]`\n",
      "  maxT1Idx=self.t1.index.searchsorted(self.t1[test_indices].max())\n",
      "c:\\Users\\dstek\\Documents\\ECE479\\fml_lib.py:319: FutureWarning: Series.__getitem__ treating keys as positions is deprecated. In a future version, integer keys will always be treated as labels (consistent with DataFrame behavior). To access a value by position, use `ser.iloc[pos]`\n",
      "  maxT1Idx=self.t1.index.searchsorted(self.t1[test_indices].max())\n",
      "c:\\Users\\dstek\\Documents\\ECE479\\fml_lib.py:319: FutureWarning: Series.__getitem__ treating keys as positions is deprecated. In a future version, integer keys will always be treated as labels (consistent with DataFrame behavior). To access a value by position, use `ser.iloc[pos]`\n",
      "  maxT1Idx=self.t1.index.searchsorted(self.t1[test_indices].max())\n",
      "c:\\Users\\dstek\\Documents\\ECE479\\fml_lib.py:319: FutureWarning: Series.__getitem__ treating keys as positions is deprecated. In a future version, integer keys will always be treated as labels (consistent with DataFrame behavior). To access a value by position, use `ser.iloc[pos]`\n",
      "  maxT1Idx=self.t1.index.searchsorted(self.t1[test_indices].max())\n",
      "c:\\Users\\dstek\\Documents\\ECE479\\fml_lib.py:319: FutureWarning: Series.__getitem__ treating keys as positions is deprecated. In a future version, integer keys will always be treated as labels (consistent with DataFrame behavior). To access a value by position, use `ser.iloc[pos]`\n",
      "  maxT1Idx=self.t1.index.searchsorted(self.t1[test_indices].max())\n",
      "c:\\Users\\dstek\\Documents\\ECE479\\fml_lib.py:319: FutureWarning: Series.__getitem__ treating keys as positions is deprecated. In a future version, integer keys will always be treated as labels (consistent with DataFrame behavior). To access a value by position, use `ser.iloc[pos]`\n",
      "  maxT1Idx=self.t1.index.searchsorted(self.t1[test_indices].max())\n",
      "c:\\Users\\dstek\\Documents\\ECE479\\fml_lib.py:319: FutureWarning: Series.__getitem__ treating keys as positions is deprecated. In a future version, integer keys will always be treated as labels (consistent with DataFrame behavior). To access a value by position, use `ser.iloc[pos]`\n",
      "  maxT1Idx=self.t1.index.searchsorted(self.t1[test_indices].max())\n",
      "c:\\Users\\dstek\\Documents\\ECE479\\fml_lib.py:319: FutureWarning: Series.__getitem__ treating keys as positions is deprecated. In a future version, integer keys will always be treated as labels (consistent with DataFrame behavior). To access a value by position, use `ser.iloc[pos]`\n",
      "  maxT1Idx=self.t1.index.searchsorted(self.t1[test_indices].max())\n"
     ]
    }
   ],
   "source": [
    "optimal_cv_score = fml_lib.cvScore(optimal_bagging, trnsx,y=cont['bin'], sample_weight=cont['w'], t1=cont['t1'], cv=10,pctEmbargo=0.01)"
   ]
  },
  {
   "cell_type": "code",
   "execution_count": 14,
   "metadata": {},
   "outputs": [
    {
     "name": "stdout",
     "output_type": "stream",
     "text": [
      "[-0.58025694 -0.42681389 -0.70204515 -0.47122623 -0.86318201 -4.73012604\n",
      " -2.36216205 -1.17059664 -0.93990169 -0.70316843]\n"
     ]
    }
   ],
   "source": [
    "print(optimal_cv_score)"
   ]
  },
  {
   "cell_type": "markdown",
   "metadata": {},
   "source": [
    "EXERCISE 2"
   ]
  },
  {
   "cell_type": "code",
   "execution_count": 5,
   "metadata": {},
   "outputs": [
    {
     "name": "stderr",
     "output_type": "stream",
     "text": [
      "c:\\Users\\dstek\\Documents\\ECE479\\fml_lib.py:320: FutureWarning: Series.__getitem__ treating keys as positions is deprecated. In a future version, integer keys will always be treated as labels (consistent with DataFrame behavior). To access a value by position, use `ser.iloc[pos]`\n",
      "  maxT1Idx=self.t1.index.searchsorted(self.t1[test_indices].max())\n"
     ]
    }
   ],
   "source": [
    "randomized_output = fml_lib.clfHyperFit(feat = trnsx, lbl=cont['bin'], t1=cont['t1'], param_grid={'C':fml_lib.logUniform(a=1E-2,b=\n",
    "1E2),'gamma':fml_lib.logUniform(a=1E-2,b=1E2)}, cv=10,rndSearchIter=25, pipe_clf=clf0)"
   ]
  },
  {
   "cell_type": "code",
   "execution_count": 7,
   "metadata": {},
   "outputs": [
    {
     "name": "stdout",
     "output_type": "stream",
     "text": [
      "SVC(C=21.803475333669212, class_weight='balanced', gamma=0.15344702944155653)\n"
     ]
    }
   ],
   "source": [
    "print(randomized_output)\n",
    "optimal_random_svc = randomized_output"
   ]
  },
  {
   "cell_type": "markdown",
   "metadata": {},
   "source": [
    "Q: How long did it take to find this solution?\n",
    "A: 3 minutes\n",
    "\n",
    "Q: Is the optimal parameter combination similar to the one found in exercise 1?\n",
    "A: The gamma is close but the C is two times higher"
   ]
  },
  {
   "cell_type": "markdown",
   "metadata": {},
   "source": [
    "What is the CV score of the optimal parameter combination?"
   ]
  },
  {
   "cell_type": "code",
   "execution_count": 8,
   "metadata": {},
   "outputs": [
    {
     "name": "stderr",
     "output_type": "stream",
     "text": [
      "c:\\Users\\dstek\\Documents\\ECE479\\fml_lib.py:320: FutureWarning: Series.__getitem__ treating keys as positions is deprecated. In a future version, integer keys will always be treated as labels (consistent with DataFrame behavior). To access a value by position, use `ser.iloc[pos]`\n",
      "  maxT1Idx=self.t1.index.searchsorted(self.t1[test_indices].max())\n",
      "c:\\Users\\dstek\\Documents\\ECE479\\fml_lib.py:320: FutureWarning: Series.__getitem__ treating keys as positions is deprecated. In a future version, integer keys will always be treated as labels (consistent with DataFrame behavior). To access a value by position, use `ser.iloc[pos]`\n",
      "  maxT1Idx=self.t1.index.searchsorted(self.t1[test_indices].max())\n",
      "c:\\Users\\dstek\\Documents\\ECE479\\fml_lib.py:320: FutureWarning: Series.__getitem__ treating keys as positions is deprecated. In a future version, integer keys will always be treated as labels (consistent with DataFrame behavior). To access a value by position, use `ser.iloc[pos]`\n",
      "  maxT1Idx=self.t1.index.searchsorted(self.t1[test_indices].max())\n",
      "c:\\Users\\dstek\\Documents\\ECE479\\fml_lib.py:320: FutureWarning: Series.__getitem__ treating keys as positions is deprecated. In a future version, integer keys will always be treated as labels (consistent with DataFrame behavior). To access a value by position, use `ser.iloc[pos]`\n",
      "  maxT1Idx=self.t1.index.searchsorted(self.t1[test_indices].max())\n",
      "c:\\Users\\dstek\\Documents\\ECE479\\fml_lib.py:320: FutureWarning: Series.__getitem__ treating keys as positions is deprecated. In a future version, integer keys will always be treated as labels (consistent with DataFrame behavior). To access a value by position, use `ser.iloc[pos]`\n",
      "  maxT1Idx=self.t1.index.searchsorted(self.t1[test_indices].max())\n",
      "c:\\Users\\dstek\\Documents\\ECE479\\fml_lib.py:320: FutureWarning: Series.__getitem__ treating keys as positions is deprecated. In a future version, integer keys will always be treated as labels (consistent with DataFrame behavior). To access a value by position, use `ser.iloc[pos]`\n",
      "  maxT1Idx=self.t1.index.searchsorted(self.t1[test_indices].max())\n",
      "c:\\Users\\dstek\\Documents\\ECE479\\fml_lib.py:320: FutureWarning: Series.__getitem__ treating keys as positions is deprecated. In a future version, integer keys will always be treated as labels (consistent with DataFrame behavior). To access a value by position, use `ser.iloc[pos]`\n",
      "  maxT1Idx=self.t1.index.searchsorted(self.t1[test_indices].max())\n",
      "c:\\Users\\dstek\\Documents\\ECE479\\fml_lib.py:320: FutureWarning: Series.__getitem__ treating keys as positions is deprecated. In a future version, integer keys will always be treated as labels (consistent with DataFrame behavior). To access a value by position, use `ser.iloc[pos]`\n",
      "  maxT1Idx=self.t1.index.searchsorted(self.t1[test_indices].max())\n",
      "c:\\Users\\dstek\\Documents\\ECE479\\fml_lib.py:320: FutureWarning: Series.__getitem__ treating keys as positions is deprecated. In a future version, integer keys will always be treated as labels (consistent with DataFrame behavior). To access a value by position, use `ser.iloc[pos]`\n",
      "  maxT1Idx=self.t1.index.searchsorted(self.t1[test_indices].max())\n",
      "c:\\Users\\dstek\\Documents\\ECE479\\fml_lib.py:320: FutureWarning: Series.__getitem__ treating keys as positions is deprecated. In a future version, integer keys will always be treated as labels (consistent with DataFrame behavior). To access a value by position, use `ser.iloc[pos]`\n",
      "  maxT1Idx=self.t1.index.searchsorted(self.t1[test_indices].max())\n"
     ]
    }
   ],
   "source": [
    "randomized_optimal_bagging = BaggingClassifier(estimator=optimal_random_svc, n_estimators=10)\n",
    "randomized_optimal_cv = fml_lib.cvScore(randomized_optimal_bagging, trnsx,y=cont['bin'], sample_weight=cont['w'], t1=cont['t1'], cv=10,pctEmbargo=0.01)"
   ]
  },
  {
   "cell_type": "code",
   "execution_count": 9,
   "metadata": {},
   "outputs": [
    {
     "name": "stdout",
     "output_type": "stream",
     "text": [
      "[ -0.87545265  -0.37728134  -4.10269607 -21.70985894 -13.72144511\n",
      "  -9.44575185 -11.97857034  -4.74748184  -1.88843861  -1.49195904]\n"
     ]
    }
   ],
   "source": [
    "print(randomized_optimal_cv)"
   ]
  },
  {
   "cell_type": "markdown",
   "metadata": {},
   "source": [
    "The values for this CV are substantially worse than for the CV in exercise 1"
   ]
  }
 ],
 "metadata": {
  "kernelspec": {
   "display_name": "Python 3",
   "language": "python",
   "name": "python3"
  },
  "language_info": {
   "codemirror_mode": {
    "name": "ipython",
    "version": 3
   },
   "file_extension": ".py",
   "mimetype": "text/x-python",
   "name": "python",
   "nbconvert_exporter": "python",
   "pygments_lexer": "ipython3",
   "version": "3.11.8"
  }
 },
 "nbformat": 4,
 "nbformat_minor": 2
}
