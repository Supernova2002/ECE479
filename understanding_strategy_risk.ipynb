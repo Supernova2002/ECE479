{
 "cells": [
  {
   "cell_type": "code",
   "execution_count": 51,
   "metadata": {},
   "outputs": [],
   "source": [
    "import fml_lib\n",
    "import numpy as np\n",
    "import pandas as pd\n",
    "import scipy.stats as ss\n",
    "from math import sqrt, exp, log\n",
    "import matplotlib.pyplot as plt"
   ]
  },
  {
   "cell_type": "markdown",
   "metadata": {},
   "source": [
    "Exercise 1: A portfolio manager intends to launch a strategy that targets an annualized SR of 2. Bets have a precision rate of 60%, with weekly frequency. The exit conditions are 2% for profit-taking, and –2% for stop-loss.\n"
   ]
  },
  {
   "cell_type": "code",
   "execution_count": 52,
   "metadata": {},
   "outputs": [],
   "source": [
    "def mixGaussians(mu1,mu2,sigma1,sigma2,prob1,nObs):\n",
    "    # Random draws from a mixture of gaussians\n",
    "    ret1=np.random.normal(mu1,sigma1,size=int(nObs*prob1))\n",
    "    ret2=np.random.normal(mu2,sigma2,size=int(nObs)-ret1.shape[0])\n",
    "    ret=np.append(ret1,ret2,axis=0)\n",
    "    np.random.shuffle(ret)\n",
    "    return ret\n",
    "\n",
    "def binHR(sl,pt,freq,tSR):\n",
    "    '''\n",
    "    Given a trading rule characterized by the parameters {sl,pt,freq},\n",
    "    what's the min precision p required to achieve a Sharpe ratio tSR?\n",
    "    1) Inputs\n",
    "    \n",
    "    sl: stop loss threshold\n",
    "    pt: profit taking threshold\n",
    "    freq: number of bets per year\n",
    "    tSR: target annual Sharpe ratio\n",
    "    2) Output\n",
    "    p: the min precision rate p required to achieve tSR\n",
    "    '''\n",
    "    a=(freq+tSR**2)*(pt-sl)**2\n",
    "    b=(2*freq*sl-tSR**2*(pt-sl))*(pt-sl)\n",
    "    c=freq*sl**2\n",
    "    p=(-b+(b**2-4*a*c)**.5)/(2.*a)\n",
    "    return p\n",
    "\n",
    "def binSR(sl,pt,p,freq):\n",
    "    '''\n",
    "    Given a trading rule characterized by the parameters {sl,pt,p,freq},\n",
    "    what's estimate sharpe ratio?\\\n",
    "    1) Inputs\n",
    "    sl: stop loss threshold\n",
    "    pt: profit taking threshold\n",
    "    p: precision rate p\n",
    "    freq: number of bets per year\n",
    "    2) Output\n",
    "    SR: estimated sharpe ratio\n",
    "\n",
    "    '''\n",
    "\n",
    "    sr = np.sqrt(freq)*((pt-sl)*p+sl)/((pt-sl)*(np.sqrt(p*(1-p)))) \n",
    "    return sr\n",
    "\n",
    "\n",
    "def binFreq(sl,pt,p,tSR):\n",
    "    '''\n",
    "    Given a trading rule characterized by the parameters {sl,pt,freq},\n",
    "    what's the number of bets/year needed to achieve a Sharpe ratio\n",
    "    tSR with precision rate p?\n",
    "    Note: Equation with radicals, check for extraneous solution.\n",
    "    1) Inputs\n",
    "    sl: stop loss threshold\n",
    "    pt: profit taking threshold\n",
    "    p: precision rate p\n",
    "    tSR: target annual Sharpe ratio\n",
    "    2) Output\n",
    "    freq: number of bets per year needed\n",
    "\n",
    "    '''\n",
    "\n",
    "    freq=(tSR*(pt-sl))**2*p*(1-p)/((pt-sl)*p+sl)**2 # possible extraneous\n",
    "    if not np.isclose(binSR(sl,pt,p,freq),tSR):\n",
    "        return\n",
    "    return freq\n",
    "\n",
    "def binPT(sl,p,freq,tSR):\n",
    "    pt = (sl)/(-p+(np.sqrt(p*(1-p))*tSR/np.sqrt(freq))) + sl\n",
    "    return pt\n",
    "\n",
    "def binSL(pt,p,freq,tSR):\n",
    "    sl = pt/(1+(1/(-p+np.sqrt(p*(1-p))*tSR/np.sqrt(freq))))\n",
    "    return sl\n",
    "\n",
    "\n",
    "def probFailure(ret,freq,tSR):\n",
    "    # Derive probability that strategy may fail\n",
    "    rPos,rNeg=ret[ret>0].mean(),ret[ret<=0].mean()\n",
    "    p=ret[ret>0].shape[0]/float(ret.shape[0])\n",
    "    thresP=binHR(rNeg,rPos,freq,tSR)\n",
    "    risk=ss.norm.cdf(thresP,p,p*(1-p)) # approximation to bootstrap\n",
    "    return risk"
   ]
  },
  {
   "cell_type": "code",
   "execution_count": 53,
   "metadata": {},
   "outputs": [
    {
     "name": "stdout",
     "output_type": "stream",
     "text": [
      "Minimum precision required for a viable strategy is 0.5\n"
     ]
    }
   ],
   "source": [
    "pt,sl = 0.02,-0.02 # profit taking and stop loss conditions\n",
    "n = 52 # frequency is weekly, so there will be 52 trades per year\n",
    "p = 0.6 # precision is 60%\n",
    "\n",
    "min_p = binHR(sl, pt, n, 0)\n",
    "print(f\"Minimum precision required for a viable strategy is {min_p}\")"
   ]
  },
  {
   "cell_type": "markdown",
   "metadata": {},
   "source": [
    "1.a: Is this strategy viable?\n",
    "A: Yes, the minimum precision required to not lose money is 0.5 but the strategy has a precision of 0.6\n",
    "\n",
    "1.b: Ceteris paribus, what is the required precision rate that would make the\n",
    "strategy profitable?\n",
    "A: Any precision rate above 0.5 would make the strategy profitable\n",
    "\n",
    "1.c:  For what betting frequency is the target achievable?\n",
    "A: See below"
   ]
  },
  {
   "cell_type": "code",
   "execution_count": 54,
   "metadata": {},
   "outputs": [
    {
     "name": "stdout",
     "output_type": "stream",
     "text": [
      "Minimum frequency needed for a target Sharpe ratio of 2 is 96.0\n"
     ]
    }
   ],
   "source": [
    "tSR = 2\n",
    "min_freq = binFreq(sl,pt,p,2)\n",
    "print(f\"Minimum frequency needed for a target Sharpe ratio of {tSR} is {min_freq}\")"
   ]
  },
  {
   "cell_type": "markdown",
   "metadata": {},
   "source": [
    "1.d: For what profit taking threshold is the target achievable?\n",
    "A: See below"
   ]
  },
  {
   "cell_type": "code",
   "execution_count": 55,
   "metadata": {},
   "outputs": [
    {
     "name": "stdout",
     "output_type": "stream",
     "text": [
      "The minimum profit taking threshold for the target SR 2 is 0.023091676456151216\n"
     ]
    }
   ],
   "source": [
    "min_pt = binPT(sl,p,n,tSR)\n",
    "print(f\"The minimum profit taking threshold for the target SR {tSR} is {min_pt}\")"
   ]
  },
  {
   "cell_type": "markdown",
   "metadata": {},
   "source": [
    "1.e: What would be an alternative stop loss?\n",
    "A: See below"
   ]
  },
  {
   "cell_type": "code",
   "execution_count": 56,
   "metadata": {},
   "outputs": [
    {
     "name": "stdout",
     "output_type": "stream",
     "text": [
      "The minimum stop loss threshold for the target SR 2 is -0.017322258986243816\n"
     ]
    }
   ],
   "source": [
    "min_sl = binSL(pt,p,n,tSR)\n",
    "print(f\"The minimum stop loss threshold for the target SR {tSR} is {min_sl}\")"
   ]
  }
 ],
 "metadata": {
  "kernelspec": {
   "display_name": "Python 3",
   "language": "python",
   "name": "python3"
  },
  "language_info": {
   "codemirror_mode": {
    "name": "ipython",
    "version": 3
   },
   "file_extension": ".py",
   "mimetype": "text/x-python",
   "name": "python",
   "nbconvert_exporter": "python",
   "pygments_lexer": "ipython3",
   "version": "3.11.8"
  }
 },
 "nbformat": 4,
 "nbformat_minor": 2
}
