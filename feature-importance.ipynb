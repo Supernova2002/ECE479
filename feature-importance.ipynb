{
 "cells": [
  {
   "cell_type": "markdown",
   "metadata": {},
   "source": [
    "EXERCISE 1"
   ]
  },
  {
   "cell_type": "code",
   "execution_count": 1,
   "metadata": {},
   "outputs": [],
   "source": [
    "import fml_lib\n",
    "import numpy as np\n",
    "import pandas as pd\n",
    "from sklearn.ensemble import RandomForestClassifier, BaggingClassifier\n",
    "from sklearn.tree import DecisionTreeClassifier"
   ]
  },
  {
   "cell_type": "markdown",
   "metadata": {},
   "source": [
    "(A) Generate a dataset (X,Y)"
   ]
  },
  {
   "cell_type": "code",
   "execution_count": 2,
   "metadata": {},
   "outputs": [
    {
     "name": "stdout",
     "output_type": "stream",
     "text": [
      "                 I_0       I_1       I_2       I_3       I_4       I_5  \\\n",
      "1985-10-24  2.843740  0.456554  0.171107 -4.511382  0.278990 -3.474726   \n",
      "1985-10-25  3.561541 -1.566097  3.342813 -1.938909  2.075749 -3.486711   \n",
      "1985-10-28  7.699248 -3.030124 -0.859302 -0.033351  1.113719 -0.877844   \n",
      "1985-10-29 -0.149801 -3.182187  2.695894  1.359997  2.992416 -0.417971   \n",
      "1985-10-30 -2.157903  0.046380  0.697217 -1.012036  1.856002 -2.311465   \n",
      "...              ...       ...       ...       ...       ...       ...   \n",
      "2024-02-15  2.489902 -0.523701  0.618210 -1.837222  1.905865  0.051481   \n",
      "2024-02-16 -0.742495  1.595855  2.173729  1.420993 -1.619853  1.952217   \n",
      "2024-02-19 -0.420406 -0.650531  3.524902 -0.608855 -0.823038  0.070312   \n",
      "2024-02-20 -0.697229 -1.974764  0.438944 -0.208492 -0.279182 -1.887733   \n",
      "2024-02-21 -3.142547 -4.576872 -1.192787  4.092471 -0.913382 -0.214720   \n",
      "\n",
      "                 I_6       I_7       I_8       I_9  ...      N_10      N_11  \\\n",
      "1985-10-24  2.955550  2.698865  1.542440  2.198168  ... -0.330515 -0.845502   \n",
      "1985-10-25  0.494908  0.309615  1.059439 -0.792433  ... -0.020384 -0.751467   \n",
      "1985-10-28  2.344033  4.089113  2.287786  0.611413  ...  0.744056  0.914181   \n",
      "1985-10-29 -1.214058  1.268313 -3.720913 -2.580578  ... -1.960632 -2.064914   \n",
      "1985-10-30  2.715493  0.444433 -1.921790 -2.472372  ... -0.841121  0.081347   \n",
      "...              ...       ...       ...       ...  ...       ...       ...   \n",
      "2024-02-15 -2.072887  1.133835  0.055833 -1.655887  ... -0.013532 -0.215027   \n",
      "2024-02-16 -2.131979 -2.340327 -1.629928  0.080561  ...  0.962720 -0.191763   \n",
      "2024-02-19 -1.619873 -1.560697 -0.939518 -1.471037  ... -0.176512  0.676007   \n",
      "2024-02-20 -1.931841 -1.163289 -0.111943 -0.732073  ...  1.179474 -0.825594   \n",
      "2024-02-21 -2.212020 -1.341850 -0.225639 -1.141243  ...  0.772330  2.041646   \n",
      "\n",
      "                N_12      N_13      N_14      N_15      N_16      N_17  \\\n",
      "1985-10-24 -1.477466  1.217536  0.304644  1.557365  0.202843  0.160110   \n",
      "1985-10-25  0.212077  0.285038  0.125461  0.203534 -0.376495 -0.938780   \n",
      "1985-10-28  1.586483  0.692802 -0.953431  0.679360  0.565153  0.219302   \n",
      "1985-10-29  1.258648 -1.031856  0.645146 -0.063900  0.305844  0.371489   \n",
      "1985-10-30 -2.587682 -0.416436 -1.077859 -0.428086 -0.183735 -0.434254   \n",
      "...              ...       ...       ...       ...       ...       ...   \n",
      "2024-02-15  0.869924 -0.932547  0.644979  0.175920  1.353286 -1.436413   \n",
      "2024-02-16  2.788231  0.055138  0.807920  0.457464  1.129258  0.273195   \n",
      "2024-02-19  0.878948  1.322274 -0.794662  0.646342  0.464202 -1.220561   \n",
      "2024-02-20 -0.419181  1.142775 -0.696596 -0.018242  0.090638  1.535604   \n",
      "2024-02-21  0.052423  1.953935 -1.333130 -1.097405  0.693821  1.509674   \n",
      "\n",
      "                N_18      N_19  \n",
      "1985-10-24  0.933805 -0.132272  \n",
      "1985-10-25 -0.142879  0.533263  \n",
      "1985-10-28 -1.110504 -1.086061  \n",
      "1985-10-29  3.218969  0.867178  \n",
      "1985-10-30 -2.124955 -0.709056  \n",
      "...              ...       ...  \n",
      "2024-02-15 -0.741075  1.054140  \n",
      "2024-02-16  1.419955 -1.095283  \n",
      "2024-02-19  0.101444  0.455718  \n",
      "2024-02-20 -0.857168  0.433795  \n",
      "2024-02-21  1.064864  1.006815  \n",
      "\n",
      "[10000 rows x 40 columns]\n"
     ]
    }
   ],
   "source": [
    "trnsx, cont = fml_lib.getTestData()\n",
    "print(trnsx)"
   ]
  },
  {
   "cell_type": "markdown",
   "metadata": {},
   "source": [
    "Apply a PCA transformation on X, which we denote X"
   ]
  },
  {
   "cell_type": "code",
   "execution_count": 3,
   "metadata": {},
   "outputs": [
    {
     "name": "stdout",
     "output_type": "stream",
     "text": [
      "PC_1     47506.804695\n",
      "PC_2     38304.416414\n",
      "PC_3     27883.168746\n",
      "PC_4     22489.345087\n",
      "PC_5     20166.284638\n",
      "PC_6     13674.743385\n",
      "PC_7     10775.040275\n",
      "PC_8     10691.003143\n",
      "PC_9     10528.944072\n",
      "PC_10    10483.781609\n",
      "PC_11    10414.843883\n",
      "PC_12    10307.445188\n",
      "PC_13    10256.768181\n",
      "PC_14    10196.970263\n",
      "PC_15    10059.600898\n",
      "PC_16     9965.922620\n",
      "PC_17     9927.728901\n",
      "PC_18     9876.939383\n",
      "PC_19     9816.047475\n",
      "PC_20     9763.570866\n",
      "PC_21     9714.659048\n",
      "PC_22     9605.791428\n",
      "PC_23     9529.959404\n",
      "PC_24     9494.669071\n",
      "PC_25     9458.141239\n",
      "PC_26     9290.864989\n",
      "PC_27     9070.507970\n",
      "PC_28     8515.656103\n",
      "dtype: float64\n",
      "[[-2.24734596  3.2895647   1.36730088 ...  0.80134906 -0.82860726\n",
      "   1.12123032]\n",
      " [-0.95698173 -0.37007673  0.07001569 ... -1.17680402  0.59320407\n",
      "  -0.35447771]\n",
      " [-4.43207955  2.69058452 -1.4755413  ... -0.22618304 -2.39890832\n",
      "   0.38557802]\n",
      " ...\n",
      " [ 1.45863035 -2.4873742   1.32301814 ... -1.22183476 -0.54494383\n",
      "  -0.80190853]\n",
      " [ 1.70991626 -0.74537056 -0.79932665 ... -0.95630251  0.1194753\n",
      "  -0.28619526]\n",
      " [ 3.79564957 -1.5753885  -3.25473626 ... -0.41984798 -0.98844506\n",
      "  -0.76273127]]\n"
     ]
    }
   ],
   "source": [
    "dfP = fml_lib.orthoFeats(trnsx)\n",
    "print(dfP)"
   ]
  },
  {
   "cell_type": "code",
   "execution_count": 4,
   "metadata": {},
   "outputs": [],
   "source": [
    "dfP = pd.DataFrame(dfP,index = trnsx.index)\n",
    "dfP.columns = [(\"pc\" + str(i+1)) for i in dfP.columns]"
   ]
  },
  {
   "cell_type": "markdown",
   "metadata": {},
   "source": [
    "Compute MDI, MDA, and SFI feature importance on (X*, y) where the base estimator is RF"
   ]
  },
  {
   "cell_type": "code",
   "execution_count": 5,
   "metadata": {},
   "outputs": [],
   "source": [
    "#clf=DecisionTreeClassifier(criterion='entropy',max_features=1,class_weight='balanced',min_weight_fraction_leaf=0.)\n",
    "#clf=BaggingClassifier(estimator=clf,n_estimators=1000,max_features=1.,max_samples=1.,oob_score=True)\n",
    "#fit=clf.fit(X=dfP,y=cont['bin'],sample_weight=cont['w'].values)"
   ]
  },
  {
   "cell_type": "code",
   "execution_count": 7,
   "metadata": {},
   "outputs": [
    {
     "name": "stderr",
     "output_type": "stream",
     "text": [
      "c:\\Users\\David\\Classes\\ECE479\\fml_lib.py:316: FutureWarning: Series.__getitem__ treating keys as positions is deprecated. In a future version, integer keys will always be treated as labels (consistent with DataFrame behavior). To access a value by position, use `ser.iloc[pos]`\n",
      "  maxT1Idx=self.t1.index.searchsorted(self.t1[test_indices].max())\n",
      "c:\\Users\\David\\Classes\\ECE479\\fml_lib.py:316: FutureWarning: Series.__getitem__ treating keys as positions is deprecated. In a future version, integer keys will always be treated as labels (consistent with DataFrame behavior). To access a value by position, use `ser.iloc[pos]`\n",
      "  maxT1Idx=self.t1.index.searchsorted(self.t1[test_indices].max())\n",
      "c:\\Users\\David\\Classes\\ECE479\\fml_lib.py:316: FutureWarning: Series.__getitem__ treating keys as positions is deprecated. In a future version, integer keys will always be treated as labels (consistent with DataFrame behavior). To access a value by position, use `ser.iloc[pos]`\n",
      "  maxT1Idx=self.t1.index.searchsorted(self.t1[test_indices].max())\n",
      "c:\\Users\\David\\Classes\\ECE479\\fml_lib.py:316: FutureWarning: Series.__getitem__ treating keys as positions is deprecated. In a future version, integer keys will always be treated as labels (consistent with DataFrame behavior). To access a value by position, use `ser.iloc[pos]`\n",
      "  maxT1Idx=self.t1.index.searchsorted(self.t1[test_indices].max())\n",
      "c:\\Users\\David\\Classes\\ECE479\\fml_lib.py:316: FutureWarning: Series.__getitem__ treating keys as positions is deprecated. In a future version, integer keys will always be treated as labels (consistent with DataFrame behavior). To access a value by position, use `ser.iloc[pos]`\n",
      "  maxT1Idx=self.t1.index.searchsorted(self.t1[test_indices].max())\n",
      "c:\\Users\\David\\Classes\\ECE479\\fml_lib.py:316: FutureWarning: Series.__getitem__ treating keys as positions is deprecated. In a future version, integer keys will always be treated as labels (consistent with DataFrame behavior). To access a value by position, use `ser.iloc[pos]`\n",
      "  maxT1Idx=self.t1.index.searchsorted(self.t1[test_indices].max())\n",
      "c:\\Users\\David\\Classes\\ECE479\\fml_lib.py:316: FutureWarning: Series.__getitem__ treating keys as positions is deprecated. In a future version, integer keys will always be treated as labels (consistent with DataFrame behavior). To access a value by position, use `ser.iloc[pos]`\n",
      "  maxT1Idx=self.t1.index.searchsorted(self.t1[test_indices].max())\n",
      "c:\\Users\\David\\Classes\\ECE479\\fml_lib.py:316: FutureWarning: Series.__getitem__ treating keys as positions is deprecated. In a future version, integer keys will always be treated as labels (consistent with DataFrame behavior). To access a value by position, use `ser.iloc[pos]`\n",
      "  maxT1Idx=self.t1.index.searchsorted(self.t1[test_indices].max())\n",
      "c:\\Users\\David\\Classes\\ECE479\\fml_lib.py:316: FutureWarning: Series.__getitem__ treating keys as positions is deprecated. In a future version, integer keys will always be treated as labels (consistent with DataFrame behavior). To access a value by position, use `ser.iloc[pos]`\n",
      "  maxT1Idx=self.t1.index.searchsorted(self.t1[test_indices].max())\n",
      "c:\\Users\\David\\Classes\\ECE479\\fml_lib.py:316: FutureWarning: Series.__getitem__ treating keys as positions is deprecated. In a future version, integer keys will always be treated as labels (consistent with DataFrame behavior). To access a value by position, use `ser.iloc[pos]`\n",
      "  maxT1Idx=self.t1.index.searchsorted(self.t1[test_indices].max())\n"
     ]
    },
    {
     "name": "stdout",
     "output_type": "stream",
     "text": [
      "(          mean       std\n",
      "pc1   0.060219  0.000483\n",
      "pc2   0.047999  0.000317\n",
      "pc3   0.045072  0.000255\n",
      "pc4   0.063182  0.000507\n",
      "pc5   0.065251  0.000529\n",
      "pc6   0.041025  0.000225\n",
      "pc7   0.029470  0.000130\n",
      "pc8   0.029553  0.000131\n",
      "pc9   0.029484  0.000138\n",
      "pc10  0.029620  0.000136\n",
      "pc11  0.029435  0.000133\n",
      "pc12  0.029512  0.000132\n",
      "pc13  0.029870  0.000136\n",
      "pc14  0.029718  0.000136\n",
      "pc15  0.029608  0.000132\n",
      "pc16  0.029661  0.000134\n",
      "pc17  0.029869  0.000137\n",
      "pc18  0.029642  0.000143\n",
      "pc19  0.029681  0.000136\n",
      "pc20  0.029659  0.000139\n",
      "pc21  0.029965  0.000134\n",
      "pc22  0.029907  0.000138\n",
      "pc23  0.029794  0.000138\n",
      "pc24  0.029591  0.000131\n",
      "pc25  0.029654  0.000136\n",
      "pc26  0.030788  0.000143\n",
      "pc27  0.038621  0.000213\n",
      "pc28  0.044149  0.000268, 0.8246, 0.6347000000000002)\n"
     ]
    }
   ],
   "source": [
    "#mdi_imp = fml_lib.featImpMDI(fit, dfP.columns)\n",
    "mdi_imp = fml_lib.featImportance(dfP, cont, method='MDI')\n",
    "print(mdi_imp)"
   ]
  },
  {
   "cell_type": "code",
   "execution_count": 9,
   "metadata": {},
   "outputs": [
    {
     "name": "stderr",
     "output_type": "stream",
     "text": [
      "c:\\Users\\David\\Classes\\ECE479\\fml_lib.py:316: FutureWarning: Series.__getitem__ treating keys as positions is deprecated. In a future version, integer keys will always be treated as labels (consistent with DataFrame behavior). To access a value by position, use `ser.iloc[pos]`\n",
      "  maxT1Idx=self.t1.index.searchsorted(self.t1[test_indices].max())\n",
      "c:\\Users\\David\\Classes\\ECE479\\fml_lib.py:316: FutureWarning: Series.__getitem__ treating keys as positions is deprecated. In a future version, integer keys will always be treated as labels (consistent with DataFrame behavior). To access a value by position, use `ser.iloc[pos]`\n",
      "  maxT1Idx=self.t1.index.searchsorted(self.t1[test_indices].max())\n",
      "c:\\Users\\David\\Classes\\ECE479\\fml_lib.py:316: FutureWarning: Series.__getitem__ treating keys as positions is deprecated. In a future version, integer keys will always be treated as labels (consistent with DataFrame behavior). To access a value by position, use `ser.iloc[pos]`\n",
      "  maxT1Idx=self.t1.index.searchsorted(self.t1[test_indices].max())\n",
      "c:\\Users\\David\\Classes\\ECE479\\fml_lib.py:316: FutureWarning: Series.__getitem__ treating keys as positions is deprecated. In a future version, integer keys will always be treated as labels (consistent with DataFrame behavior). To access a value by position, use `ser.iloc[pos]`\n",
      "  maxT1Idx=self.t1.index.searchsorted(self.t1[test_indices].max())\n",
      "c:\\Users\\David\\Classes\\ECE479\\fml_lib.py:316: FutureWarning: Series.__getitem__ treating keys as positions is deprecated. In a future version, integer keys will always be treated as labels (consistent with DataFrame behavior). To access a value by position, use `ser.iloc[pos]`\n",
      "  maxT1Idx=self.t1.index.searchsorted(self.t1[test_indices].max())\n",
      "c:\\Users\\David\\Classes\\ECE479\\fml_lib.py:316: FutureWarning: Series.__getitem__ treating keys as positions is deprecated. In a future version, integer keys will always be treated as labels (consistent with DataFrame behavior). To access a value by position, use `ser.iloc[pos]`\n",
      "  maxT1Idx=self.t1.index.searchsorted(self.t1[test_indices].max())\n",
      "c:\\Users\\David\\Classes\\ECE479\\fml_lib.py:316: FutureWarning: Series.__getitem__ treating keys as positions is deprecated. In a future version, integer keys will always be treated as labels (consistent with DataFrame behavior). To access a value by position, use `ser.iloc[pos]`\n",
      "  maxT1Idx=self.t1.index.searchsorted(self.t1[test_indices].max())\n",
      "c:\\Users\\David\\Classes\\ECE479\\fml_lib.py:316: FutureWarning: Series.__getitem__ treating keys as positions is deprecated. In a future version, integer keys will always be treated as labels (consistent with DataFrame behavior). To access a value by position, use `ser.iloc[pos]`\n",
      "  maxT1Idx=self.t1.index.searchsorted(self.t1[test_indices].max())\n",
      "c:\\Users\\David\\Classes\\ECE479\\fml_lib.py:316: FutureWarning: Series.__getitem__ treating keys as positions is deprecated. In a future version, integer keys will always be treated as labels (consistent with DataFrame behavior). To access a value by position, use `ser.iloc[pos]`\n",
      "  maxT1Idx=self.t1.index.searchsorted(self.t1[test_indices].max())\n",
      "c:\\Users\\David\\Classes\\ECE479\\fml_lib.py:316: FutureWarning: Series.__getitem__ treating keys as positions is deprecated. In a future version, integer keys will always be treated as labels (consistent with DataFrame behavior). To access a value by position, use `ser.iloc[pos]`\n",
      "  maxT1Idx=self.t1.index.searchsorted(self.t1[test_indices].max())\n"
     ]
    }
   ],
   "source": [
    "mda_import = fml_lib.featImportance(dfP, cont, method='MDA')"
   ]
  },
  {
   "cell_type": "code",
   "execution_count": 10,
   "metadata": {},
   "outputs": [
    {
     "name": "stdout",
     "output_type": "stream",
     "text": [
      "(          mean       std\n",
      "pc1   0.047412  0.024955\n",
      "pc2   0.074373  0.023488\n",
      "pc3   0.081065  0.030896\n",
      "pc4   0.036652   0.02881\n",
      "pc5   0.090195  0.041269\n",
      "pc6   0.049471  0.024658\n",
      "pc7   0.002568  0.004654\n",
      "pc8   0.000345  0.002559\n",
      "pc9  -0.003122  0.004858\n",
      "pc10 -0.000912  0.004002\n",
      "pc11 -0.004352  0.003242\n",
      "pc12  0.005592  0.004684\n",
      "pc13  0.000214  0.004966\n",
      "pc14 -0.002993  0.005689\n",
      "pc15  0.001369  0.005957\n",
      "pc16 -0.004158  0.004159\n",
      "pc17 -0.001486  0.004953\n",
      "pc18  0.002748  0.003734\n",
      "pc19  0.003958  0.004325\n",
      "pc20 -0.001006  0.006194\n",
      "pc21  0.002501  0.002307\n",
      "pc22  0.002498    0.0042\n",
      "pc23  0.001421  0.002442\n",
      "pc24  0.001624  0.004693\n",
      "pc25 -0.005098  0.002795\n",
      "pc26  0.003428   0.00354\n",
      "pc27  0.036955  0.016189\n",
      "pc28  0.048562  0.023631, 0.8227, 0.6354)\n"
     ]
    }
   ],
   "source": [
    "print(mda_import)"
   ]
  },
  {
   "cell_type": "code",
   "execution_count": 12,
   "metadata": {},
   "outputs": [
    {
     "name": "stderr",
     "output_type": "stream",
     "text": [
      "c:\\Users\\David\\Classes\\ECE479\\fml_lib.py:316: FutureWarning: Series.__getitem__ treating keys as positions is deprecated. In a future version, integer keys will always be treated as labels (consistent with DataFrame behavior). To access a value by position, use `ser.iloc[pos]`\n",
      "  maxT1Idx=self.t1.index.searchsorted(self.t1[test_indices].max())\n",
      "c:\\Users\\David\\Classes\\ECE479\\fml_lib.py:316: FutureWarning: Series.__getitem__ treating keys as positions is deprecated. In a future version, integer keys will always be treated as labels (consistent with DataFrame behavior). To access a value by position, use `ser.iloc[pos]`\n",
      "  maxT1Idx=self.t1.index.searchsorted(self.t1[test_indices].max())\n",
      "c:\\Users\\David\\Classes\\ECE479\\fml_lib.py:316: FutureWarning: Series.__getitem__ treating keys as positions is deprecated. In a future version, integer keys will always be treated as labels (consistent with DataFrame behavior). To access a value by position, use `ser.iloc[pos]`\n",
      "  maxT1Idx=self.t1.index.searchsorted(self.t1[test_indices].max())\n",
      "c:\\Users\\David\\Classes\\ECE479\\fml_lib.py:316: FutureWarning: Series.__getitem__ treating keys as positions is deprecated. In a future version, integer keys will always be treated as labels (consistent with DataFrame behavior). To access a value by position, use `ser.iloc[pos]`\n",
      "  maxT1Idx=self.t1.index.searchsorted(self.t1[test_indices].max())\n",
      "c:\\Users\\David\\Classes\\ECE479\\fml_lib.py:316: FutureWarning: Series.__getitem__ treating keys as positions is deprecated. In a future version, integer keys will always be treated as labels (consistent with DataFrame behavior). To access a value by position, use `ser.iloc[pos]`\n",
      "  maxT1Idx=self.t1.index.searchsorted(self.t1[test_indices].max())\n",
      "c:\\Users\\David\\Classes\\ECE479\\fml_lib.py:316: FutureWarning: Series.__getitem__ treating keys as positions is deprecated. In a future version, integer keys will always be treated as labels (consistent with DataFrame behavior). To access a value by position, use `ser.iloc[pos]`\n",
      "  maxT1Idx=self.t1.index.searchsorted(self.t1[test_indices].max())\n",
      "c:\\Users\\David\\Classes\\ECE479\\fml_lib.py:316: FutureWarning: Series.__getitem__ treating keys as positions is deprecated. In a future version, integer keys will always be treated as labels (consistent with DataFrame behavior). To access a value by position, use `ser.iloc[pos]`\n",
      "  maxT1Idx=self.t1.index.searchsorted(self.t1[test_indices].max())\n",
      "c:\\Users\\David\\Classes\\ECE479\\fml_lib.py:316: FutureWarning: Series.__getitem__ treating keys as positions is deprecated. In a future version, integer keys will always be treated as labels (consistent with DataFrame behavior). To access a value by position, use `ser.iloc[pos]`\n",
      "  maxT1Idx=self.t1.index.searchsorted(self.t1[test_indices].max())\n",
      "c:\\Users\\David\\Classes\\ECE479\\fml_lib.py:316: FutureWarning: Series.__getitem__ treating keys as positions is deprecated. In a future version, integer keys will always be treated as labels (consistent with DataFrame behavior). To access a value by position, use `ser.iloc[pos]`\n",
      "  maxT1Idx=self.t1.index.searchsorted(self.t1[test_indices].max())\n",
      "c:\\Users\\David\\Classes\\ECE479\\fml_lib.py:316: FutureWarning: Series.__getitem__ treating keys as positions is deprecated. In a future version, integer keys will always be treated as labels (consistent with DataFrame behavior). To access a value by position, use `ser.iloc[pos]`\n",
      "  maxT1Idx=self.t1.index.searchsorted(self.t1[test_indices].max())\n",
      "c:\\Users\\David\\Classes\\ECE479\\fml_lib.py:316: FutureWarning: Series.__getitem__ treating keys as positions is deprecated. In a future version, integer keys will always be treated as labels (consistent with DataFrame behavior). To access a value by position, use `ser.iloc[pos]`\n",
      "  maxT1Idx=self.t1.index.searchsorted(self.t1[test_indices].max())\n",
      "c:\\Users\\David\\Classes\\ECE479\\fml_lib.py:316: FutureWarning: Series.__getitem__ treating keys as positions is deprecated. In a future version, integer keys will always be treated as labels (consistent with DataFrame behavior). To access a value by position, use `ser.iloc[pos]`\n",
      "  maxT1Idx=self.t1.index.searchsorted(self.t1[test_indices].max())\n",
      "c:\\Users\\David\\Classes\\ECE479\\fml_lib.py:316: FutureWarning: Series.__getitem__ treating keys as positions is deprecated. In a future version, integer keys will always be treated as labels (consistent with DataFrame behavior). To access a value by position, use `ser.iloc[pos]`\n",
      "  maxT1Idx=self.t1.index.searchsorted(self.t1[test_indices].max())\n",
      "c:\\Users\\David\\Classes\\ECE479\\fml_lib.py:316: FutureWarning: Series.__getitem__ treating keys as positions is deprecated. In a future version, integer keys will always be treated as labels (consistent with DataFrame behavior). To access a value by position, use `ser.iloc[pos]`\n",
      "  maxT1Idx=self.t1.index.searchsorted(self.t1[test_indices].max())\n",
      "c:\\Users\\David\\Classes\\ECE479\\fml_lib.py:316: FutureWarning: Series.__getitem__ treating keys as positions is deprecated. In a future version, integer keys will always be treated as labels (consistent with DataFrame behavior). To access a value by position, use `ser.iloc[pos]`\n",
      "  maxT1Idx=self.t1.index.searchsorted(self.t1[test_indices].max())\n",
      "c:\\Users\\David\\Classes\\ECE479\\fml_lib.py:316: FutureWarning: Series.__getitem__ treating keys as positions is deprecated. In a future version, integer keys will always be treated as labels (consistent with DataFrame behavior). To access a value by position, use `ser.iloc[pos]`\n",
      "  maxT1Idx=self.t1.index.searchsorted(self.t1[test_indices].max())\n",
      "c:\\Users\\David\\Classes\\ECE479\\fml_lib.py:316: FutureWarning: Series.__getitem__ treating keys as positions is deprecated. In a future version, integer keys will always be treated as labels (consistent with DataFrame behavior). To access a value by position, use `ser.iloc[pos]`\n",
      "  maxT1Idx=self.t1.index.searchsorted(self.t1[test_indices].max())\n",
      "c:\\Users\\David\\Classes\\ECE479\\fml_lib.py:316: FutureWarning: Series.__getitem__ treating keys as positions is deprecated. In a future version, integer keys will always be treated as labels (consistent with DataFrame behavior). To access a value by position, use `ser.iloc[pos]`\n",
      "  maxT1Idx=self.t1.index.searchsorted(self.t1[test_indices].max())\n",
      "c:\\Users\\David\\Classes\\ECE479\\fml_lib.py:316: FutureWarning: Series.__getitem__ treating keys as positions is deprecated. In a future version, integer keys will always be treated as labels (consistent with DataFrame behavior). To access a value by position, use `ser.iloc[pos]`\n",
      "  maxT1Idx=self.t1.index.searchsorted(self.t1[test_indices].max())\n",
      "c:\\Users\\David\\Classes\\ECE479\\fml_lib.py:316: FutureWarning: Series.__getitem__ treating keys as positions is deprecated. In a future version, integer keys will always be treated as labels (consistent with DataFrame behavior). To access a value by position, use `ser.iloc[pos]`\n",
      "  maxT1Idx=self.t1.index.searchsorted(self.t1[test_indices].max())\n",
      "c:\\Users\\David\\Classes\\ECE479\\fml_lib.py:316: FutureWarning: Series.__getitem__ treating keys as positions is deprecated. In a future version, integer keys will always be treated as labels (consistent with DataFrame behavior). To access a value by position, use `ser.iloc[pos]`\n",
      "  maxT1Idx=self.t1.index.searchsorted(self.t1[test_indices].max())\n",
      "c:\\Users\\David\\Classes\\ECE479\\fml_lib.py:316: FutureWarning: Series.__getitem__ treating keys as positions is deprecated. In a future version, integer keys will always be treated as labels (consistent with DataFrame behavior). To access a value by position, use `ser.iloc[pos]`\n",
      "  maxT1Idx=self.t1.index.searchsorted(self.t1[test_indices].max())\n",
      "c:\\Users\\David\\Classes\\ECE479\\fml_lib.py:316: FutureWarning: Series.__getitem__ treating keys as positions is deprecated. In a future version, integer keys will always be treated as labels (consistent with DataFrame behavior). To access a value by position, use `ser.iloc[pos]`\n",
      "  maxT1Idx=self.t1.index.searchsorted(self.t1[test_indices].max())\n",
      "c:\\Users\\David\\Classes\\ECE479\\fml_lib.py:316: FutureWarning: Series.__getitem__ treating keys as positions is deprecated. In a future version, integer keys will always be treated as labels (consistent with DataFrame behavior). To access a value by position, use `ser.iloc[pos]`\n",
      "  maxT1Idx=self.t1.index.searchsorted(self.t1[test_indices].max())\n",
      "c:\\Users\\David\\Classes\\ECE479\\fml_lib.py:316: FutureWarning: Series.__getitem__ treating keys as positions is deprecated. In a future version, integer keys will always be treated as labels (consistent with DataFrame behavior). To access a value by position, use `ser.iloc[pos]`\n",
      "  maxT1Idx=self.t1.index.searchsorted(self.t1[test_indices].max())\n",
      "c:\\Users\\David\\Classes\\ECE479\\fml_lib.py:316: FutureWarning: Series.__getitem__ treating keys as positions is deprecated. In a future version, integer keys will always be treated as labels (consistent with DataFrame behavior). To access a value by position, use `ser.iloc[pos]`\n",
      "  maxT1Idx=self.t1.index.searchsorted(self.t1[test_indices].max())\n",
      "c:\\Users\\David\\Classes\\ECE479\\fml_lib.py:316: FutureWarning: Series.__getitem__ treating keys as positions is deprecated. In a future version, integer keys will always be treated as labels (consistent with DataFrame behavior). To access a value by position, use `ser.iloc[pos]`\n",
      "  maxT1Idx=self.t1.index.searchsorted(self.t1[test_indices].max())\n",
      "c:\\Users\\David\\Classes\\ECE479\\fml_lib.py:316: FutureWarning: Series.__getitem__ treating keys as positions is deprecated. In a future version, integer keys will always be treated as labels (consistent with DataFrame behavior). To access a value by position, use `ser.iloc[pos]`\n",
      "  maxT1Idx=self.t1.index.searchsorted(self.t1[test_indices].max())\n",
      "c:\\Users\\David\\Classes\\ECE479\\fml_lib.py:316: FutureWarning: Series.__getitem__ treating keys as positions is deprecated. In a future version, integer keys will always be treated as labels (consistent with DataFrame behavior). To access a value by position, use `ser.iloc[pos]`\n",
      "  maxT1Idx=self.t1.index.searchsorted(self.t1[test_indices].max())\n",
      "c:\\Users\\David\\Classes\\ECE479\\fml_lib.py:316: FutureWarning: Series.__getitem__ treating keys as positions is deprecated. In a future version, integer keys will always be treated as labels (consistent with DataFrame behavior). To access a value by position, use `ser.iloc[pos]`\n",
      "  maxT1Idx=self.t1.index.searchsorted(self.t1[test_indices].max())\n",
      "c:\\Users\\David\\Classes\\ECE479\\fml_lib.py:316: FutureWarning: Series.__getitem__ treating keys as positions is deprecated. In a future version, integer keys will always be treated as labels (consistent with DataFrame behavior). To access a value by position, use `ser.iloc[pos]`\n",
      "  maxT1Idx=self.t1.index.searchsorted(self.t1[test_indices].max())\n",
      "c:\\Users\\David\\Classes\\ECE479\\fml_lib.py:316: FutureWarning: Series.__getitem__ treating keys as positions is deprecated. In a future version, integer keys will always be treated as labels (consistent with DataFrame behavior). To access a value by position, use `ser.iloc[pos]`\n",
      "  maxT1Idx=self.t1.index.searchsorted(self.t1[test_indices].max())\n",
      "c:\\Users\\David\\Classes\\ECE479\\fml_lib.py:316: FutureWarning: Series.__getitem__ treating keys as positions is deprecated. In a future version, integer keys will always be treated as labels (consistent with DataFrame behavior). To access a value by position, use `ser.iloc[pos]`\n",
      "  maxT1Idx=self.t1.index.searchsorted(self.t1[test_indices].max())\n",
      "c:\\Users\\David\\Classes\\ECE479\\fml_lib.py:316: FutureWarning: Series.__getitem__ treating keys as positions is deprecated. In a future version, integer keys will always be treated as labels (consistent with DataFrame behavior). To access a value by position, use `ser.iloc[pos]`\n",
      "  maxT1Idx=self.t1.index.searchsorted(self.t1[test_indices].max())\n",
      "c:\\Users\\David\\Classes\\ECE479\\fml_lib.py:316: FutureWarning: Series.__getitem__ treating keys as positions is deprecated. In a future version, integer keys will always be treated as labels (consistent with DataFrame behavior). To access a value by position, use `ser.iloc[pos]`\n",
      "  maxT1Idx=self.t1.index.searchsorted(self.t1[test_indices].max())\n",
      "c:\\Users\\David\\Classes\\ECE479\\fml_lib.py:316: FutureWarning: Series.__getitem__ treating keys as positions is deprecated. In a future version, integer keys will always be treated as labels (consistent with DataFrame behavior). To access a value by position, use `ser.iloc[pos]`\n",
      "  maxT1Idx=self.t1.index.searchsorted(self.t1[test_indices].max())\n",
      "c:\\Users\\David\\Classes\\ECE479\\fml_lib.py:316: FutureWarning: Series.__getitem__ treating keys as positions is deprecated. In a future version, integer keys will always be treated as labels (consistent with DataFrame behavior). To access a value by position, use `ser.iloc[pos]`\n",
      "  maxT1Idx=self.t1.index.searchsorted(self.t1[test_indices].max())\n",
      "c:\\Users\\David\\Classes\\ECE479\\fml_lib.py:316: FutureWarning: Series.__getitem__ treating keys as positions is deprecated. In a future version, integer keys will always be treated as labels (consistent with DataFrame behavior). To access a value by position, use `ser.iloc[pos]`\n",
      "  maxT1Idx=self.t1.index.searchsorted(self.t1[test_indices].max())\n",
      "c:\\Users\\David\\Classes\\ECE479\\fml_lib.py:316: FutureWarning: Series.__getitem__ treating keys as positions is deprecated. In a future version, integer keys will always be treated as labels (consistent with DataFrame behavior). To access a value by position, use `ser.iloc[pos]`\n",
      "  maxT1Idx=self.t1.index.searchsorted(self.t1[test_indices].max())\n",
      "c:\\Users\\David\\Classes\\ECE479\\fml_lib.py:316: FutureWarning: Series.__getitem__ treating keys as positions is deprecated. In a future version, integer keys will always be treated as labels (consistent with DataFrame behavior). To access a value by position, use `ser.iloc[pos]`\n",
      "  maxT1Idx=self.t1.index.searchsorted(self.t1[test_indices].max())\n",
      "c:\\Users\\David\\Classes\\ECE479\\fml_lib.py:316: FutureWarning: Series.__getitem__ treating keys as positions is deprecated. In a future version, integer keys will always be treated as labels (consistent with DataFrame behavior). To access a value by position, use `ser.iloc[pos]`\n",
      "  maxT1Idx=self.t1.index.searchsorted(self.t1[test_indices].max())\n",
      "c:\\Users\\David\\Classes\\ECE479\\fml_lib.py:316: FutureWarning: Series.__getitem__ treating keys as positions is deprecated. In a future version, integer keys will always be treated as labels (consistent with DataFrame behavior). To access a value by position, use `ser.iloc[pos]`\n",
      "  maxT1Idx=self.t1.index.searchsorted(self.t1[test_indices].max())\n",
      "c:\\Users\\David\\Classes\\ECE479\\fml_lib.py:316: FutureWarning: Series.__getitem__ treating keys as positions is deprecated. In a future version, integer keys will always be treated as labels (consistent with DataFrame behavior). To access a value by position, use `ser.iloc[pos]`\n",
      "  maxT1Idx=self.t1.index.searchsorted(self.t1[test_indices].max())\n",
      "c:\\Users\\David\\Classes\\ECE479\\fml_lib.py:316: FutureWarning: Series.__getitem__ treating keys as positions is deprecated. In a future version, integer keys will always be treated as labels (consistent with DataFrame behavior). To access a value by position, use `ser.iloc[pos]`\n",
      "  maxT1Idx=self.t1.index.searchsorted(self.t1[test_indices].max())\n",
      "c:\\Users\\David\\Classes\\ECE479\\fml_lib.py:316: FutureWarning: Series.__getitem__ treating keys as positions is deprecated. In a future version, integer keys will always be treated as labels (consistent with DataFrame behavior). To access a value by position, use `ser.iloc[pos]`\n",
      "  maxT1Idx=self.t1.index.searchsorted(self.t1[test_indices].max())\n",
      "c:\\Users\\David\\Classes\\ECE479\\fml_lib.py:316: FutureWarning: Series.__getitem__ treating keys as positions is deprecated. In a future version, integer keys will always be treated as labels (consistent with DataFrame behavior). To access a value by position, use `ser.iloc[pos]`\n",
      "  maxT1Idx=self.t1.index.searchsorted(self.t1[test_indices].max())\n",
      "c:\\Users\\David\\Classes\\ECE479\\fml_lib.py:316: FutureWarning: Series.__getitem__ treating keys as positions is deprecated. In a future version, integer keys will always be treated as labels (consistent with DataFrame behavior). To access a value by position, use `ser.iloc[pos]`\n",
      "  maxT1Idx=self.t1.index.searchsorted(self.t1[test_indices].max())\n",
      "c:\\Users\\David\\Classes\\ECE479\\fml_lib.py:316: FutureWarning: Series.__getitem__ treating keys as positions is deprecated. In a future version, integer keys will always be treated as labels (consistent with DataFrame behavior). To access a value by position, use `ser.iloc[pos]`\n",
      "  maxT1Idx=self.t1.index.searchsorted(self.t1[test_indices].max())\n",
      "c:\\Users\\David\\Classes\\ECE479\\fml_lib.py:316: FutureWarning: Series.__getitem__ treating keys as positions is deprecated. In a future version, integer keys will always be treated as labels (consistent with DataFrame behavior). To access a value by position, use `ser.iloc[pos]`\n",
      "  maxT1Idx=self.t1.index.searchsorted(self.t1[test_indices].max())\n",
      "c:\\Users\\David\\Classes\\ECE479\\fml_lib.py:316: FutureWarning: Series.__getitem__ treating keys as positions is deprecated. In a future version, integer keys will always be treated as labels (consistent with DataFrame behavior). To access a value by position, use `ser.iloc[pos]`\n",
      "  maxT1Idx=self.t1.index.searchsorted(self.t1[test_indices].max())\n",
      "c:\\Users\\David\\Classes\\ECE479\\fml_lib.py:316: FutureWarning: Series.__getitem__ treating keys as positions is deprecated. In a future version, integer keys will always be treated as labels (consistent with DataFrame behavior). To access a value by position, use `ser.iloc[pos]`\n",
      "  maxT1Idx=self.t1.index.searchsorted(self.t1[test_indices].max())\n",
      "c:\\Users\\David\\Classes\\ECE479\\fml_lib.py:316: FutureWarning: Series.__getitem__ treating keys as positions is deprecated. In a future version, integer keys will always be treated as labels (consistent with DataFrame behavior). To access a value by position, use `ser.iloc[pos]`\n",
      "  maxT1Idx=self.t1.index.searchsorted(self.t1[test_indices].max())\n",
      "c:\\Users\\David\\Classes\\ECE479\\fml_lib.py:316: FutureWarning: Series.__getitem__ treating keys as positions is deprecated. In a future version, integer keys will always be treated as labels (consistent with DataFrame behavior). To access a value by position, use `ser.iloc[pos]`\n",
      "  maxT1Idx=self.t1.index.searchsorted(self.t1[test_indices].max())\n",
      "c:\\Users\\David\\Classes\\ECE479\\fml_lib.py:316: FutureWarning: Series.__getitem__ treating keys as positions is deprecated. In a future version, integer keys will always be treated as labels (consistent with DataFrame behavior). To access a value by position, use `ser.iloc[pos]`\n",
      "  maxT1Idx=self.t1.index.searchsorted(self.t1[test_indices].max())\n",
      "c:\\Users\\David\\Classes\\ECE479\\fml_lib.py:316: FutureWarning: Series.__getitem__ treating keys as positions is deprecated. In a future version, integer keys will always be treated as labels (consistent with DataFrame behavior). To access a value by position, use `ser.iloc[pos]`\n",
      "  maxT1Idx=self.t1.index.searchsorted(self.t1[test_indices].max())\n",
      "c:\\Users\\David\\Classes\\ECE479\\fml_lib.py:316: FutureWarning: Series.__getitem__ treating keys as positions is deprecated. In a future version, integer keys will always be treated as labels (consistent with DataFrame behavior). To access a value by position, use `ser.iloc[pos]`\n",
      "  maxT1Idx=self.t1.index.searchsorted(self.t1[test_indices].max())\n"
     ]
    },
    {
     "ename": "KeyboardInterrupt",
     "evalue": "",
     "output_type": "error",
     "traceback": [
      "\u001b[1;31m---------------------------------------------------------------------------\u001b[0m",
      "\u001b[1;31mKeyboardInterrupt\u001b[0m                         Traceback (most recent call last)",
      "\u001b[1;32mc:\\Users\\David\\Classes\\ECE479\\feature-importance.ipynb Cell 13\u001b[0m line \u001b[0;36m1\n\u001b[1;32m----> <a href='vscode-notebook-cell:/c%3A/Users/David/Classes/ECE479/feature-importance.ipynb#X24sZmlsZQ%3D%3D?line=0'>1</a>\u001b[0m sfi_import \u001b[39m=\u001b[39m fml_lib\u001b[39m.\u001b[39;49mfeatImportance(dfP, cont, method\u001b[39m=\u001b[39;49m\u001b[39m'\u001b[39;49m\u001b[39mSFI\u001b[39;49m\u001b[39m'\u001b[39;49m)\n",
      "File \u001b[1;32mc:\\Users\\David\\Classes\\ECE479\\fml_lib.py:462\u001b[0m, in \u001b[0;36mfeatImportance\u001b[1;34m(trnsX, cont, n_estimators, cv, max_samples, pctEmbargo, scoring, method, minWLeaf, **kargs)\u001b[0m\n\u001b[0;32m    459\u001b[0m     oos\u001b[39m=\u001b[39mcvScore(clf,X\u001b[39m=\u001b[39mtrnsX,y\u001b[39m=\u001b[39mcont[\u001b[39m'\u001b[39m\u001b[39mbin\u001b[39m\u001b[39m'\u001b[39m],sample_weight\u001b[39m=\u001b[39mcont[\u001b[39m'\u001b[39m\u001b[39mw\u001b[39m\u001b[39m'\u001b[39m],scoring\u001b[39m=\u001b[39mscoring,\n\u001b[0;32m    460\u001b[0m     cvGen\u001b[39m=\u001b[39mcvGen)\u001b[39m.\u001b[39mmean()\n\u001b[0;32m    461\u001b[0m     clf\u001b[39m.\u001b[39mn_jobs\u001b[39m=\u001b[39m\u001b[39m1\u001b[39m \u001b[39m# paralellize auxFeatImpSFI rather than clf\u001b[39;00m\n\u001b[1;32m--> 462\u001b[0m     imp\u001b[39m=\u001b[39mauxFeatImpSFI(featNames\u001b[39m=\u001b[39;49mtrnsX\u001b[39m.\u001b[39;49mcolumns, clf\u001b[39m=\u001b[39;49mclf,trnsX\u001b[39m=\u001b[39;49mtrnsX,cont\u001b[39m=\u001b[39;49mcont,scoring\u001b[39m=\u001b[39;49mscoring,cvGen\u001b[39m=\u001b[39;49mcvGen)\n\u001b[0;32m    463\u001b[0m \u001b[39mreturn\u001b[39;00m imp,oob,oos\n",
      "File \u001b[1;32mc:\\Users\\David\\Classes\\ECE479\\fml_lib.py:437\u001b[0m, in \u001b[0;36mauxFeatImpSFI\u001b[1;34m(featNames, clf, trnsX, cont, scoring, cvGen)\u001b[0m\n\u001b[0;32m    435\u001b[0m imp\u001b[39m=\u001b[39mpd\u001b[39m.\u001b[39mDataFrame(columns\u001b[39m=\u001b[39m[\u001b[39m'\u001b[39m\u001b[39mmean\u001b[39m\u001b[39m'\u001b[39m,\u001b[39m'\u001b[39m\u001b[39mstd\u001b[39m\u001b[39m'\u001b[39m])\n\u001b[0;32m    436\u001b[0m \u001b[39mfor\u001b[39;00m featName \u001b[39min\u001b[39;00m featNames:\n\u001b[1;32m--> 437\u001b[0m     df0\u001b[39m=\u001b[39mcvScore(clf,X\u001b[39m=\u001b[39;49mtrnsX[[featName]],y\u001b[39m=\u001b[39;49mcont[\u001b[39m'\u001b[39;49m\u001b[39mbin\u001b[39;49m\u001b[39m'\u001b[39;49m],sample_weight\u001b[39m=\u001b[39;49mcont[\u001b[39m'\u001b[39;49m\u001b[39mw\u001b[39;49m\u001b[39m'\u001b[39;49m],scoring\u001b[39m=\u001b[39;49mscoring,cvGen\u001b[39m=\u001b[39;49mcvGen)\n\u001b[0;32m    438\u001b[0m     imp\u001b[39m.\u001b[39mloc[featName,\u001b[39m'\u001b[39m\u001b[39mmean\u001b[39m\u001b[39m'\u001b[39m]\u001b[39m=\u001b[39mdf0\u001b[39m.\u001b[39mmean()\n\u001b[0;32m    439\u001b[0m     imp\u001b[39m.\u001b[39mloc[featName,\u001b[39m'\u001b[39m\u001b[39mstd\u001b[39m\u001b[39m'\u001b[39m]\u001b[39m=\u001b[39mdf0\u001b[39m.\u001b[39mstd()\u001b[39m*\u001b[39mdf0\u001b[39m.\u001b[39mshape[\u001b[39m0\u001b[39m]\u001b[39m*\u001b[39m\u001b[39m*\u001b[39m\u001b[39m-\u001b[39m\u001b[39m.5\u001b[39m\n",
      "File \u001b[1;32mc:\\Users\\David\\Classes\\ECE479\\fml_lib.py:333\u001b[0m, in \u001b[0;36mcvScore\u001b[1;34m(clf, X, y, sample_weight, scoring, t1, cv, cvGen, pctEmbargo, shuffle)\u001b[0m\n\u001b[0;32m    331\u001b[0m x_train \u001b[39m=\u001b[39m X\u001b[39m.\u001b[39miloc[train]\n\u001b[0;32m    332\u001b[0m \u001b[39m#print(len(x_train))\u001b[39;00m\n\u001b[1;32m--> 333\u001b[0m fit\u001b[39m=\u001b[39mclf\u001b[39m.\u001b[39;49mfit(x_train,y\u001b[39m=\u001b[39;49my\u001b[39m.\u001b[39;49miloc[train],sample_weight\u001b[39m=\u001b[39;49mnp\u001b[39m.\u001b[39;49msqueeze(sample_weight\u001b[39m.\u001b[39;49miloc[train]\u001b[39m.\u001b[39;49mvalues))\n\u001b[0;32m    334\u001b[0m x_test \u001b[39m=\u001b[39m X\u001b[39m.\u001b[39miloc[test]\n\u001b[0;32m    335\u001b[0m \u001b[39mif\u001b[39;00m scoring\u001b[39m==\u001b[39m\u001b[39m'\u001b[39m\u001b[39mneg_log_loss\u001b[39m\u001b[39m'\u001b[39m:\n",
      "File \u001b[1;32mc:\\Python39\\lib\\site-packages\\sklearn\\base.py:1351\u001b[0m, in \u001b[0;36m_fit_context.<locals>.decorator.<locals>.wrapper\u001b[1;34m(estimator, *args, **kwargs)\u001b[0m\n\u001b[0;32m   1344\u001b[0m     estimator\u001b[39m.\u001b[39m_validate_params()\n\u001b[0;32m   1346\u001b[0m \u001b[39mwith\u001b[39;00m config_context(\n\u001b[0;32m   1347\u001b[0m     skip_parameter_validation\u001b[39m=\u001b[39m(\n\u001b[0;32m   1348\u001b[0m         prefer_skip_nested_validation \u001b[39mor\u001b[39;00m global_skip_validation\n\u001b[0;32m   1349\u001b[0m     )\n\u001b[0;32m   1350\u001b[0m ):\n\u001b[1;32m-> 1351\u001b[0m     \u001b[39mreturn\u001b[39;00m fit_method(estimator, \u001b[39m*\u001b[39margs, \u001b[39m*\u001b[39m\u001b[39m*\u001b[39mkwargs)\n",
      "File \u001b[1;32mc:\\Python39\\lib\\site-packages\\sklearn\\ensemble\\_bagging.py:334\u001b[0m, in \u001b[0;36mBaseBagging.fit\u001b[1;34m(self, X, y, sample_weight)\u001b[0m\n\u001b[0;32m    325\u001b[0m \u001b[39m# Convert data (X is required to be 2d and indexable)\u001b[39;00m\n\u001b[0;32m    326\u001b[0m X, y \u001b[39m=\u001b[39m \u001b[39mself\u001b[39m\u001b[39m.\u001b[39m_validate_data(\n\u001b[0;32m    327\u001b[0m     X,\n\u001b[0;32m    328\u001b[0m     y,\n\u001b[1;32m   (...)\u001b[0m\n\u001b[0;32m    332\u001b[0m     multi_output\u001b[39m=\u001b[39m\u001b[39mTrue\u001b[39;00m,\n\u001b[0;32m    333\u001b[0m )\n\u001b[1;32m--> 334\u001b[0m \u001b[39mreturn\u001b[39;00m \u001b[39mself\u001b[39;49m\u001b[39m.\u001b[39;49m_fit(X, y, \u001b[39mself\u001b[39;49m\u001b[39m.\u001b[39;49mmax_samples, sample_weight\u001b[39m=\u001b[39;49msample_weight)\n",
      "File \u001b[1;32mc:\\Python39\\lib\\site-packages\\sklearn\\ensemble\\_bagging.py:469\u001b[0m, in \u001b[0;36mBaseBagging._fit\u001b[1;34m(self, X, y, max_samples, max_depth, sample_weight, check_input)\u001b[0m\n\u001b[0;32m    466\u001b[0m seeds \u001b[39m=\u001b[39m random_state\u001b[39m.\u001b[39mrandint(MAX_INT, size\u001b[39m=\u001b[39mn_more_estimators)\n\u001b[0;32m    467\u001b[0m \u001b[39mself\u001b[39m\u001b[39m.\u001b[39m_seeds \u001b[39m=\u001b[39m seeds\n\u001b[1;32m--> 469\u001b[0m all_results \u001b[39m=\u001b[39m Parallel(\n\u001b[0;32m    470\u001b[0m     n_jobs\u001b[39m=\u001b[39;49mn_jobs, verbose\u001b[39m=\u001b[39;49m\u001b[39mself\u001b[39;49m\u001b[39m.\u001b[39;49mverbose, \u001b[39m*\u001b[39;49m\u001b[39m*\u001b[39;49m\u001b[39mself\u001b[39;49m\u001b[39m.\u001b[39;49m_parallel_args()\n\u001b[0;32m    471\u001b[0m )(\n\u001b[0;32m    472\u001b[0m     delayed(_parallel_build_estimators)(\n\u001b[0;32m    473\u001b[0m         n_estimators[i],\n\u001b[0;32m    474\u001b[0m         \u001b[39mself\u001b[39;49m,\n\u001b[0;32m    475\u001b[0m         X,\n\u001b[0;32m    476\u001b[0m         y,\n\u001b[0;32m    477\u001b[0m         sample_weight,\n\u001b[0;32m    478\u001b[0m         seeds[starts[i] : starts[i \u001b[39m+\u001b[39;49m \u001b[39m1\u001b[39;49m]],\n\u001b[0;32m    479\u001b[0m         total_n_estimators,\n\u001b[0;32m    480\u001b[0m         verbose\u001b[39m=\u001b[39;49m\u001b[39mself\u001b[39;49m\u001b[39m.\u001b[39;49mverbose,\n\u001b[0;32m    481\u001b[0m         check_input\u001b[39m=\u001b[39;49mcheck_input,\n\u001b[0;32m    482\u001b[0m     )\n\u001b[0;32m    483\u001b[0m     \u001b[39mfor\u001b[39;49;00m i \u001b[39min\u001b[39;49;00m \u001b[39mrange\u001b[39;49m(n_jobs)\n\u001b[0;32m    484\u001b[0m )\n\u001b[0;32m    486\u001b[0m \u001b[39m# Reduce\u001b[39;00m\n\u001b[0;32m    487\u001b[0m \u001b[39mself\u001b[39m\u001b[39m.\u001b[39mestimators_ \u001b[39m+\u001b[39m\u001b[39m=\u001b[39m \u001b[39mlist\u001b[39m(\n\u001b[0;32m    488\u001b[0m     itertools\u001b[39m.\u001b[39mchain\u001b[39m.\u001b[39mfrom_iterable(t[\u001b[39m0\u001b[39m] \u001b[39mfor\u001b[39;00m t \u001b[39min\u001b[39;00m all_results)\n\u001b[0;32m    489\u001b[0m )\n",
      "File \u001b[1;32mc:\\Python39\\lib\\site-packages\\sklearn\\utils\\parallel.py:67\u001b[0m, in \u001b[0;36mParallel.__call__\u001b[1;34m(self, iterable)\u001b[0m\n\u001b[0;32m     62\u001b[0m config \u001b[39m=\u001b[39m get_config()\n\u001b[0;32m     63\u001b[0m iterable_with_config \u001b[39m=\u001b[39m (\n\u001b[0;32m     64\u001b[0m     (_with_config(delayed_func, config), args, kwargs)\n\u001b[0;32m     65\u001b[0m     \u001b[39mfor\u001b[39;00m delayed_func, args, kwargs \u001b[39min\u001b[39;00m iterable\n\u001b[0;32m     66\u001b[0m )\n\u001b[1;32m---> 67\u001b[0m \u001b[39mreturn\u001b[39;00m \u001b[39msuper\u001b[39;49m()\u001b[39m.\u001b[39;49m\u001b[39m__call__\u001b[39;49m(iterable_with_config)\n",
      "File \u001b[1;32mc:\\Python39\\lib\\site-packages\\joblib\\parallel.py:1863\u001b[0m, in \u001b[0;36mParallel.__call__\u001b[1;34m(self, iterable)\u001b[0m\n\u001b[0;32m   1861\u001b[0m     output \u001b[39m=\u001b[39m \u001b[39mself\u001b[39m\u001b[39m.\u001b[39m_get_sequential_output(iterable)\n\u001b[0;32m   1862\u001b[0m     \u001b[39mnext\u001b[39m(output)\n\u001b[1;32m-> 1863\u001b[0m     \u001b[39mreturn\u001b[39;00m output \u001b[39mif\u001b[39;00m \u001b[39mself\u001b[39m\u001b[39m.\u001b[39mreturn_generator \u001b[39melse\u001b[39;00m \u001b[39mlist\u001b[39;49m(output)\n\u001b[0;32m   1865\u001b[0m \u001b[39m# Let's create an ID that uniquely identifies the current call. If the\u001b[39;00m\n\u001b[0;32m   1866\u001b[0m \u001b[39m# call is interrupted early and that the same instance is immediately\u001b[39;00m\n\u001b[0;32m   1867\u001b[0m \u001b[39m# re-used, this id will be used to prevent workers that were\u001b[39;00m\n\u001b[0;32m   1868\u001b[0m \u001b[39m# concurrently finalizing a task from the previous call to run the\u001b[39;00m\n\u001b[0;32m   1869\u001b[0m \u001b[39m# callback.\u001b[39;00m\n\u001b[0;32m   1870\u001b[0m \u001b[39mwith\u001b[39;00m \u001b[39mself\u001b[39m\u001b[39m.\u001b[39m_lock:\n",
      "File \u001b[1;32mc:\\Python39\\lib\\site-packages\\joblib\\parallel.py:1792\u001b[0m, in \u001b[0;36mParallel._get_sequential_output\u001b[1;34m(self, iterable)\u001b[0m\n\u001b[0;32m   1790\u001b[0m \u001b[39mself\u001b[39m\u001b[39m.\u001b[39mn_dispatched_batches \u001b[39m+\u001b[39m\u001b[39m=\u001b[39m \u001b[39m1\u001b[39m\n\u001b[0;32m   1791\u001b[0m \u001b[39mself\u001b[39m\u001b[39m.\u001b[39mn_dispatched_tasks \u001b[39m+\u001b[39m\u001b[39m=\u001b[39m \u001b[39m1\u001b[39m\n\u001b[1;32m-> 1792\u001b[0m res \u001b[39m=\u001b[39m func(\u001b[39m*\u001b[39margs, \u001b[39m*\u001b[39m\u001b[39m*\u001b[39mkwargs)\n\u001b[0;32m   1793\u001b[0m \u001b[39mself\u001b[39m\u001b[39m.\u001b[39mn_completed_tasks \u001b[39m+\u001b[39m\u001b[39m=\u001b[39m \u001b[39m1\u001b[39m\n\u001b[0;32m   1794\u001b[0m \u001b[39mself\u001b[39m\u001b[39m.\u001b[39mprint_progress()\n",
      "File \u001b[1;32mc:\\Python39\\lib\\site-packages\\sklearn\\utils\\parallel.py:129\u001b[0m, in \u001b[0;36m_FuncWrapper.__call__\u001b[1;34m(self, *args, **kwargs)\u001b[0m\n\u001b[0;32m    127\u001b[0m     config \u001b[39m=\u001b[39m {}\n\u001b[0;32m    128\u001b[0m \u001b[39mwith\u001b[39;00m config_context(\u001b[39m*\u001b[39m\u001b[39m*\u001b[39mconfig):\n\u001b[1;32m--> 129\u001b[0m     \u001b[39mreturn\u001b[39;00m \u001b[39mself\u001b[39m\u001b[39m.\u001b[39mfunction(\u001b[39m*\u001b[39margs, \u001b[39m*\u001b[39m\u001b[39m*\u001b[39mkwargs)\n",
      "File \u001b[1;32mc:\\Python39\\lib\\site-packages\\sklearn\\ensemble\\_bagging.py:145\u001b[0m, in \u001b[0;36m_parallel_build_estimators\u001b[1;34m(n_estimators, ensemble, X, y, sample_weight, seeds, total_n_estimators, verbose, check_input)\u001b[0m\n\u001b[0;32m    142\u001b[0m         curr_sample_weight[not_indices_mask] \u001b[39m=\u001b[39m \u001b[39m0\u001b[39m\n\u001b[0;32m    144\u001b[0m     X_ \u001b[39m=\u001b[39m X[:, features] \u001b[39mif\u001b[39;00m requires_feature_indexing \u001b[39melse\u001b[39;00m X\n\u001b[1;32m--> 145\u001b[0m     estimator_fit(X_, y, sample_weight\u001b[39m=\u001b[39;49mcurr_sample_weight)\n\u001b[0;32m    146\u001b[0m \u001b[39melse\u001b[39;00m:\n\u001b[0;32m    147\u001b[0m     X_ \u001b[39m=\u001b[39m X[indices][:, features] \u001b[39mif\u001b[39;00m requires_feature_indexing \u001b[39melse\u001b[39;00m X[indices]\n",
      "File \u001b[1;32mc:\\Python39\\lib\\site-packages\\sklearn\\base.py:1351\u001b[0m, in \u001b[0;36m_fit_context.<locals>.decorator.<locals>.wrapper\u001b[1;34m(estimator, *args, **kwargs)\u001b[0m\n\u001b[0;32m   1344\u001b[0m     estimator\u001b[39m.\u001b[39m_validate_params()\n\u001b[0;32m   1346\u001b[0m \u001b[39mwith\u001b[39;00m config_context(\n\u001b[0;32m   1347\u001b[0m     skip_parameter_validation\u001b[39m=\u001b[39m(\n\u001b[0;32m   1348\u001b[0m         prefer_skip_nested_validation \u001b[39mor\u001b[39;00m global_skip_validation\n\u001b[0;32m   1349\u001b[0m     )\n\u001b[0;32m   1350\u001b[0m ):\n\u001b[1;32m-> 1351\u001b[0m     \u001b[39mreturn\u001b[39;00m fit_method(estimator, \u001b[39m*\u001b[39margs, \u001b[39m*\u001b[39m\u001b[39m*\u001b[39mkwargs)\n",
      "File \u001b[1;32mc:\\Python39\\lib\\site-packages\\sklearn\\tree\\_classes.py:1009\u001b[0m, in \u001b[0;36mDecisionTreeClassifier.fit\u001b[1;34m(self, X, y, sample_weight, check_input)\u001b[0m\n\u001b[0;32m    978\u001b[0m \u001b[39m@_fit_context\u001b[39m(prefer_skip_nested_validation\u001b[39m=\u001b[39m\u001b[39mTrue\u001b[39;00m)\n\u001b[0;32m    979\u001b[0m \u001b[39mdef\u001b[39;00m \u001b[39mfit\u001b[39m(\u001b[39mself\u001b[39m, X, y, sample_weight\u001b[39m=\u001b[39m\u001b[39mNone\u001b[39;00m, check_input\u001b[39m=\u001b[39m\u001b[39mTrue\u001b[39;00m):\n\u001b[0;32m    980\u001b[0m \u001b[39m    \u001b[39m\u001b[39m\"\"\"Build a decision tree classifier from the training set (X, y).\u001b[39;00m\n\u001b[0;32m    981\u001b[0m \n\u001b[0;32m    982\u001b[0m \u001b[39m    Parameters\u001b[39;00m\n\u001b[1;32m   (...)\u001b[0m\n\u001b[0;32m   1006\u001b[0m \u001b[39m        Fitted estimator.\u001b[39;00m\n\u001b[0;32m   1007\u001b[0m \u001b[39m    \"\"\"\u001b[39;00m\n\u001b[1;32m-> 1009\u001b[0m     \u001b[39msuper\u001b[39;49m()\u001b[39m.\u001b[39;49m_fit(\n\u001b[0;32m   1010\u001b[0m         X,\n\u001b[0;32m   1011\u001b[0m         y,\n\u001b[0;32m   1012\u001b[0m         sample_weight\u001b[39m=\u001b[39;49msample_weight,\n\u001b[0;32m   1013\u001b[0m         check_input\u001b[39m=\u001b[39;49mcheck_input,\n\u001b[0;32m   1014\u001b[0m     )\n\u001b[0;32m   1015\u001b[0m     \u001b[39mreturn\u001b[39;00m \u001b[39mself\u001b[39m\n",
      "File \u001b[1;32mc:\\Python39\\lib\\site-packages\\sklearn\\tree\\_classes.py:472\u001b[0m, in \u001b[0;36mBaseDecisionTree._fit\u001b[1;34m(self, X, y, sample_weight, check_input, missing_values_in_feature_mask)\u001b[0m\n\u001b[0;32m    461\u001b[0m \u001b[39melse\u001b[39;00m:\n\u001b[0;32m    462\u001b[0m     builder \u001b[39m=\u001b[39m BestFirstTreeBuilder(\n\u001b[0;32m    463\u001b[0m         splitter,\n\u001b[0;32m    464\u001b[0m         min_samples_split,\n\u001b[1;32m   (...)\u001b[0m\n\u001b[0;32m    469\u001b[0m         \u001b[39mself\u001b[39m\u001b[39m.\u001b[39mmin_impurity_decrease,\n\u001b[0;32m    470\u001b[0m     )\n\u001b[1;32m--> 472\u001b[0m builder\u001b[39m.\u001b[39;49mbuild(\u001b[39mself\u001b[39;49m\u001b[39m.\u001b[39;49mtree_, X, y, sample_weight, missing_values_in_feature_mask)\n\u001b[0;32m    474\u001b[0m \u001b[39mif\u001b[39;00m \u001b[39mself\u001b[39m\u001b[39m.\u001b[39mn_outputs_ \u001b[39m==\u001b[39m \u001b[39m1\u001b[39m \u001b[39mand\u001b[39;00m is_classifier(\u001b[39mself\u001b[39m):\n\u001b[0;32m    475\u001b[0m     \u001b[39mself\u001b[39m\u001b[39m.\u001b[39mn_classes_ \u001b[39m=\u001b[39m \u001b[39mself\u001b[39m\u001b[39m.\u001b[39mn_classes_[\u001b[39m0\u001b[39m]\n",
      "\u001b[1;31mKeyboardInterrupt\u001b[0m: "
     ]
    }
   ],
   "source": [
    "sfi_import = fml_lib.featImportance(dfP, cont, method='SFI')"
   ]
  }
 ],
 "metadata": {
  "kernelspec": {
   "display_name": "Python 3",
   "language": "python",
   "name": "python3"
  },
  "language_info": {
   "codemirror_mode": {
    "name": "ipython",
    "version": 3
   },
   "file_extension": ".py",
   "mimetype": "text/x-python",
   "name": "python",
   "nbconvert_exporter": "python",
   "pygments_lexer": "ipython3",
   "version": "3.9.0"
  }
 },
 "nbformat": 4,
 "nbformat_minor": 2
}
