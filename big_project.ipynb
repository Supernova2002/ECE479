{
 "cells": [
  {
   "cell_type": "code",
   "execution_count": 1,
   "metadata": {},
   "outputs": [],
   "source": [
    "import fml_lib\n",
    "import numpy as np\n",
    "import pandas as pd\n",
    "import scipy.stats as ss\n",
    "import os.path\n",
    "from math import sqrt, exp, log\n",
    "import matplotlib.pyplot as plt\n",
    "from mp_engine import mpPandasObj"
   ]
  },
  {
   "cell_type": "code",
   "execution_count": 2,
   "metadata": {},
   "outputs": [
    {
     "name": "stderr",
     "output_type": "stream",
     "text": [
      "C:\\Users\\dstek\\AppData\\Local\\Temp\\ipykernel_9564\\1907931566.py:1: FutureWarning: Support for nested sequences for 'parse_dates' in pd.read_csv is deprecated. Combine the desired columns with pd.to_datetime after parsing instead.\n",
      "  dollar_bars = pd.read_csv(\"USA500IDXUSD_bars.csv\", parse_dates=[['Date', 'Timestamp']])\n"
     ]
    }
   ],
   "source": [
    "dollar_bars = pd.read_csv(\"USA500IDXUSD_bars.csv\", parse_dates=[['Date', 'Timestamp']])\n",
    "dollar_bars = dollar_bars.set_index(\"Date_Timestamp\")\n",
    "close = dollar_bars['Close']\n",
    "daily_volatility = fml_lib.getDailyVol(dollar_bars.Close,span0=100)\n"
   ]
  },
  {
   "cell_type": "code",
   "execution_count": 3,
   "metadata": {},
   "outputs": [],
   "source": [
    "\n",
    "if os.path.exists(\"./t_events.csv\"):\n",
    "    t_events = pd.read_csv(\"t_events.csv\", index_col=[0])\n",
    "    t_events = t_events.index\n",
    "else:\n",
    "    t_events = fml_lib.getTEvents(dollar_bars.Close, daily_volatility)\n",
    "    t_events_df = pd.DataFrame(index= t_events)\n",
    "    t_events_df.to_csv(\"./t_events_csv\", index=True)"
   ]
  },
  {
   "cell_type": "code",
   "execution_count": 4,
   "metadata": {},
   "outputs": [
    {
     "name": "stdout",
     "output_type": "stream",
     "text": [
      "DatetimeIndex(['2023-07-04 22:00:10', '2023-07-04 22:00:40',\n",
      "               '2023-07-04 22:00:50', '2023-07-04 22:01:10',\n",
      "               '2023-07-04 22:01:30', '2023-07-04 22:01:50',\n",
      "               '2023-07-04 22:02:10', '2023-07-04 22:02:20',\n",
      "               '2023-07-04 22:02:40', '2023-07-04 22:03:00',\n",
      "               ...\n",
      "               '2024-01-25 03:52:20', '2024-01-25 03:53:40',\n",
      "               '2024-01-25 03:54:50', '2024-01-25 03:55:10',\n",
      "               '2024-01-25 03:55:40', '2024-01-25 03:56:50',\n",
      "               '2024-01-25 03:57:00', '2024-01-25 03:57:20',\n",
      "               '2024-01-25 03:58:30', '2024-01-25 03:58:40'],\n",
      "              dtype='datetime64[ns]', length=814094, freq=None)\n"
     ]
    }
   ],
   "source": [
    "t_events = pd.to_datetime(t_events)\n",
    "print(t_events)"
   ]
  },
  {
   "cell_type": "code",
   "execution_count": 5,
   "metadata": {},
   "outputs": [
    {
     "name": "stdout",
     "output_type": "stream",
     "text": [
      "2023-07-04 22:00:10   2023-07-16 22:00:00\n",
      "2023-07-04 22:00:40   2023-07-16 22:00:00\n",
      "2023-07-04 22:00:50   2023-07-16 22:00:00\n",
      "2023-07-04 22:01:10   2023-07-16 22:00:00\n",
      "2023-07-04 22:01:30   2023-07-16 22:00:00\n",
      "                              ...        \n",
      "2024-01-15 03:54:40   2024-01-25 03:54:50\n",
      "2024-01-15 03:56:00   2024-01-25 03:56:50\n",
      "2024-01-15 03:57:00   2024-01-25 03:57:00\n",
      "2024-01-15 03:57:30   2024-01-25 03:58:30\n",
      "2024-01-15 03:58:40   2024-01-25 03:58:40\n",
      "Name: Date_Timestamp, Length: 769572, dtype: datetime64[ns]\n"
     ]
    }
   ],
   "source": [
    "\n",
    "\n",
    "#adds the vertical barrier num_days out from the time of the event\n",
    "numDays = 10\n",
    "t1=close.index.searchsorted(t_events+pd.Timedelta(days=numDays))\n",
    "t1=t1[t1<close.shape[0]]\n",
    "t1=pd.Series(close.index[t1],index=t_events[:t1.shape[0]]) # NaNs at end\n",
    "print(t1)"
   ]
  },
  {
   "cell_type": "code",
   "execution_count": 6,
   "metadata": {},
   "outputs": [
    {
     "name": "stdout",
     "output_type": "stream",
     "text": [
      "                                      t1  trgt\n",
      "2023-07-04 22:00:10  2023-07-04 22:17:50  0.01\n",
      "2023-07-04 22:00:40  2023-07-04 22:17:50  0.01\n",
      "2023-07-04 22:00:50  2023-07-04 22:15:30  0.01\n",
      "2023-07-04 22:01:10  2023-07-04 22:17:50  0.01\n",
      "2023-07-04 22:01:30  2023-07-04 22:17:50  0.01\n",
      "...                                  ...   ...\n",
      "2024-01-25 03:50:30  2024-01-25 03:56:50  0.01\n",
      "2024-01-25 03:51:30  2024-01-25 03:54:50  0.01\n",
      "2024-01-25 03:51:40  2024-01-25 03:56:50  0.01\n",
      "2024-01-25 03:51:50  2024-01-25 03:54:50  0.01\n",
      "2024-01-25 03:52:00  2024-01-25 03:56:50  0.01\n",
      "\n",
      "[814081 rows x 2 columns]\n"
     ]
    }
   ],
   "source": [
    "min_ret= 0.005\n",
    "trgt = pd.Series(0.01, index=t_events)\n",
    "if os.path.exists(\"./events.csv\"):\n",
    "    events = pd.read_csv(\"events.csv\", index_col=[0])\n",
    "    events = events.dropna()\n",
    "else:\n",
    "    events = fml_lib.getEvents(close, t_events, 0.02,trgt ,min_ret,t1)\n",
    "    events.to_csv(\"events.csv\")\n",
    "print(events)"
   ]
  },
  {
   "cell_type": "code",
   "execution_count": 7,
   "metadata": {},
   "outputs": [
    {
     "name": "stdout",
     "output_type": "stream",
     "text": [
      "[ True  True  True ...  True  True  True]\n"
     ]
    }
   ],
   "source": [
    "\n",
    "out = fml_lib.getBins(events, close, numDays)"
   ]
  },
  {
   "cell_type": "code",
   "execution_count": 8,
   "metadata": {},
   "outputs": [
    {
     "name": "stdout",
     "output_type": "stream",
     "text": [
      "                          ret  bin\n",
      "2023-07-04 22:00:10  0.000226  1.0\n",
      "2023-07-04 22:00:40  0.000223  1.0\n",
      "2023-07-04 22:00:50  0.000220  1.0\n",
      "2023-07-04 22:01:10  0.000226  1.0\n",
      "2023-07-04 22:01:30  0.000224  1.0\n",
      "...                       ...  ...\n",
      "2024-01-25 03:50:30  0.000207  1.0\n",
      "2024-01-25 03:51:30  0.000216  1.0\n",
      "2024-01-25 03:51:40  0.000208  1.0\n",
      "2024-01-25 03:51:50  0.000215  1.0\n",
      "2024-01-25 03:52:00  0.000207  1.0\n",
      "\n",
      "[412467 rows x 2 columns]\n",
      "                          ret  bin\n",
      "2023-07-04 22:00:10  0.000226  1.0\n",
      "2023-07-04 22:00:40  0.000223  1.0\n",
      "2023-07-04 22:00:50  0.000220  1.0\n",
      "2023-07-04 22:01:10  0.000226  1.0\n",
      "2023-07-04 22:01:30  0.000224  1.0\n",
      "...                       ...  ...\n",
      "2024-01-25 03:50:30  0.000207  1.0\n",
      "2024-01-25 03:51:30  0.000216  1.0\n",
      "2024-01-25 03:51:40  0.000208  1.0\n",
      "2024-01-25 03:51:50  0.000215  1.0\n",
      "2024-01-25 03:52:00  0.000207  1.0\n",
      "\n",
      "[814081 rows x 2 columns]\n"
     ]
    }
   ],
   "source": [
    "print(out[out['bin'] == 1])\n",
    "print(out)"
   ]
  },
  {
   "cell_type": "markdown",
   "metadata": {},
   "source": [
    "Want to find sample weights for use in the boosting fit"
   ]
  },
  {
   "cell_type": "code",
   "execution_count": 9,
   "metadata": {},
   "outputs": [
    {
     "name": "stdout",
     "output_type": "stream",
     "text": [
      "                                      t1  trgt\n",
      "2023-07-04 22:00:10  2023-07-04 22:17:50  0.01\n",
      "2023-07-04 22:00:40  2023-07-04 22:17:50  0.01\n",
      "2023-07-04 22:00:50  2023-07-04 22:15:30  0.01\n",
      "2023-07-04 22:01:10  2023-07-04 22:17:50  0.01\n",
      "2023-07-04 22:01:30  2023-07-04 22:17:50  0.01\n",
      "...                                  ...   ...\n",
      "2024-01-25 03:50:30  2024-01-25 03:56:50  0.01\n",
      "2024-01-25 03:51:30  2024-01-25 03:54:50  0.01\n",
      "2024-01-25 03:51:40  2024-01-25 03:56:50  0.01\n",
      "2024-01-25 03:51:50  2024-01-25 03:54:50  0.01\n",
      "2024-01-25 03:52:00  2024-01-25 03:56:50  0.01\n",
      "\n",
      "[814081 rows x 2 columns]\n"
     ]
    }
   ],
   "source": [
    "print(events)"
   ]
  },
  {
   "cell_type": "code",
   "execution_count": 10,
   "metadata": {},
   "outputs": [
    {
     "name": "stdout",
     "output_type": "stream",
     "text": [
      "814081\n",
      "814081\n"
     ]
    }
   ],
   "source": [
    "temp = list(set(pd.to_datetime(events.t1.index)) & set(pd.to_datetime(events.index)) )\n",
    "print(len(temp))\n",
    "print(len(events))"
   ]
  },
  {
   "cell_type": "code",
   "execution_count": 11,
   "metadata": {},
   "outputs": [
    {
     "name": "stderr",
     "output_type": "stream",
     "text": [
      "2024-04-04 21:35:06.174365 62.5% mpNumCoEvents done after 4.66 minutes. Remaining 2.8 minutes.s..\r"
     ]
    },
    {
     "ename": "KeyboardInterrupt",
     "evalue": "",
     "output_type": "error",
     "traceback": [
      "\u001b[1;31m---------------------------------------------------------------------------\u001b[0m",
      "\u001b[1;31mIndexError\u001b[0m                                Traceback (most recent call last)",
      "File \u001b[1;32mC:\\Program Files\\WindowsApps\\PythonSoftwareFoundation.Python.3.11_3.11.2544.0_x64__qbz5n2kfra8p0\\Lib\\multiprocessing\\pool.py:856\u001b[0m, in \u001b[0;36mIMapIterator.next\u001b[1;34m(self, timeout)\u001b[0m\n\u001b[0;32m    855\u001b[0m \u001b[38;5;28;01mtry\u001b[39;00m:\n\u001b[1;32m--> 856\u001b[0m     item \u001b[38;5;241m=\u001b[39m \u001b[38;5;28mself\u001b[39m\u001b[38;5;241m.\u001b[39m_items\u001b[38;5;241m.\u001b[39mpopleft()\n\u001b[0;32m    857\u001b[0m \u001b[38;5;28;01mexcept\u001b[39;00m \u001b[38;5;167;01mIndexError\u001b[39;00m:\n",
      "\u001b[1;31mIndexError\u001b[0m: pop from an empty deque",
      "\nDuring handling of the above exception, another exception occurred:\n",
      "\u001b[1;31mKeyboardInterrupt\u001b[0m                         Traceback (most recent call last)",
      "Cell \u001b[1;32mIn[11], line 1\u001b[0m\n\u001b[1;32m----> 1\u001b[0m test_co_events \u001b[38;5;241m=\u001b[39m \u001b[43mmpPandasObj\u001b[49m\u001b[43m(\u001b[49m\u001b[43mfml_lib\u001b[49m\u001b[38;5;241;43m.\u001b[39;49m\u001b[43mmpNumCoEvents\u001b[49m\u001b[43m,\u001b[49m\u001b[43m(\u001b[49m\u001b[38;5;124;43m'\u001b[39;49m\u001b[38;5;124;43mmolecule\u001b[39;49m\u001b[38;5;124;43m'\u001b[39;49m\u001b[43m,\u001b[49m\u001b[43mevents\u001b[49m\u001b[38;5;241;43m.\u001b[39;49m\u001b[43mindex\u001b[49m\u001b[43m)\u001b[49m\u001b[43m,\u001b[49m\u001b[38;5;241;43m24\u001b[39;49m\u001b[43m,\u001b[49m\u001b[43m \u001b[49m\u001b[43mcloseIdx\u001b[49m\u001b[38;5;241;43m=\u001b[39;49m\u001b[43mclose\u001b[49m\u001b[38;5;241;43m.\u001b[39;49m\u001b[43mindex\u001b[49m\u001b[43m,\u001b[49m\u001b[43mt1\u001b[49m\u001b[38;5;241;43m=\u001b[39;49m\u001b[43mevents\u001b[49m\u001b[43m[\u001b[49m\u001b[38;5;124;43m'\u001b[39;49m\u001b[38;5;124;43mt1\u001b[39;49m\u001b[38;5;124;43m'\u001b[39;49m\u001b[43m]\u001b[49m\u001b[43m)\u001b[49m\n\u001b[0;32m      3\u001b[0m \u001b[38;5;28;01mif\u001b[39;00m os\u001b[38;5;241m.\u001b[39mpath\u001b[38;5;241m.\u001b[39mexists(\u001b[38;5;124m\"\u001b[39m\u001b[38;5;124m./t_events.csv\u001b[39m\u001b[38;5;124m\"\u001b[39m):  \n\u001b[0;32m      4\u001b[0m     numCoEvents \u001b[38;5;241m=\u001b[39m pd\u001b[38;5;241m.\u001b[39mread_csv(\u001b[38;5;124m\"\u001b[39m\u001b[38;5;124m./co_events.csv\u001b[39m\u001b[38;5;124m\"\u001b[39m, index_col\u001b[38;5;241m=\u001b[39m[\u001b[38;5;241m0\u001b[39m])\n",
      "File \u001b[1;32mc:\\Users\\dstek\\Documents\\ECE479\\mp_engine.py:115\u001b[0m, in \u001b[0;36mmpPandasObj\u001b[1;34m(func, pdObj, numThreads, mpBatches, linMols, **kargs)\u001b[0m\n\u001b[0;32m    113\u001b[0m     out\u001b[38;5;241m=\u001b[39mprocessJobs_(jobs)\n\u001b[0;32m    114\u001b[0m \u001b[38;5;28;01melse\u001b[39;00m:\n\u001b[1;32m--> 115\u001b[0m     out\u001b[38;5;241m=\u001b[39m\u001b[43mprocessJobs\u001b[49m\u001b[43m(\u001b[49m\u001b[43mjobs\u001b[49m\u001b[43m,\u001b[49m\u001b[43mnumThreads\u001b[49m\u001b[38;5;241;43m=\u001b[39;49m\u001b[43mnumThreads\u001b[49m\u001b[43m)\u001b[49m\n\u001b[0;32m    116\u001b[0m \u001b[38;5;28;01mif\u001b[39;00m \u001b[38;5;28misinstance\u001b[39m(out[\u001b[38;5;241m0\u001b[39m],pd\u001b[38;5;241m.\u001b[39mDataFrame):\n\u001b[0;32m    117\u001b[0m     df0\u001b[38;5;241m=\u001b[39mpd\u001b[38;5;241m.\u001b[39mDataFrame()\n",
      "File \u001b[1;32mc:\\Users\\dstek\\Documents\\ECE479\\mp_engine.py:80\u001b[0m, in \u001b[0;36mprocessJobs\u001b[1;34m(jobs, task, numThreads)\u001b[0m\n\u001b[0;32m     78\u001b[0m outputs,out,time0\u001b[38;5;241m=\u001b[39mpool\u001b[38;5;241m.\u001b[39mimap_unordered(expandCall,jobs),[],time\u001b[38;5;241m.\u001b[39mtime()\n\u001b[0;32m     79\u001b[0m \u001b[38;5;66;03m# Process asynchronous output, report progress\u001b[39;00m\n\u001b[1;32m---> 80\u001b[0m \u001b[43m\u001b[49m\u001b[38;5;28;43;01mfor\u001b[39;49;00m\u001b[43m \u001b[49m\u001b[43mi\u001b[49m\u001b[43m,\u001b[49m\u001b[43mout_\u001b[49m\u001b[43m \u001b[49m\u001b[38;5;129;43;01min\u001b[39;49;00m\u001b[43m \u001b[49m\u001b[38;5;28;43menumerate\u001b[39;49m\u001b[43m(\u001b[49m\u001b[43moutputs\u001b[49m\u001b[43m,\u001b[49m\u001b[38;5;241;43m1\u001b[39;49m\u001b[43m)\u001b[49m\u001b[43m:\u001b[49m\n\u001b[0;32m     81\u001b[0m \u001b[43m    \u001b[49m\u001b[43mout\u001b[49m\u001b[38;5;241;43m.\u001b[39;49m\u001b[43mappend\u001b[49m\u001b[43m(\u001b[49m\u001b[43mout_\u001b[49m\u001b[43m)\u001b[49m\n\u001b[0;32m     82\u001b[0m \u001b[43m    \u001b[49m\u001b[43mreportProgress\u001b[49m\u001b[43m(\u001b[49m\u001b[43mi\u001b[49m\u001b[43m,\u001b[49m\u001b[38;5;28;43mlen\u001b[39;49m\u001b[43m(\u001b[49m\u001b[43mjobs\u001b[49m\u001b[43m)\u001b[49m\u001b[43m,\u001b[49m\u001b[43mtime0\u001b[49m\u001b[43m,\u001b[49m\u001b[43mtask\u001b[49m\u001b[43m)\u001b[49m\n",
      "File \u001b[1;32mC:\\Program Files\\WindowsApps\\PythonSoftwareFoundation.Python.3.11_3.11.2544.0_x64__qbz5n2kfra8p0\\Lib\\multiprocessing\\pool.py:861\u001b[0m, in \u001b[0;36mIMapIterator.next\u001b[1;34m(self, timeout)\u001b[0m\n\u001b[0;32m    859\u001b[0m     \u001b[38;5;28mself\u001b[39m\u001b[38;5;241m.\u001b[39m_pool \u001b[38;5;241m=\u001b[39m \u001b[38;5;28;01mNone\u001b[39;00m\n\u001b[0;32m    860\u001b[0m     \u001b[38;5;28;01mraise\u001b[39;00m \u001b[38;5;167;01mStopIteration\u001b[39;00m \u001b[38;5;28;01mfrom\u001b[39;00m \u001b[38;5;28;01mNone\u001b[39;00m\n\u001b[1;32m--> 861\u001b[0m \u001b[38;5;28;43mself\u001b[39;49m\u001b[38;5;241;43m.\u001b[39;49m\u001b[43m_cond\u001b[49m\u001b[38;5;241;43m.\u001b[39;49m\u001b[43mwait\u001b[49m\u001b[43m(\u001b[49m\u001b[43mtimeout\u001b[49m\u001b[43m)\u001b[49m\n\u001b[0;32m    862\u001b[0m \u001b[38;5;28;01mtry\u001b[39;00m:\n\u001b[0;32m    863\u001b[0m     item \u001b[38;5;241m=\u001b[39m \u001b[38;5;28mself\u001b[39m\u001b[38;5;241m.\u001b[39m_items\u001b[38;5;241m.\u001b[39mpopleft()\n",
      "File \u001b[1;32mC:\\Program Files\\WindowsApps\\PythonSoftwareFoundation.Python.3.11_3.11.2544.0_x64__qbz5n2kfra8p0\\Lib\\threading.py:327\u001b[0m, in \u001b[0;36mCondition.wait\u001b[1;34m(self, timeout)\u001b[0m\n\u001b[0;32m    325\u001b[0m \u001b[38;5;28;01mtry\u001b[39;00m:    \u001b[38;5;66;03m# restore state no matter what (e.g., KeyboardInterrupt)\u001b[39;00m\n\u001b[0;32m    326\u001b[0m     \u001b[38;5;28;01mif\u001b[39;00m timeout \u001b[38;5;129;01mis\u001b[39;00m \u001b[38;5;28;01mNone\u001b[39;00m:\n\u001b[1;32m--> 327\u001b[0m         \u001b[43mwaiter\u001b[49m\u001b[38;5;241;43m.\u001b[39;49m\u001b[43macquire\u001b[49m\u001b[43m(\u001b[49m\u001b[43m)\u001b[49m\n\u001b[0;32m    328\u001b[0m         gotit \u001b[38;5;241m=\u001b[39m \u001b[38;5;28;01mTrue\u001b[39;00m\n\u001b[0;32m    329\u001b[0m     \u001b[38;5;28;01melse\u001b[39;00m:\n",
      "\u001b[1;31mKeyboardInterrupt\u001b[0m: "
     ]
    }
   ],
   "source": [
    "test_co_events = mpPandasObj(fml_lib.mpNumCoEvents,('molecule',events.index),24, closeIdx=close.index,t1=events['t1'])\n",
    "\n",
    "if os.path.exists(\"./t_events.csv\"):  \n",
    "    numCoEvents = pd.read_csv(\"./co_events.csv\", index_col=[0])\n",
    "else:\n",
    "    numCoEvents = fml_lib.get_co_events(close,events)\n",
    "    numCoEvents.to_csv(\"./co_events.csv\", index=True)\n",
    "print(numCoEvents)\n",
    "print(test_co_events)"
   ]
  },
  {
   "cell_type": "code",
   "execution_count": null,
   "metadata": {},
   "outputs": [
    {
     "name": "stdout",
     "output_type": "stream",
     "text": [
      "Date_Timestamp\n",
      "2023-07-02 22:00:00         NaN\n",
      "2023-07-02 22:00:10    0.000180\n",
      "2023-07-02 22:00:20   -0.000071\n",
      "2023-07-02 22:00:30   -0.000110\n",
      "2023-07-02 22:00:40    0.000110\n",
      "                         ...   \n",
      "2024-01-25 03:57:00   -0.000106\n",
      "2024-01-25 03:57:10    0.000000\n",
      "2024-01-25 03:57:20    0.000003\n",
      "2024-01-25 03:58:30   -0.000054\n",
      "2024-01-25 03:58:40    0.000003\n",
      "Name: Close, Length: 840953, dtype: float64\n"
     ]
    }
   ],
   "source": [
    "ret=np.log(close).diff() # log-returns, so that they are additive\n",
    "print(ret)"
   ]
  },
  {
   "cell_type": "code",
   "execution_count": null,
   "metadata": {},
   "outputs": [
    {
     "name": "stdout",
     "output_type": "stream",
     "text": [
      "                      0\n",
      "Date_Timestamp         \n",
      "2023-07-04 22:00:10   1\n",
      "2023-07-04 22:00:40   2\n",
      "2023-07-04 22:00:50   3\n",
      "2023-07-04 22:01:10   4\n",
      "2023-07-04 22:01:30   5\n",
      "...                  ..\n",
      "2024-01-25 03:53:40  42\n",
      "2024-01-25 03:54:50  38\n",
      "2024-01-25 03:55:10  17\n",
      "2024-01-25 03:55:40  17\n",
      "2024-01-25 03:56:50  17\n",
      "\n",
      "[837059 rows x 1 columns]\n"
     ]
    }
   ],
   "source": [
    "print(numCoEvents.dropna())"
   ]
  },
  {
   "cell_type": "code",
   "execution_count": null,
   "metadata": {},
   "outputs": [
    {
     "name": "stderr",
     "output_type": "stream",
     "text": [
      "2024-04-04 20:52:29.488374 100.0% mpSampleTW done after 0.09 minutes. Remaining 0.0 minutes.\n"
     ]
    },
    {
     "name": "stdout",
     "output_type": "stream",
     "text": [
      "                          ret  bin        tW\n",
      "2023-07-04 22:00:10  0.000226  1.0  0.123050\n",
      "2023-07-04 22:00:40  0.000223  1.0  0.096475\n"
     ]
    },
    {
     "name": "stderr",
     "output_type": "stream",
     "text": [
      "c:\\Users\\dstek\\Documents\\ECE479\\mp_engine.py:123: FutureWarning: The behavior of array concatenation with empty entries is deprecated. In a future version, this will no longer exclude empty items when determining the result dtype. To retain the old behavior, exclude the empty entries before the concat operation.\n",
      "  df0=df0._append(i)\n"
     ]
    }
   ],
   "source": [
    "numThreads = 12\n",
    "#numCoEvents=numCoEvents.loc[~numCoEvents.index.duplicated(keep='last')]\n",
    "#numCoEvents=numCoEvents.reindex(close.index).fillna(0)\n",
    "#print(numCoEvents)\n",
    "out['tW']=mpPandasObj(fml_lib.mpSampleTW,('molecule',events.index),numThreads, t1=events['t1'],numCoEvents=numCoEvents)\n",
    "print(out.dropna())"
   ]
  },
  {
   "cell_type": "code",
   "execution_count": null,
   "metadata": {},
   "outputs": [
    {
     "name": "stderr",
     "output_type": "stream",
     "text": [
      "2024-04-04 20:52:37.894340 100.0% mpSampleW done after 0.12 minutes. Remaining 0.0 minutes..\n"
     ]
    },
    {
     "name": "stdout",
     "output_type": "stream",
     "text": [
      "2023-07-04 22:00:10    0.000883\n",
      "2023-07-04 22:00:40    0.000719\n",
      "2023-07-04 22:00:50    0.000427\n",
      "dtype: float64\n"
     ]
    },
    {
     "name": "stderr",
     "output_type": "stream",
     "text": [
      "c:\\Users\\dstek\\Documents\\ECE479\\mp_engine.py:123: FutureWarning: The behavior of array concatenation with empty entries is deprecated. In a future version, this will no longer exclude empty items when determining the result dtype. To retain the old behavior, exclude the empty entries before the concat operation.\n",
      "  df0=df0._append(i)\n"
     ]
    }
   ],
   "source": [
    "\n",
    "sample_weights = mpPandasObj(fml_lib.mpSampleW,('molecule',events.index),numThreads, t1=events['t1'],numCoEvents=numCoEvents,close=close)\n",
    "print(sample_weights)"
   ]
  },
  {
   "cell_type": "code",
   "execution_count": null,
   "metadata": {},
   "outputs": [],
   "source": []
  }
 ],
 "metadata": {
  "kernelspec": {
   "display_name": "Python 3",
   "language": "python",
   "name": "python3"
  },
  "language_info": {
   "codemirror_mode": {
    "name": "ipython",
    "version": 3
   },
   "file_extension": ".py",
   "mimetype": "text/x-python",
   "name": "python",
   "nbconvert_exporter": "python",
   "pygments_lexer": "ipython3",
   "version": "3.11.9"
  }
 },
 "nbformat": 4,
 "nbformat_minor": 2
}
