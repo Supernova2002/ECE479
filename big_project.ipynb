{
 "cells": [
  {
   "cell_type": "code",
   "execution_count": 1,
   "metadata": {},
   "outputs": [],
   "source": [
    "import fml_lib\n",
    "import numpy as np\n",
    "import pandas as pd\n",
    "import scipy.stats as ss\n",
    "import os.path\n",
    "from math import sqrt, exp, log\n",
    "import matplotlib.pyplot as plt\n",
    "from mp_engine import mpPandasObj\n",
    "from datetime import datetime"
   ]
  },
  {
   "cell_type": "code",
   "execution_count": 2,
   "metadata": {},
   "outputs": [
    {
     "name": "stdout",
     "output_type": "stream",
     "text": [
      "                             Close\n",
      "Date_Timestamp                    \n",
      "2019-04-17 00:00:00       7.975176\n",
      "2019-04-17 01:00:00      15.951658\n",
      "2019-04-17 02:00:00      23.927521\n",
      "2019-04-17 03:00:00      31.903144\n",
      "2019-04-17 04:00:00      39.878664\n",
      "...                            ...\n",
      "2024-04-16 18:00:00  243348.708861\n",
      "2024-04-16 19:00:00  243357.236147\n",
      "2024-04-16 20:00:00  243365.763374\n",
      "2024-04-16 22:00:00  243374.292003\n",
      "2024-04-16 23:00:00  243382.822105\n",
      "\n",
      "[29496 rows x 1 columns]\n"
     ]
    },
    {
     "name": "stderr",
     "output_type": "stream",
     "text": [
      "C:\\Users\\David\\AppData\\Local\\Temp\\ipykernel_95904\\128212720.py:1: FutureWarning: Support for nested sequences for 'parse_dates' in pd.read_csv is deprecated. Combine the desired columns with pd.to_datetime after parsing instead.\n",
      "  dollar_bars = pd.read_csv(\"USA500IDXUSD_hourly_bars.csv\", parse_dates=[['Date', 'Timestamp']])\n"
     ]
    }
   ],
   "source": [
    "dollar_bars = pd.read_csv(\"USA500IDXUSD_hourly_bars.csv\", parse_dates=[['Date', 'Timestamp']])\n",
    "dollar_bars = dollar_bars.set_index(\"Date_Timestamp\")\n",
    "dollar_bars = dollar_bars.dropna()\n",
    "close = dollar_bars['Close']\n",
    "ffd_close = np.log(dollar_bars[['Close']]).cumsum()\n",
    "print(ffd_close)\n"
   ]
  },
  {
   "cell_type": "code",
   "execution_count": 3,
   "metadata": {},
   "outputs": [],
   "source": [
    "def plotMinFFD():\n",
    "    from statsmodels.tsa.stattools import adfuller\n",
    "    import matplotlib.pyplot as mpl\n",
    "    out=pd.DataFrame(columns=['adfStat','pVal','lags','nObs','95% conf','corr'])\n",
    "    df0=dollar_bars\n",
    "    for d in np.linspace(0.9,1,31):\n",
    "        df1=np.cumsum(np.log(df0[['Close']])).resample('1D').last() # downcast to daily obs\n",
    "        df2=fml_lib.fracDiff_FFD(df1,d,thres=1E-3)\n",
    "        corr=np.corrcoef(df1.loc[df2.index,'Close'],df2['Close'])[0,1]\n",
    "        df2=adfuller(df2['Close'],maxlag=1,regression='c',autolag=None)\n",
    "       \n",
    "        out.loc[d]=list(df2[:4])+[df2[4]['5%']]+[corr] # with critical value\n",
    "    out.to_csv('./_testMinFFD.csv')\n",
    "    out[['adfStat','corr']].plot(secondary_y='adfStat')\n",
    "    mpl.axhline(out['95% conf'].mean(),linewidth=1,color='r',linestyle='dotted')\n",
    "    mpl.savefig('./_testMinFFD.png')\n",
    "    return"
   ]
  },
  {
   "cell_type": "code",
   "execution_count": 4,
   "metadata": {},
   "outputs": [
    {
     "name": "stderr",
     "output_type": "stream",
     "text": [
      "c:\\Users\\David\\Classes\\ECE479\\fml_lib.py:284: FutureWarning: DataFrame.fillna with 'method' is deprecated and will raise in a future version. Use obj.ffill() or obj.bfill() instead.\n",
      "  seriesF,df_=series[[name]].fillna(method='ffill').dropna(),pd.Series()\n"
     ]
    },
    {
     "name": "stdout",
     "output_type": "stream",
     "text": [
      "58\n"
     ]
    },
    {
     "name": "stderr",
     "output_type": "stream",
     "text": [
      "C:\\Users\\David\\AppData\\Local\\Temp\\ipykernel_95904\\3059649216.py:2: FutureWarning: Series.__getitem__ treating keys as positions is deprecated. In a future version, integer keys will always be treated as labels (consistent with DataFrame behavior). To access a value by position, use `ser.iloc[pos]`\n",
      "  ffd_std = test_ffd.std()[0]\n"
     ]
    }
   ],
   "source": [
    "test_ffd = fml_lib.fracDiff_FFD(ffd_close,0.97)\n",
    "ffd_std = test_ffd.std()[0]\n",
    "#print(ffd_std)\n",
    "daily_volatility = fml_lib.getDailyVol(test_ffd.Close,span0=100)"
   ]
  },
  {
   "cell_type": "code",
   "execution_count": 5,
   "metadata": {},
   "outputs": [
    {
     "name": "stdout",
     "output_type": "stream",
     "text": [
      "                          Close\n",
      "2019-04-22 12:00:00    9.156934\n",
      "2019-04-22 13:00:00    9.164251\n",
      "2019-04-22 14:00:00    9.169456\n",
      "2019-04-22 15:00:00    9.174572\n",
      "2019-04-22 16:00:00    9.179339\n",
      "...                         ...\n",
      "2024-04-16 18:00:00  154.018949\n",
      "2024-04-16 19:00:00  154.019507\n",
      "2024-04-16 20:00:00  154.024411\n",
      "2024-04-16 22:00:00  154.030827\n",
      "2024-04-16 23:00:00  154.037373\n",
      "\n",
      "[29438 rows x 1 columns]\n",
      "2019-04-23 13:00:00         NaN\n",
      "2019-04-23 14:00:00    0.000056\n",
      "2019-04-23 15:00:00    0.000185\n",
      "2019-04-23 16:00:00    0.000196\n",
      "2019-04-23 17:00:00    0.000185\n",
      "                         ...   \n",
      "2024-04-16 18:00:00    0.000181\n",
      "2024-04-16 19:00:00    0.000180\n",
      "2024-04-16 20:00:00    0.000179\n",
      "2024-04-16 22:00:00    0.000178\n",
      "2024-04-16 23:00:00    0.000177\n",
      "Name: Close, Length: 29414, dtype: float64\n"
     ]
    }
   ],
   "source": [
    "print(test_ffd)\n",
    "print(daily_volatility)"
   ]
  },
  {
   "cell_type": "code",
   "execution_count": 6,
   "metadata": {},
   "outputs": [
    {
     "name": "stderr",
     "output_type": "stream",
     "text": [
      "c:\\Users\\David\\Classes\\ECE479\\fml_lib.py:115: FutureWarning: Series.__getitem__ treating keys as positions is deprecated. In a future version, integer keys will always be treated as labels (consistent with DataFrame behavior). To access a value by position, use `ser.iloc[pos]`\n",
      "  if sNeg<-h.iloc[h.index.get_indexer([i], method='nearest')][0]:\n",
      "c:\\Users\\David\\Classes\\ECE479\\fml_lib.py:118: FutureWarning: Series.__getitem__ treating keys as positions is deprecated. In a future version, integer keys will always be treated as labels (consistent with DataFrame behavior). To access a value by position, use `ser.iloc[pos]`\n",
      "  elif sPos>h.iloc[h.index.get_indexer([i], method='nearest')][0]:\n"
     ]
    }
   ],
   "source": [
    "\n",
    "if os.path.exists(\"./t_events.csv\"):\n",
    "    t_events = pd.read_csv(\"t_events.csv\", index_col=[0])\n",
    "    t_events = t_events.index\n",
    "else:\n",
    "    t_events = fml_lib.getTEvents(test_ffd.Close, 2*daily_volatility)\n",
    "    t_events_df = pd.DataFrame(index= t_events)\n",
    "    t_events_df.to_csv(\"./t_events_csv\", index=True)"
   ]
  },
  {
   "cell_type": "code",
   "execution_count": 7,
   "metadata": {},
   "outputs": [
    {
     "name": "stdout",
     "output_type": "stream",
     "text": [
      "DatetimeIndex(['2019-04-23 14:00:00', '2019-04-23 15:00:00',\n",
      "               '2019-04-23 16:00:00', '2019-04-23 17:00:00',\n",
      "               '2019-04-23 18:00:00', '2019-04-23 19:00:00',\n",
      "               '2019-04-23 20:00:00', '2019-04-23 22:00:00',\n",
      "               '2019-04-23 23:00:00', '2019-04-24 00:00:00',\n",
      "               ...\n",
      "               '2024-04-16 13:00:00', '2024-04-16 14:00:00',\n",
      "               '2024-04-16 15:00:00', '2024-04-16 16:00:00',\n",
      "               '2024-04-16 17:00:00', '2024-04-16 18:00:00',\n",
      "               '2024-04-16 19:00:00', '2024-04-16 20:00:00',\n",
      "               '2024-04-16 22:00:00', '2024-04-16 23:00:00'],\n",
      "              dtype='datetime64[ns]', length=28277, freq=None)\n"
     ]
    }
   ],
   "source": [
    "print(t_events)"
   ]
  },
  {
   "cell_type": "code",
   "execution_count": 8,
   "metadata": {},
   "outputs": [
    {
     "name": "stdout",
     "output_type": "stream",
     "text": [
      "                          Close  original_close\n",
      "2019-04-23 14:00:00    9.284123        2920.470\n",
      "2019-04-23 15:00:00    9.292608        2931.169\n",
      "2019-04-23 16:00:00    9.298190        2933.170\n",
      "2019-04-23 17:00:00    9.302872        2932.669\n",
      "2019-04-23 18:00:00    9.308194        2934.170\n",
      "...                         ...             ...\n",
      "2024-04-16 18:00:00  154.018949        5073.976\n",
      "2024-04-16 19:00:00  154.019507        5050.723\n",
      "2024-04-16 20:00:00  154.024411        5050.421\n",
      "2024-04-16 22:00:00  154.030827        5057.506\n",
      "2024-04-16 23:00:00  154.037373        5064.960\n",
      "\n",
      "[28277 rows x 2 columns]\n"
     ]
    }
   ],
   "source": [
    "test_ffd['original_close'] = close.loc[t_events]\n",
    "test_ffd['Close'] = test_ffd['Close'].loc[t_events]\n",
    "test_ffd = test_ffd.dropna()\n",
    "print(test_ffd)\n",
    "#adds the vertical barrier num_days out from the time of the event\n",
    "numDays = 5\n",
    "t1=test_ffd.index.searchsorted(t_events+pd.Timedelta(days=numDays))\n",
    "t1=t1[t1<test_ffd.shape[0]]\n",
    "t1=pd.Series(test_ffd.index[t1],index=t_events[:t1.shape[0]]) # NaNs at end"
   ]
  },
  {
   "cell_type": "code",
   "execution_count": 9,
   "metadata": {},
   "outputs": [
    {
     "name": "stdout",
     "output_type": "stream",
     "text": [
      "2019-04-23 14:00:00   2019-04-28 22:00:00\n",
      "2019-04-23 15:00:00   2019-04-28 22:00:00\n",
      "2019-04-23 16:00:00   2019-04-28 22:00:00\n",
      "2019-04-23 17:00:00   2019-04-28 22:00:00\n",
      "2019-04-23 18:00:00   2019-04-28 22:00:00\n",
      "                              ...        \n",
      "2024-04-11 18:00:00   2024-04-16 18:00:00\n",
      "2024-04-11 19:00:00   2024-04-16 19:00:00\n",
      "2024-04-11 20:00:00   2024-04-16 20:00:00\n",
      "2024-04-11 22:00:00   2024-04-16 22:00:00\n",
      "2024-04-11 23:00:00   2024-04-16 23:00:00\n",
      "Length: 28209, dtype: datetime64[ns]\n"
     ]
    }
   ],
   "source": [
    "print(t1)"
   ]
  },
  {
   "cell_type": "code",
   "execution_count": 10,
   "metadata": {},
   "outputs": [
    {
     "name": "stdout",
     "output_type": "stream",
     "text": [
      "datetime64[ns]\n"
     ]
    }
   ],
   "source": [
    "min_ret= 0.005\n",
    "#trgt = pd.Series(0.01, index=t_events)\n",
    "trgt = 2*daily_volatility\n",
    "'''\n",
    "if os.path.exists(\"./events.csv\"):\n",
    "    events = pd.read_csv(\"events.csv\", index_col=[0])\n",
    "    events = events.dropna()\n",
    "else:\n",
    "    events = fml_lib.getEvents(close, t_events, 0.02,np.log(trgt) , np.log(min_ret),t1)\n",
    "    events.to_csv(\"events.csv\")\n",
    "'''\n",
    "events = fml_lib.getEvents(test_ffd['original_close'], t_events, 0.02,trgt , min_ret,t1)\n",
    "events.to_csv(\"events.csv\")"
   ]
  },
  {
   "cell_type": "code",
   "execution_count": 11,
   "metadata": {},
   "outputs": [
    {
     "name": "stdout",
     "output_type": "stream",
     "text": [
      "                                     t1      trgt  side\n",
      "2019-04-29 00:00:00 2019-04-29 02:00:00  0.005987   1.0\n",
      "2019-04-29 02:00:00 2019-04-29 06:00:00  0.007055   1.0\n",
      "2019-04-29 04:00:00 2019-04-29 06:00:00  0.007639   1.0\n",
      "2019-04-29 06:00:00 2019-04-29 08:00:00  0.007932   1.0\n",
      "2019-04-29 08:00:00 2019-04-29 11:00:00  0.008030   1.0\n",
      "...                                 ...       ...   ...\n",
      "2019-06-24 13:00:00 2019-06-24 14:00:00  0.005399   1.0\n",
      "2019-06-24 14:00:00 2019-06-24 16:00:00  0.005354   1.0\n",
      "2019-06-24 16:00:00 2019-06-24 18:00:00  0.005253   1.0\n",
      "2019-06-24 18:00:00 2019-06-24 20:00:00  0.005150   1.0\n",
      "2019-06-24 20:00:00 2019-06-24 23:00:00  0.005056   1.0\n",
      "\n",
      "[237 rows x 3 columns]\n"
     ]
    }
   ],
   "source": [
    "print(events)"
   ]
  },
  {
   "cell_type": "code",
   "execution_count": 12,
   "metadata": {},
   "outputs": [
    {
     "name": "stdout",
     "output_type": "stream",
     "text": [
      "                          ret  bin\n",
      "2019-04-29 00:00:00  0.000442  1.0\n",
      "2019-04-29 02:00:00 -0.000170 -1.0\n",
      "2019-04-29 04:00:00 -0.000170 -1.0\n",
      "2019-04-29 06:00:00  0.000646  1.0\n",
      "2019-04-29 08:00:00 -0.001428 -1.0\n",
      "...                       ...  ...\n",
      "2019-06-24 13:00:00  0.000915  1.0\n",
      "2019-06-24 14:00:00 -0.000169 -1.0\n",
      "2019-06-24 16:00:00 -0.000847 -1.0\n",
      "2019-06-24 18:00:00 -0.000373 -1.0\n",
      "2019-06-24 20:00:00  0.000101  1.0\n",
      "\n",
      "[237 rows x 2 columns]\n"
     ]
    }
   ],
   "source": [
    "close = test_ffd['original_close']\n",
    "out = fml_lib.getBins(events, close, numDays)\n",
    "print(out)"
   ]
  },
  {
   "cell_type": "code",
   "execution_count": 13,
   "metadata": {},
   "outputs": [
    {
     "name": "stdout",
     "output_type": "stream",
     "text": [
      "                                     t1      trgt  side\n",
      "2019-04-29 00:00:00 2019-04-29 02:00:00  0.005987   1.0\n",
      "2019-04-29 02:00:00 2019-04-29 06:00:00  0.007055   1.0\n",
      "2019-04-29 04:00:00 2019-04-29 06:00:00  0.007639   1.0\n",
      "2019-04-29 06:00:00 2019-04-29 08:00:00  0.007932   1.0\n",
      "2019-04-29 08:00:00 2019-04-29 11:00:00  0.008030   1.0\n",
      "...                                 ...       ...   ...\n",
      "2019-06-24 13:00:00 2019-06-24 14:00:00  0.005399   1.0\n",
      "2019-06-24 14:00:00 2019-06-24 16:00:00  0.005354   1.0\n",
      "2019-06-24 16:00:00 2019-06-24 18:00:00  0.005253   1.0\n",
      "2019-06-24 18:00:00 2019-06-24 20:00:00  0.005150   1.0\n",
      "2019-06-24 20:00:00 2019-06-24 23:00:00  0.005056   1.0\n",
      "\n",
      "[237 rows x 3 columns]\n"
     ]
    }
   ],
   "source": [
    "print(events)"
   ]
  },
  {
   "cell_type": "markdown",
   "metadata": {},
   "source": [
    "Want to find sample weights for use in the boosting fit"
   ]
  },
  {
   "cell_type": "code",
   "execution_count": 14,
   "metadata": {},
   "outputs": [],
   "source": [
    "temp = list(set(pd.to_datetime(events.t1.index)) & set(pd.to_datetime(events.index)) )"
   ]
  },
  {
   "cell_type": "code",
   "execution_count": 15,
   "metadata": {},
   "outputs": [
    {
     "name": "stdout",
     "output_type": "stream",
     "text": [
      "2019-04-29 00:00:00    1\n",
      "2019-04-29 02:00:00    2\n",
      "2019-04-29 04:00:00    2\n",
      "2019-04-29 06:00:00    3\n",
      "2019-04-29 08:00:00    2\n",
      "                      ..\n",
      "2019-06-24 14:00:00    2\n",
      "2019-06-24 16:00:00    2\n",
      "2019-06-24 18:00:00    2\n",
      "2019-06-24 20:00:00    2\n",
      "2019-06-24 23:00:00    1\n",
      "Length: 627, dtype: int64\n"
     ]
    }
   ],
   "source": [
    "#test_co_events = mpPandasObj(fml_lib.mpNumCoEvents,('molecule',events.index),24, closeIdx=close.index,t1=events['t1'])\n",
    "\n",
    "if os.path.exists(\"./t_events.csv\"):  \n",
    "    numCoEvents = pd.read_csv(\"./co_events.csv\", index_col=[0])\n",
    "else:\n",
    "    numCoEvents = fml_lib.get_co_events(close,events)\n",
    "    numCoEvents.to_csv(\"./co_events.csv\", index=True)"
   ]
  },
  {
   "cell_type": "code",
   "execution_count": 16,
   "metadata": {},
   "outputs": [],
   "source": [
    "\n",
    "old_index = numCoEvents.index\n",
    "old_co = numCoEvents.values"
   ]
  },
  {
   "cell_type": "code",
   "execution_count": 17,
   "metadata": {},
   "outputs": [
    {
     "name": "stdout",
     "output_type": "stream",
     "text": [
      "2019-04-29 00:00:00    1\n",
      "2019-04-29 02:00:00    2\n",
      "2019-04-29 04:00:00    2\n",
      "2019-04-29 06:00:00    3\n",
      "2019-04-29 08:00:00    2\n",
      "                      ..\n",
      "2019-06-24 14:00:00    2\n",
      "2019-06-24 16:00:00    2\n",
      "2019-06-24 18:00:00    2\n",
      "2019-06-24 20:00:00    2\n",
      "2019-06-24 23:00:00    1\n",
      "Length: 627, dtype: int64\n",
      "2019-04-23 14:00:00    0\n",
      "2019-04-23 15:00:00    0\n",
      "2019-04-23 16:00:00    0\n",
      "2019-04-23 17:00:00    0\n",
      "2019-04-23 18:00:00    0\n",
      "                      ..\n",
      "2024-04-16 18:00:00    0\n",
      "2024-04-16 19:00:00    0\n",
      "2024-04-16 20:00:00    0\n",
      "2024-04-16 22:00:00    0\n",
      "2024-04-16 23:00:00    0\n",
      "Length: 28277, dtype: int64\n"
     ]
    }
   ],
   "source": [
    "numCoEvents=numCoEvents.loc[~numCoEvents.index.duplicated(keep='last')]\n",
    "numCoEvents=numCoEvents.reindex(close.index,fill_value=0)\n",
    "numCoEvents.loc[old_index] = old_co\n",
    "print(numCoEvents.loc[old_index])\n",
    "print(numCoEvents)"
   ]
  },
  {
   "cell_type": "code",
   "execution_count": 18,
   "metadata": {},
   "outputs": [
    {
     "name": "stdout",
     "output_type": "stream",
     "text": [
      "pool made\n",
      "variables initialized\n",
      "in loop\n",
      "Reporting\n",
      "in loop\n",
      "Reporting\n",
      "in loop\n",
      "Reporting\n"
     ]
    },
    {
     "name": "stderr",
     "output_type": "stream",
     "text": [
      "2024-04-24 03:15:22.352739 25.0% mpSampleTW done after 0.12 minutes. Remaining 0.37 minutes..\r"
     ]
    },
    {
     "name": "stdout",
     "output_type": "stream",
     "text": [
      "in loop\n",
      "Reporting\n",
      "in loop\n",
      "Reporting\n",
      "in loop\n",
      "Reporting\n",
      "in loop\n",
      "Reporting\n",
      "in loop\n",
      "Reporting\n"
     ]
    },
    {
     "name": "stderr",
     "output_type": "stream",
     "text": [
      "2024-04-24 03:15:22.800738 66.67% mpSampleTW done after 0.13 minutes. Remaining 0.06 minutes.\r"
     ]
    },
    {
     "name": "stdout",
     "output_type": "stream",
     "text": [
      "in loop\n",
      "Reporting\n",
      "in loop\n",
      "Reporting\n",
      "in loop\n",
      "Reporting\n",
      "in loop\n",
      "Reporting\n"
     ]
    },
    {
     "name": "stderr",
     "output_type": "stream",
     "text": [
      "2024-04-24 03:15:23.017737 100.0% mpSampleTW done after 0.13 minutes. Remaining 0.0 minutes..\n",
      "c:\\Users\\David\\Classes\\ECE479\\mp_engine.py:127: FutureWarning: The behavior of array concatenation with empty entries is deprecated. In a future version, this will no longer exclude empty items when determining the result dtype. To retain the old behavior, exclude the empty entries before the concat operation.\n",
      "  df0=df0._append(i)\n"
     ]
    }
   ],
   "source": [
    "numThreads = 12\n",
    "\n",
    "out['tW']=mpPandasObj(fml_lib.mpSampleTW,('molecule',events.index),numThreads, t1=events['t1'],numCoEvents=numCoEvents)"
   ]
  },
  {
   "cell_type": "code",
   "execution_count": 19,
   "metadata": {},
   "outputs": [
    {
     "name": "stdout",
     "output_type": "stream",
     "text": [
      "pool made\n",
      "variables initialized\n",
      "in loop\n",
      "Reporting\n",
      "in loop\n",
      "Reporting\n",
      "in loop\n",
      "Reporting\n"
     ]
    },
    {
     "name": "stderr",
     "output_type": "stream",
     "text": [
      "2024-04-24 03:15:29.747741 25.0% mpSampleW done after 0.1 minutes. Remaining 0.29 minutes.s.\r"
     ]
    },
    {
     "name": "stdout",
     "output_type": "stream",
     "text": [
      "in loop\n",
      "Reporting\n",
      "in loop\n",
      "Reporting\n"
     ]
    },
    {
     "name": "stderr",
     "output_type": "stream",
     "text": [
      "2024-04-24 03:15:30.071738 41.67% mpSampleW done after 0.1 minutes. Remaining 0.14 minutes.\r"
     ]
    },
    {
     "name": "stdout",
     "output_type": "stream",
     "text": [
      "in loop\n",
      "Reporting\n"
     ]
    },
    {
     "name": "stderr",
     "output_type": "stream",
     "text": [
      "2024-04-24 03:15:30.577738 50.0% mpSampleW done after 0.11 minutes. Remaining 0.11 minutes.\r"
     ]
    },
    {
     "name": "stdout",
     "output_type": "stream",
     "text": [
      "in loop\n",
      "Reporting\n",
      "in loop\n",
      "Reporting\n",
      "in loop\n",
      "Reporting\n",
      "in loop\n",
      "Reporting\n"
     ]
    },
    {
     "name": "stderr",
     "output_type": "stream",
     "text": [
      "2024-04-24 03:15:31.371739 83.33% mpSampleW done after 0.12 minutes. Remaining 0.02 minutes.\r"
     ]
    },
    {
     "name": "stdout",
     "output_type": "stream",
     "text": [
      "in loop\n",
      "Reporting\n"
     ]
    },
    {
     "name": "stderr",
     "output_type": "stream",
     "text": [
      "2024-04-24 03:15:31.463739 91.67% mpSampleW done after 0.12 minutes. Remaining 0.01 minutes.\r"
     ]
    },
    {
     "name": "stdout",
     "output_type": "stream",
     "text": [
      "in loop\n",
      "Reporting\n"
     ]
    },
    {
     "name": "stderr",
     "output_type": "stream",
     "text": [
      "2024-04-24 03:15:31.984738 100.0% mpSampleW done after 0.13 minutes. Remaining 0.0 minutes.\n"
     ]
    },
    {
     "name": "stdout",
     "output_type": "stream",
     "text": [
      "2019-04-29 00:00:00    0.000221\n",
      "2019-04-29 02:00:00    0.000164\n",
      "2019-04-29 04:00:00   -0.000057\n",
      "2019-04-29 06:00:00    0.000266\n",
      "2019-04-29 08:00:00   -0.000392\n",
      "                         ...   \n",
      "2019-06-24 13:00:00   -0.000034\n",
      "2019-06-24 14:00:00    0.000373\n",
      "2019-06-24 16:00:00   -0.000508\n",
      "2019-06-24 18:00:00   -0.000610\n",
      "2019-06-24 20:00:00   -0.000085\n",
      "Name: w, Length: 237, dtype: float64\n"
     ]
    },
    {
     "name": "stderr",
     "output_type": "stream",
     "text": [
      "c:\\Users\\David\\Classes\\ECE479\\mp_engine.py:127: FutureWarning: The behavior of array concatenation with empty entries is deprecated. In a future version, this will no longer exclude empty items when determining the result dtype. To retain the old behavior, exclude the empty entries before the concat operation.\n",
      "  df0=df0._append(i)\n"
     ]
    }
   ],
   "source": [
    "\n",
    "out['w'] = mpPandasObj(fml_lib.mpSampleW,('molecule',events.index),numThreads, t1=events['t1'],numCoEvents=numCoEvents,close=close)\n",
    "print(out['w'])"
   ]
  },
  {
   "cell_type": "code",
   "execution_count": 20,
   "metadata": {},
   "outputs": [
    {
     "name": "stdout",
     "output_type": "stream",
     "text": [
      "                          ret  bin        tW         w\n",
      "2019-04-29 00:00:00  0.000442  1.0  0.750000  0.000221\n",
      "2019-04-29 02:00:00 -0.000170 -1.0  0.444444  0.000164\n",
      "2019-04-29 04:00:00 -0.000170 -1.0  0.416667 -0.000057\n",
      "2019-04-29 06:00:00  0.000646  1.0  0.416667  0.000266\n",
      "2019-04-29 08:00:00 -0.001428 -1.0  0.500000 -0.000392\n",
      "...                       ...  ...       ...       ...\n",
      "2019-06-24 13:00:00  0.000915  1.0  0.500000 -0.000034\n",
      "2019-06-24 14:00:00 -0.000169 -1.0  0.500000  0.000373\n",
      "2019-06-24 16:00:00 -0.000847 -1.0  0.500000 -0.000508\n",
      "2019-06-24 18:00:00 -0.000373 -1.0  0.500000 -0.000610\n",
      "2019-06-24 20:00:00  0.000101  1.0  0.750000 -0.000085\n",
      "\n",
      "[237 rows x 4 columns]\n"
     ]
    }
   ],
   "source": [
    "print(out)"
   ]
  },
  {
   "cell_type": "code",
   "execution_count": 21,
   "metadata": {},
   "outputs": [
    {
     "name": "stdout",
     "output_type": "stream",
     "text": [
      "2019-04-29 00:00:00   2019-04-29 02:00:00\n",
      "2019-04-29 02:00:00   2019-04-29 06:00:00\n",
      "2019-04-29 04:00:00   2019-04-29 06:00:00\n",
      "2019-04-29 06:00:00   2019-04-29 08:00:00\n",
      "2019-04-29 08:00:00   2019-04-29 11:00:00\n",
      "                              ...        \n",
      "2019-06-24 13:00:00   2019-06-24 14:00:00\n",
      "2019-06-24 14:00:00   2019-06-24 16:00:00\n",
      "2019-06-24 16:00:00   2019-06-24 18:00:00\n",
      "2019-06-24 18:00:00   2019-06-24 20:00:00\n",
      "2019-06-24 20:00:00   2019-06-24 23:00:00\n",
      "Name: t1, Length: 237, dtype: datetime64[ns]\n"
     ]
    }
   ],
   "source": [
    "print(events['t1'])"
   ]
  },
  {
   "cell_type": "code",
   "execution_count": 22,
   "metadata": {},
   "outputs": [
    {
     "name": "stdout",
     "output_type": "stream",
     "text": [
      "                         Close  original_close\n",
      "2019-04-29 00:00:00   9.660999        2938.670\n",
      "2019-04-29 02:00:00   9.670972        2939.969\n",
      "2019-04-29 04:00:00   9.680507        2939.970\n",
      "2019-04-29 06:00:00   9.689869        2939.470\n",
      "2019-04-29 08:00:00   9.700027        2941.370\n",
      "...                        ...             ...\n",
      "2019-06-24 13:00:00  14.047657        2948.370\n",
      "2019-06-24 14:00:00  14.053285        2951.069\n",
      "2019-06-24 16:00:00  14.062623        2950.569\n",
      "2019-06-24 18:00:00  14.071227        2948.070\n",
      "2019-06-24 20:00:00  14.080293        2946.970\n",
      "\n",
      "[237 rows x 2 columns]\n"
     ]
    }
   ],
   "source": [
    "print(test_ffd.loc[out.index])"
   ]
  },
  {
   "cell_type": "code",
   "execution_count": 23,
   "metadata": {},
   "outputs": [
    {
     "name": "stdout",
     "output_type": "stream",
     "text": [
      "(Timestamp('2019-04-29 00:00:00'), Timestamp('2019-04-29 02:00:00'))\n",
      "(Timestamp('2019-04-29 02:00:00'), Timestamp('2019-04-29 06:00:00'))\n",
      "(Timestamp('2019-04-29 04:00:00'), Timestamp('2019-04-29 06:00:00'))\n",
      "(Timestamp('2019-04-29 06:00:00'), Timestamp('2019-04-29 08:00:00'))\n",
      "(Timestamp('2019-04-29 08:00:00'), Timestamp('2019-04-29 11:00:00'))\n",
      "(Timestamp('2019-04-29 11:00:00'), Timestamp('2019-04-29 13:00:00'))\n",
      "(Timestamp('2019-04-29 13:00:00'), Timestamp('2019-04-29 15:00:00'))\n",
      "(Timestamp('2019-04-29 15:00:00'), Timestamp('2019-04-29 17:00:00'))\n",
      "(Timestamp('2019-04-29 17:00:00'), Timestamp('2019-04-29 19:00:00'))\n",
      "(Timestamp('2019-04-29 19:00:00'), Timestamp('2019-04-29 22:00:00'))\n",
      "(Timestamp('2019-04-29 22:00:00'), Timestamp('2019-04-30 00:00:00'))\n",
      "(Timestamp('2019-04-30 00:00:00'), Timestamp('2019-04-30 02:00:00'))\n",
      "(Timestamp('2019-04-30 02:00:00'), Timestamp('2019-04-30 04:00:00'))\n",
      "(Timestamp('2019-04-30 04:00:00'), Timestamp('2019-04-30 06:00:00'))\n",
      "(Timestamp('2019-04-30 06:00:00'), Timestamp('2019-04-30 08:00:00'))\n",
      "(Timestamp('2019-04-30 08:00:00'), Timestamp('2019-04-30 10:00:00'))\n",
      "(Timestamp('2019-04-30 10:00:00'), Timestamp('2019-04-30 12:00:00'))\n",
      "(Timestamp('2019-04-30 12:00:00'), Timestamp('2019-04-30 14:00:00'))\n",
      "(Timestamp('2019-04-30 14:00:00'), Timestamp('2019-04-30 16:00:00'))\n",
      "(Timestamp('2019-04-30 16:00:00'), Timestamp('2019-04-30 17:00:00'))\n",
      "(Timestamp('2019-04-30 17:00:00'), Timestamp('2019-04-30 20:00:00'))\n",
      "(Timestamp('2019-04-30 19:00:00'), Timestamp('2019-04-30 20:00:00'))\n",
      "(Timestamp('2019-04-30 20:00:00'), Timestamp('2019-04-30 22:00:00'))\n",
      "(Timestamp('2019-04-30 22:00:00'), Timestamp('2019-05-01 00:00:00'))\n",
      "(Timestamp('2019-05-01 00:00:00'), Timestamp('2019-05-01 02:00:00'))\n",
      "(Timestamp('2019-05-01 02:00:00'), Timestamp('2019-05-01 04:00:00'))\n",
      "(Timestamp('2019-05-01 04:00:00'), Timestamp('2019-05-01 10:00:00'))\n",
      "(Timestamp('2019-05-01 06:00:00'), Timestamp('2019-05-01 10:00:00'))\n",
      "(Timestamp('2019-05-01 08:00:00'), Timestamp('2019-05-01 10:00:00'))\n",
      "(Timestamp('2019-05-01 10:00:00'), Timestamp('2019-05-01 14:00:00'))\n",
      "(Timestamp('2019-05-01 12:00:00'), Timestamp('2019-05-01 14:00:00'))\n",
      "(Timestamp('2019-05-01 14:00:00'), Timestamp('2019-05-01 15:00:00'))\n",
      "(Timestamp('2019-05-01 15:00:00'), Timestamp('2019-05-01 17:00:00'))\n",
      "(Timestamp('2019-05-01 17:00:00'), Timestamp('2019-05-01 22:00:00'))\n",
      "(Timestamp('2019-05-06 01:00:00'), Timestamp('2019-05-06 04:00:00'))\n",
      "(Timestamp('2019-05-06 04:00:00'), Timestamp('2019-05-06 07:00:00'))\n",
      "(Timestamp('2019-05-06 07:00:00'), Timestamp('2019-05-06 09:00:00'))\n",
      "(Timestamp('2019-05-06 09:00:00'), Timestamp('2019-05-06 11:00:00'))\n",
      "(Timestamp('2019-05-06 11:00:00'), Timestamp('2019-05-06 13:00:00'))\n",
      "(Timestamp('2019-05-06 13:00:00'), Timestamp('2019-05-06 15:00:00'))\n",
      "(Timestamp('2019-05-06 15:00:00'), Timestamp('2019-05-06 17:00:00'))\n",
      "(Timestamp('2019-05-06 17:00:00'), Timestamp('2019-05-06 18:00:00'))\n",
      "(Timestamp('2019-05-06 18:00:00'), Timestamp('2019-05-06 20:00:00'))\n",
      "(Timestamp('2019-05-06 20:00:00'), Timestamp('2019-05-07 00:00:00'))\n",
      "(Timestamp('2019-05-07 00:00:00'), Timestamp('2019-05-07 02:00:00'))\n",
      "(Timestamp('2019-05-07 02:00:00'), Timestamp('2019-05-07 04:00:00'))\n",
      "(Timestamp('2019-05-07 04:00:00'), Timestamp('2019-05-07 06:00:00'))\n",
      "(Timestamp('2019-05-07 06:00:00'), Timestamp('2019-05-07 09:00:00'))\n",
      "(Timestamp('2019-05-07 09:00:00'), Timestamp('2019-05-07 12:00:00'))\n",
      "(Timestamp('2019-05-07 12:00:00'), Timestamp('2019-05-07 16:00:00'))\n",
      "(Timestamp('2019-05-07 16:00:00'), Timestamp('2019-05-07 19:00:00'))\n",
      "(Timestamp('2019-05-07 19:00:00'), Timestamp('2019-05-07 22:00:00'))\n",
      "(Timestamp('2019-05-07 22:00:00'), Timestamp('2019-05-08 00:00:00'))\n",
      "(Timestamp('2019-05-08 00:00:00'), Timestamp('2019-05-08 01:00:00'))\n",
      "(Timestamp('2019-05-08 01:00:00'), Timestamp('2019-05-08 03:00:00'))\n",
      "(Timestamp('2019-05-08 03:00:00'), Timestamp('2019-05-08 07:00:00'))\n",
      "(Timestamp('2019-05-08 05:00:00'), Timestamp('2019-05-08 07:00:00'))\n",
      "(Timestamp('2019-05-08 07:00:00'), Timestamp('2019-05-08 10:00:00'))\n",
      "(Timestamp('2019-05-08 10:00:00'), Timestamp('2019-05-08 12:00:00'))\n",
      "(Timestamp('2019-05-08 12:00:00'), Timestamp('2019-05-08 13:00:00'))\n",
      "(Timestamp('2019-05-08 13:00:00'), Timestamp('2019-05-08 14:00:00'))\n",
      "(Timestamp('2019-05-08 14:00:00'), Timestamp('2019-05-08 16:00:00'))\n",
      "(Timestamp('2019-05-08 16:00:00'), Timestamp('2019-05-08 18:00:00'))\n",
      "(Timestamp('2019-05-08 18:00:00'), Timestamp('2019-05-08 20:00:00'))\n",
      "(Timestamp('2019-05-08 20:00:00'), Timestamp('2019-05-08 23:00:00'))\n",
      "(Timestamp('2019-05-08 23:00:00'), Timestamp('2019-05-09 01:00:00'))\n",
      "(Timestamp('2019-05-09 01:00:00'), Timestamp('2019-05-09 03:00:00'))\n",
      "(Timestamp('2019-05-09 03:00:00'), Timestamp('2019-05-09 05:00:00'))\n",
      "(Timestamp('2019-05-09 05:00:00'), Timestamp('2019-05-09 07:00:00'))\n",
      "(Timestamp('2019-05-09 07:00:00'), Timestamp('2019-05-09 08:00:00'))\n",
      "(Timestamp('2019-05-09 08:00:00'), Timestamp('2019-05-09 10:00:00'))\n",
      "(Timestamp('2019-05-13 00:00:00'), Timestamp('2019-05-13 06:00:00'))\n",
      "(Timestamp('2019-05-13 02:00:00'), Timestamp('2019-05-13 06:00:00'))\n",
      "(Timestamp('2019-05-13 04:00:00'), Timestamp('2019-05-13 06:00:00'))\n",
      "(Timestamp('2019-05-13 06:00:00'), Timestamp('2019-05-13 09:00:00'))\n",
      "(Timestamp('2019-05-13 09:00:00'), Timestamp('2019-05-13 13:00:00'))\n",
      "(Timestamp('2019-05-13 13:00:00'), Timestamp('2019-05-13 17:00:00'))\n",
      "(Timestamp('2019-05-13 17:00:00'), Timestamp('2019-05-13 19:00:00'))\n",
      "(Timestamp('2019-05-13 19:00:00'), Timestamp('2019-05-13 22:00:00'))\n",
      "(Timestamp('2019-05-13 22:00:00'), Timestamp('2019-05-14 00:00:00'))\n",
      "(Timestamp('2019-05-14 00:00:00'), Timestamp('2019-05-14 01:00:00'))\n",
      "(Timestamp('2019-05-14 01:00:00'), Timestamp('2019-05-14 03:00:00'))\n",
      "(Timestamp('2019-05-14 03:00:00'), Timestamp('2019-05-14 05:00:00'))\n",
      "(Timestamp('2019-05-14 05:00:00'), Timestamp('2019-05-14 07:00:00'))\n",
      "(Timestamp('2019-05-14 07:00:00'), Timestamp('2019-05-14 09:00:00'))\n",
      "(Timestamp('2019-05-14 09:00:00'), Timestamp('2019-05-14 11:00:00'))\n",
      "(Timestamp('2019-05-14 11:00:00'), Timestamp('2019-05-14 13:00:00'))\n",
      "(Timestamp('2019-05-14 13:00:00'), Timestamp('2019-05-14 14:00:00'))\n",
      "(Timestamp('2019-05-14 14:00:00'), Timestamp('2019-05-14 15:00:00'))\n",
      "(Timestamp('2019-05-14 15:00:00'), Timestamp('2019-05-14 17:00:00'))\n",
      "(Timestamp('2019-05-14 17:00:00'), Timestamp('2019-05-14 20:00:00'))\n",
      "(Timestamp('2019-05-14 20:00:00'), Timestamp('2019-05-14 23:00:00'))\n",
      "(Timestamp('2019-05-14 23:00:00'), Timestamp('2019-05-15 01:00:00'))\n",
      "(Timestamp('2019-05-15 01:00:00'), Timestamp('2019-05-15 05:00:00'))\n",
      "(Timestamp('2019-05-15 03:00:00'), Timestamp('2019-05-15 05:00:00'))\n",
      "(Timestamp('2019-05-15 05:00:00'), Timestamp('2019-05-15 08:00:00'))\n",
      "(Timestamp('2019-05-15 08:00:00'), Timestamp('2019-05-15 10:00:00'))\n",
      "(Timestamp('2019-05-15 10:00:00'), Timestamp('2019-05-15 13:00:00'))\n",
      "(Timestamp('2019-05-15 13:00:00'), Timestamp('2019-05-15 14:00:00'))\n",
      "(Timestamp('2019-05-15 14:00:00'), Timestamp('2019-05-15 15:00:00'))\n",
      "(Timestamp('2019-05-15 15:00:00'), Timestamp('2019-05-15 17:00:00'))\n",
      "(Timestamp('2019-05-15 17:00:00'), Timestamp('2019-05-15 19:00:00'))\n",
      "(Timestamp('2019-05-15 19:00:00'), Timestamp('2019-05-15 22:00:00'))\n",
      "(Timestamp('2019-05-15 22:00:00'), Timestamp('2019-05-16 00:00:00'))\n",
      "(Timestamp('2019-05-16 00:00:00'), Timestamp('2019-05-16 04:00:00'))\n",
      "(Timestamp('2019-05-16 02:00:00'), Timestamp('2019-05-16 04:00:00'))\n",
      "(Timestamp('2019-05-16 04:00:00'), Timestamp('2019-05-16 06:00:00'))\n",
      "(Timestamp('2019-05-16 06:00:00'), Timestamp('2019-05-16 08:00:00'))\n",
      "(Timestamp('2019-05-19 23:00:00'), Timestamp('2019-05-20 07:00:00'))\n",
      "(Timestamp('2019-05-20 01:00:00'), Timestamp('2019-05-20 05:00:00'))\n",
      "(Timestamp('2019-05-20 03:00:00'), Timestamp('2019-05-20 07:00:00'))\n",
      "(Timestamp('2019-05-20 05:00:00'), Timestamp('2019-05-20 07:00:00'))\n",
      "(Timestamp('2019-05-20 07:00:00'), Timestamp('2019-05-20 11:00:00'))\n",
      "(Timestamp('2019-05-20 11:00:00'), Timestamp('2019-05-20 13:00:00'))\n",
      "(Timestamp('2019-05-20 13:00:00'), Timestamp('2019-05-20 14:00:00'))\n",
      "(Timestamp('2019-05-20 14:00:00'), Timestamp('2019-05-20 17:00:00'))\n",
      "(Timestamp('2019-05-20 17:00:00'), Timestamp('2019-05-20 19:00:00'))\n",
      "(Timestamp('2019-05-20 19:00:00'), Timestamp('2019-05-20 22:00:00'))\n",
      "(Timestamp('2019-05-20 22:00:00'), Timestamp('2019-05-21 00:00:00'))\n",
      "(Timestamp('2019-05-21 00:00:00'), Timestamp('2019-05-21 02:00:00'))\n",
      "(Timestamp('2019-05-21 02:00:00'), Timestamp('2019-05-21 04:00:00'))\n",
      "(Timestamp('2019-05-21 04:00:00'), Timestamp('2019-05-21 06:00:00'))\n",
      "(Timestamp('2019-05-21 06:00:00'), Timestamp('2019-05-21 08:00:00'))\n",
      "(Timestamp('2019-05-21 08:00:00'), Timestamp('2019-05-21 09:00:00'))\n",
      "(Timestamp('2019-05-21 09:00:00'), Timestamp('2019-05-21 11:00:00'))\n",
      "(Timestamp('2019-05-21 11:00:00'), Timestamp('2019-05-21 12:00:00'))\n",
      "(Timestamp('2019-05-21 12:00:00'), Timestamp('2019-05-21 14:00:00'))\n",
      "(Timestamp('2019-05-21 14:00:00'), Timestamp('2019-05-21 16:00:00'))\n",
      "(Timestamp('2019-05-21 16:00:00'), Timestamp('2019-05-21 18:00:00'))\n",
      "(Timestamp('2019-05-21 18:00:00'), Timestamp('2019-05-21 20:00:00'))\n",
      "(Timestamp('2019-05-21 20:00:00'), Timestamp('2019-05-21 23:00:00'))\n",
      "(Timestamp('2019-05-21 23:00:00'), Timestamp('2019-05-22 05:00:00'))\n",
      "(Timestamp('2019-05-22 01:00:00'), Timestamp('2019-05-22 03:00:00'))\n",
      "(Timestamp('2019-05-22 03:00:00'), Timestamp('2019-05-22 05:00:00'))\n",
      "(Timestamp('2019-05-22 05:00:00'), Timestamp('2019-05-22 07:00:00'))\n",
      "(Timestamp('2019-05-22 07:00:00'), Timestamp('2019-05-22 08:00:00'))\n",
      "(Timestamp('2019-05-22 08:00:00'), Timestamp('2019-05-22 09:00:00'))\n",
      "(Timestamp('2019-05-27 04:00:00'), Timestamp('2019-05-27 06:00:00'))\n",
      "(Timestamp('2019-05-27 06:00:00'), Timestamp('2019-05-27 08:00:00'))\n",
      "(Timestamp('2019-05-27 08:00:00'), Timestamp('2019-05-27 10:00:00'))\n",
      "(Timestamp('2019-05-27 10:00:00'), Timestamp('2019-05-27 14:00:00'))\n",
      "(Timestamp('2019-05-27 12:00:00'), Timestamp('2019-05-27 16:00:00'))\n",
      "(Timestamp('2019-05-27 14:00:00'), Timestamp('2019-05-27 16:00:00'))\n",
      "(Timestamp('2019-05-27 16:00:00'), Timestamp('2019-05-27 23:00:00'))\n",
      "(Timestamp('2019-05-27 23:00:00'), Timestamp('2019-05-28 00:00:00'))\n",
      "(Timestamp('2019-05-28 00:00:00'), Timestamp('2019-05-28 02:00:00'))\n",
      "(Timestamp('2019-05-28 02:00:00'), Timestamp('2019-05-28 04:00:00'))\n",
      "(Timestamp('2019-05-28 04:00:00'), Timestamp('2019-05-28 06:00:00'))\n",
      "(Timestamp('2019-05-28 06:00:00'), Timestamp('2019-05-28 08:00:00'))\n",
      "(Timestamp('2019-05-28 08:00:00'), Timestamp('2019-05-28 09:00:00'))\n",
      "(Timestamp('2019-05-28 09:00:00'), Timestamp('2019-05-28 11:00:00'))\n",
      "(Timestamp('2019-05-28 11:00:00'), Timestamp('2019-05-28 13:00:00'))\n",
      "(Timestamp('2019-05-28 13:00:00'), Timestamp('2019-05-28 15:00:00'))\n",
      "(Timestamp('2019-05-28 15:00:00'), Timestamp('2019-05-28 17:00:00'))\n",
      "(Timestamp('2019-06-03 02:00:00'), Timestamp('2019-06-03 04:00:00'))\n",
      "(Timestamp('2019-06-03 04:00:00'), Timestamp('2019-06-03 05:00:00'))\n",
      "(Timestamp('2019-06-03 05:00:00'), Timestamp('2019-06-03 07:00:00'))\n",
      "(Timestamp('2019-06-03 07:00:00'), Timestamp('2019-06-03 08:00:00'))\n",
      "(Timestamp('2019-06-03 08:00:00'), Timestamp('2019-06-03 09:00:00'))\n",
      "(Timestamp('2019-06-03 09:00:00'), Timestamp('2019-06-03 11:00:00'))\n",
      "(Timestamp('2019-06-03 11:00:00'), Timestamp('2019-06-03 12:00:00'))\n",
      "(Timestamp('2019-06-03 12:00:00'), Timestamp('2019-06-03 14:00:00'))\n",
      "(Timestamp('2019-06-03 14:00:00'), Timestamp('2019-06-03 17:00:00'))\n",
      "(Timestamp('2019-06-03 17:00:00'), Timestamp('2019-06-03 19:00:00'))\n",
      "(Timestamp('2019-06-03 19:00:00'), Timestamp('2019-06-03 20:00:00'))\n",
      "(Timestamp('2019-06-03 20:00:00'), Timestamp('2019-06-03 22:00:00'))\n",
      "(Timestamp('2019-06-03 22:00:00'), Timestamp('2019-06-04 00:00:00'))\n",
      "(Timestamp('2019-06-04 00:00:00'), Timestamp('2019-06-04 02:00:00'))\n",
      "(Timestamp('2019-06-04 02:00:00'), Timestamp('2019-06-04 03:00:00'))\n",
      "(Timestamp('2019-06-04 03:00:00'), Timestamp('2019-06-04 07:00:00'))\n",
      "(Timestamp('2019-06-04 05:00:00'), Timestamp('2019-06-04 07:00:00'))\n",
      "(Timestamp('2019-06-04 07:00:00'), Timestamp('2019-06-04 08:00:00'))\n",
      "(Timestamp('2019-06-04 08:00:00'), Timestamp('2019-06-04 10:00:00'))\n",
      "(Timestamp('2019-06-04 10:00:00'), Timestamp('2019-06-04 11:00:00'))\n",
      "(Timestamp('2019-06-04 11:00:00'), Timestamp('2019-06-04 12:00:00'))\n",
      "(Timestamp('2019-06-04 12:00:00'), Timestamp('2019-06-04 14:00:00'))\n",
      "(Timestamp('2019-06-04 14:00:00'), Timestamp('2019-06-04 15:00:00'))\n",
      "(Timestamp('2019-06-04 15:00:00'), Timestamp('2019-06-04 16:00:00'))\n",
      "(Timestamp('2019-06-04 16:00:00'), Timestamp('2019-06-04 17:00:00'))\n",
      "(Timestamp('2019-06-04 17:00:00'), Timestamp('2019-06-04 19:00:00'))\n",
      "(Timestamp('2019-06-04 19:00:00'), Timestamp('2019-06-04 20:00:00'))\n",
      "(Timestamp('2019-06-04 20:00:00'), Timestamp('2019-06-04 22:00:00'))\n",
      "(Timestamp('2019-06-04 22:00:00'), Timestamp('2019-06-04 23:00:00'))\n",
      "(Timestamp('2019-06-04 23:00:00'), Timestamp('2019-06-05 01:00:00'))\n",
      "(Timestamp('2019-06-05 01:00:00'), Timestamp('2019-06-05 03:00:00'))\n",
      "(Timestamp('2019-06-05 03:00:00'), Timestamp('2019-06-05 05:00:00'))\n",
      "(Timestamp('2019-06-05 05:00:00'), Timestamp('2019-06-05 07:00:00'))\n",
      "(Timestamp('2019-06-05 07:00:00'), Timestamp('2019-06-05 09:00:00'))\n",
      "(Timestamp('2019-06-05 09:00:00'), Timestamp('2019-06-05 10:00:00'))\n",
      "(Timestamp('2019-06-05 10:00:00'), Timestamp('2019-06-05 12:00:00'))\n",
      "(Timestamp('2019-06-05 12:00:00'), Timestamp('2019-06-05 13:00:00'))\n",
      "(Timestamp('2019-06-05 13:00:00'), Timestamp('2019-06-05 15:00:00'))\n",
      "(Timestamp('2019-06-05 15:00:00'), Timestamp('2019-06-05 16:00:00'))\n",
      "(Timestamp('2019-06-10 00:00:00'), Timestamp('2019-06-10 01:00:00'))\n",
      "(Timestamp('2019-06-10 01:00:00'), Timestamp('2019-06-10 03:00:00'))\n",
      "(Timestamp('2019-06-10 03:00:00'), Timestamp('2019-06-10 05:00:00'))\n",
      "(Timestamp('2019-06-10 05:00:00'), Timestamp('2019-06-10 07:00:00'))\n",
      "(Timestamp('2019-06-10 07:00:00'), Timestamp('2019-06-10 09:00:00'))\n",
      "(Timestamp('2019-06-10 09:00:00'), Timestamp('2019-06-10 11:00:00'))\n",
      "(Timestamp('2019-06-10 11:00:00'), Timestamp('2019-06-10 13:00:00'))\n",
      "(Timestamp('2019-06-10 13:00:00'), Timestamp('2019-06-10 15:00:00'))\n",
      "(Timestamp('2019-06-10 15:00:00'), Timestamp('2019-06-10 17:00:00'))\n",
      "(Timestamp('2019-06-10 17:00:00'), Timestamp('2019-06-10 19:00:00'))\n",
      "(Timestamp('2019-06-10 19:00:00'), Timestamp('2019-06-10 22:00:00'))\n",
      "(Timestamp('2019-06-10 22:00:00'), Timestamp('2019-06-11 00:00:00'))\n",
      "(Timestamp('2019-06-11 00:00:00'), Timestamp('2019-06-11 01:00:00'))\n",
      "(Timestamp('2019-06-11 01:00:00'), Timestamp('2019-06-11 03:00:00'))\n",
      "(Timestamp('2019-06-11 03:00:00'), Timestamp('2019-06-11 05:00:00'))\n",
      "(Timestamp('2019-06-11 05:00:00'), Timestamp('2019-06-11 07:00:00'))\n",
      "(Timestamp('2019-06-11 07:00:00'), Timestamp('2019-06-11 08:00:00'))\n",
      "(Timestamp('2019-06-11 08:00:00'), Timestamp('2019-06-11 09:00:00'))\n",
      "(Timestamp('2019-06-11 09:00:00'), Timestamp('2019-06-11 11:00:00'))\n",
      "(Timestamp('2019-06-11 11:00:00'), Timestamp('2019-06-11 12:00:00'))\n",
      "(Timestamp('2019-06-11 12:00:00'), Timestamp('2019-06-11 14:00:00'))\n",
      "(Timestamp('2019-06-11 14:00:00'), Timestamp('2019-06-11 17:00:00'))\n",
      "(Timestamp('2019-06-17 03:00:00'), Timestamp('2019-06-17 05:00:00'))\n",
      "(Timestamp('2019-06-17 05:00:00'), Timestamp('2019-06-17 07:00:00'))\n",
      "(Timestamp('2019-06-17 07:00:00'), Timestamp('2019-06-17 09:00:00'))\n",
      "(Timestamp('2019-06-17 09:00:00'), Timestamp('2019-06-17 11:00:00'))\n",
      "(Timestamp('2019-06-17 11:00:00'), Timestamp('2019-06-17 13:00:00'))\n",
      "(Timestamp('2019-06-17 13:00:00'), Timestamp('2019-06-17 14:00:00'))\n",
      "(Timestamp('2019-06-17 14:00:00'), Timestamp('2019-06-17 16:00:00'))\n",
      "(Timestamp('2019-06-17 16:00:00'), Timestamp('2019-06-17 17:00:00'))\n",
      "(Timestamp('2019-06-17 17:00:00'), Timestamp('2019-06-17 19:00:00'))\n",
      "(Timestamp('2019-06-17 19:00:00'), Timestamp('2019-06-17 20:00:00'))\n",
      "(Timestamp('2019-06-17 20:00:00'), Timestamp('2019-06-18 00:00:00'))\n",
      "(Timestamp('2019-06-17 23:00:00'), Timestamp('2019-06-18 00:00:00'))\n",
      "(Timestamp('2019-06-24 03:00:00'), Timestamp('2019-06-24 05:00:00'))\n",
      "(Timestamp('2019-06-24 05:00:00'), Timestamp('2019-06-24 07:00:00'))\n",
      "(Timestamp('2019-06-24 07:00:00'), Timestamp('2019-06-24 09:00:00'))\n",
      "(Timestamp('2019-06-24 09:00:00'), Timestamp('2019-06-24 11:00:00'))\n",
      "(Timestamp('2019-06-24 11:00:00'), Timestamp('2019-06-24 13:00:00'))\n",
      "(Timestamp('2019-06-24 13:00:00'), Timestamp('2019-06-24 14:00:00'))\n",
      "(Timestamp('2019-06-24 14:00:00'), Timestamp('2019-06-24 16:00:00'))\n",
      "(Timestamp('2019-06-24 16:00:00'), Timestamp('2019-06-24 18:00:00'))\n",
      "(Timestamp('2019-06-24 18:00:00'), Timestamp('2019-06-24 20:00:00'))\n",
      "(Timestamp('2019-06-24 20:00:00'), Timestamp('2019-06-24 23:00:00'))\n"
     ]
    }
   ],
   "source": [
    "for item in events['t1'].items():\n",
    "    print(item)"
   ]
  },
  {
   "cell_type": "code",
   "execution_count": 24,
   "metadata": {},
   "outputs": [],
   "source": [
    "import numba as nb\n",
    "from mp_engine import processJobs_, processJobs\n",
    "@nb.njit\n",
    "def func(arr,i):\n",
    "    col = arr[i]\n",
    "    mask = np.where(col>0)\n",
    "    return np.mean(col[mask])\n",
    "\n",
    "@nb.njit\n",
    "def njit_getAvgUniqueness(indM):\n",
    "    # Average uniqueness from indicator matrix\n",
    "    c=indM.sum(axis=1).reshape(-1,1) # concurrency\n",
    "    u=np.divide(indM,c) # uniqueness\n",
    "    avgU = np.zeros(len(u.T)) # avg. uniqueness\n",
    "    i = 0\n",
    "    for i in range(len(u.T)):\n",
    "        avgU[i] = func(u.T,i)\n",
    "        i+=1\n",
    "    return avgU\n",
    "\n",
    "@nb.jit(nopython=False)\n",
    "def jit_seqBootstrap(indM,sLength=None):\n",
    "    # Generate a sample via sequential bootstrap\n",
    "    if sLength is None:sLength=indM.shape[1]\n",
    "    phi=[]\n",
    "    while len(phi)<sLength:\n",
    "        avgU=pd.Series()\n",
    "        for i in indM:\n",
    "            indM_=indM[phi+[i]] # reduce indM\n",
    "            avgU.loc[i]=njit_getAvgUniqueness(indM_.values)[-1]\n",
    "        prob=avgU/avgU.sum() # draw prob\n",
    "        phi+=[np.random.choice(indM.columns,p=prob)]\n",
    "    print(\"One down\")\n",
    "    return phi\n",
    "#------------------------\n",
    "\n"
   ]
  },
  {
   "cell_type": "code",
   "execution_count": 25,
   "metadata": {},
   "outputs": [
    {
     "name": "stderr",
     "output_type": "stream",
     "text": [
      "c:\\Python39\\lib\\site-packages\\numpy\\core\\fromnumeric.py:59: FutureWarning: 'Series.swapaxes' is deprecated and will be removed in a future version. Please use 'Series.transpose' instead.\n",
      "  return bound(*args, **kwds)\n"
     ]
    },
    {
     "name": "stdout",
     "output_type": "stream",
     "text": [
      "processing\n",
      "pool made\n",
      "variables initialized\n"
     ]
    }
   ],
   "source": [
    "#ind_matrix = fml_lib.getIndMatrix(dollar_bars.index,events['t1'])\n",
    "#bootstrap_indices = fml_lib.seqBootstrap(ind_matrix)\n",
    "bootstrap_indices = fml_lib.main_mp(events['t1'], 100, 4)\n",
    "print(bootstrap_indices)"
   ]
  }
 ],
 "metadata": {
  "kernelspec": {
   "display_name": "Python 3",
   "language": "python",
   "name": "python3"
  },
  "language_info": {
   "codemirror_mode": {
    "name": "ipython",
    "version": 3
   },
   "file_extension": ".py",
   "mimetype": "text/x-python",
   "name": "python",
   "nbconvert_exporter": "python",
   "pygments_lexer": "ipython3",
   "version": "3.9.0"
  }
 },
 "nbformat": 4,
 "nbformat_minor": 2
}
