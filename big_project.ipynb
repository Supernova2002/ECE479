{
 "cells": [
  {
   "cell_type": "code",
   "execution_count": 1,
   "metadata": {},
   "outputs": [],
   "source": [
    "import fml_lib\n",
    "import numpy as np\n",
    "import pandas as pd\n",
    "import scipy.stats as ss\n",
    "import os.path\n",
    "from math import sqrt, exp, log\n",
    "import matplotlib.pyplot as plt\n",
    "from mp_engine import mpPandasObj"
   ]
  },
  {
   "cell_type": "code",
   "execution_count": 2,
   "metadata": {},
   "outputs": [
    {
     "name": "stderr",
     "output_type": "stream",
     "text": [
      "C:\\Users\\David\\AppData\\Local\\Temp\\ipykernel_46244\\1907931566.py:1: FutureWarning: Support for nested sequences for 'parse_dates' in pd.read_csv is deprecated. Combine the desired columns with pd.to_datetime after parsing instead.\n",
      "  dollar_bars = pd.read_csv(\"USA500IDXUSD_bars.csv\", parse_dates=[['Date', 'Timestamp']])\n"
     ]
    }
   ],
   "source": [
    "dollar_bars = pd.read_csv(\"USA500IDXUSD_bars.csv\", parse_dates=[['Date', 'Timestamp']])\n",
    "dollar_bars = dollar_bars.set_index(\"Date_Timestamp\")\n",
    "close = dollar_bars['Close']\n",
    "daily_volatility = fml_lib.getDailyVol(dollar_bars.Close,span0=100)\n"
   ]
  },
  {
   "cell_type": "code",
   "execution_count": 3,
   "metadata": {},
   "outputs": [],
   "source": [
    "\n",
    "if os.path.exists(\"./t_events.csv\"):\n",
    "    t_events = pd.read_csv(\"t_events.csv\", index_col=[0])\n",
    "    t_events = t_events.index\n",
    "else:\n",
    "    t_events = fml_lib.getTEvents(dollar_bars.Close, daily_volatility)\n",
    "    t_events_df = pd.DataFrame(index= t_events)\n",
    "    t_events_df.to_csv(\"./t_events_csv\", index=True)"
   ]
  },
  {
   "cell_type": "code",
   "execution_count": 4,
   "metadata": {},
   "outputs": [
    {
     "name": "stdout",
     "output_type": "stream",
     "text": [
      "DatetimeIndex(['2023-07-04 22:00:10', '2023-07-04 22:00:40',\n",
      "               '2023-07-04 22:00:50', '2023-07-04 22:01:10',\n",
      "               '2023-07-04 22:01:30', '2023-07-04 22:01:50',\n",
      "               '2023-07-04 22:02:10', '2023-07-04 22:02:20',\n",
      "               '2023-07-04 22:02:40', '2023-07-04 22:03:00',\n",
      "               ...\n",
      "               '2024-01-25 03:52:20', '2024-01-25 03:53:40',\n",
      "               '2024-01-25 03:54:50', '2024-01-25 03:55:10',\n",
      "               '2024-01-25 03:55:40', '2024-01-25 03:56:50',\n",
      "               '2024-01-25 03:57:00', '2024-01-25 03:57:20',\n",
      "               '2024-01-25 03:58:30', '2024-01-25 03:58:40'],\n",
      "              dtype='datetime64[ns]', length=814094, freq=None)\n"
     ]
    }
   ],
   "source": [
    "t_events = pd.to_datetime(t_events)\n",
    "print(t_events)"
   ]
  },
  {
   "cell_type": "code",
   "execution_count": 5,
   "metadata": {},
   "outputs": [
    {
     "name": "stdout",
     "output_type": "stream",
     "text": [
      "2023-07-04 22:00:10   2023-07-16 22:00:00\n",
      "2023-07-04 22:00:40   2023-07-16 22:00:00\n",
      "2023-07-04 22:00:50   2023-07-16 22:00:00\n",
      "2023-07-04 22:01:10   2023-07-16 22:00:00\n",
      "2023-07-04 22:01:30   2023-07-16 22:00:00\n",
      "                              ...        \n",
      "2024-01-15 03:54:40   2024-01-25 03:54:50\n",
      "2024-01-15 03:56:00   2024-01-25 03:56:50\n",
      "2024-01-15 03:57:00   2024-01-25 03:57:00\n",
      "2024-01-15 03:57:30   2024-01-25 03:58:30\n",
      "2024-01-15 03:58:40   2024-01-25 03:58:40\n",
      "Name: Date_Timestamp, Length: 769572, dtype: datetime64[ns]\n"
     ]
    }
   ],
   "source": [
    "\n",
    "\n",
    "#adds the vertical barrier num_days out from the time of the event\n",
    "numDays = 10\n",
    "t1=close.index.searchsorted(t_events+pd.Timedelta(days=numDays))\n",
    "t1=t1[t1<close.shape[0]]\n",
    "t1=pd.Series(close.index[t1],index=t_events[:t1.shape[0]]) # NaNs at end\n",
    "print(t1)"
   ]
  },
  {
   "cell_type": "code",
   "execution_count": 6,
   "metadata": {},
   "outputs": [
    {
     "name": "stdout",
     "output_type": "stream",
     "text": [
      "                                      t1  trgt\n",
      "2023-07-04 22:00:10  2023-07-04 22:17:50  0.01\n",
      "2023-07-04 22:00:40  2023-07-04 22:17:50  0.01\n",
      "2023-07-04 22:00:50  2023-07-04 22:15:30  0.01\n",
      "2023-07-04 22:01:10  2023-07-04 22:17:50  0.01\n",
      "2023-07-04 22:01:30  2023-07-04 22:17:50  0.01\n",
      "...                                  ...   ...\n",
      "2024-01-25 03:50:30  2024-01-25 03:56:50  0.01\n",
      "2024-01-25 03:51:30  2024-01-25 03:54:50  0.01\n",
      "2024-01-25 03:51:40  2024-01-25 03:56:50  0.01\n",
      "2024-01-25 03:51:50  2024-01-25 03:54:50  0.01\n",
      "2024-01-25 03:52:00  2024-01-25 03:56:50  0.01\n",
      "\n",
      "[814081 rows x 2 columns]\n"
     ]
    }
   ],
   "source": [
    "min_ret= 0.005\n",
    "trgt = pd.Series(0.01, index=t_events)\n",
    "if os.path.exists(\"./events.csv\"):\n",
    "    events = pd.read_csv(\"events.csv\", index_col=[0])\n",
    "    events = events.dropna()\n",
    "else:\n",
    "    events = fml_lib.getEvents(close, t_events, 0.02,trgt ,min_ret,t1)\n",
    "    events.to_csv(\"events.csv\")\n",
    "print(events)"
   ]
  },
  {
   "cell_type": "code",
   "execution_count": 7,
   "metadata": {},
   "outputs": [
    {
     "name": "stdout",
     "output_type": "stream",
     "text": [
      "[ True  True  True ...  True  True  True]\n"
     ]
    }
   ],
   "source": [
    "\n",
    "out = fml_lib.getBins(events, close, numDays)"
   ]
  },
  {
   "cell_type": "code",
   "execution_count": 8,
   "metadata": {},
   "outputs": [
    {
     "name": "stdout",
     "output_type": "stream",
     "text": [
      "                          ret  bin\n",
      "2023-07-04 22:00:10  0.000226  1.0\n",
      "2023-07-04 22:00:40  0.000223  1.0\n",
      "2023-07-04 22:00:50  0.000220  1.0\n",
      "2023-07-04 22:01:10  0.000226  1.0\n",
      "2023-07-04 22:01:30  0.000224  1.0\n",
      "...                       ...  ...\n",
      "2024-01-25 03:50:30  0.000207  1.0\n",
      "2024-01-25 03:51:30  0.000216  1.0\n",
      "2024-01-25 03:51:40  0.000208  1.0\n",
      "2024-01-25 03:51:50  0.000215  1.0\n",
      "2024-01-25 03:52:00  0.000207  1.0\n",
      "\n",
      "[412467 rows x 2 columns]\n",
      "                          ret  bin\n",
      "2023-07-04 22:00:10  0.000226  1.0\n",
      "2023-07-04 22:00:40  0.000223  1.0\n",
      "2023-07-04 22:00:50  0.000220  1.0\n",
      "2023-07-04 22:01:10  0.000226  1.0\n",
      "2023-07-04 22:01:30  0.000224  1.0\n",
      "...                       ...  ...\n",
      "2024-01-25 03:50:30  0.000207  1.0\n",
      "2024-01-25 03:51:30  0.000216  1.0\n",
      "2024-01-25 03:51:40  0.000208  1.0\n",
      "2024-01-25 03:51:50  0.000215  1.0\n",
      "2024-01-25 03:52:00  0.000207  1.0\n",
      "\n",
      "[814081 rows x 2 columns]\n"
     ]
    }
   ],
   "source": [
    "print(out[out['bin'] == 1])\n",
    "print(out)"
   ]
  },
  {
   "cell_type": "markdown",
   "metadata": {},
   "source": [
    "Want to find sample weights for use in the boosting fit"
   ]
  },
  {
   "cell_type": "code",
   "execution_count": 9,
   "metadata": {},
   "outputs": [
    {
     "name": "stdout",
     "output_type": "stream",
     "text": [
      "                                      t1  trgt\n",
      "2023-07-04 22:00:10  2023-07-04 22:17:50  0.01\n",
      "2023-07-04 22:00:40  2023-07-04 22:17:50  0.01\n",
      "2023-07-04 22:00:50  2023-07-04 22:15:30  0.01\n",
      "2023-07-04 22:01:10  2023-07-04 22:17:50  0.01\n",
      "2023-07-04 22:01:30  2023-07-04 22:17:50  0.01\n",
      "...                                  ...   ...\n",
      "2024-01-25 03:50:30  2024-01-25 03:56:50  0.01\n",
      "2024-01-25 03:51:30  2024-01-25 03:54:50  0.01\n",
      "2024-01-25 03:51:40  2024-01-25 03:56:50  0.01\n",
      "2024-01-25 03:51:50  2024-01-25 03:54:50  0.01\n",
      "2024-01-25 03:52:00  2024-01-25 03:56:50  0.01\n",
      "\n",
      "[814081 rows x 2 columns]\n"
     ]
    }
   ],
   "source": [
    "print(events)"
   ]
  },
  {
   "cell_type": "code",
   "execution_count": 10,
   "metadata": {},
   "outputs": [
    {
     "name": "stdout",
     "output_type": "stream",
     "text": [
      "814081\n",
      "814081\n"
     ]
    }
   ],
   "source": [
    "temp = list(set(pd.to_datetime(events.t1.index)) & set(pd.to_datetime(events.index)) )\n",
    "print(len(temp))\n",
    "print(len(events))"
   ]
  },
  {
   "cell_type": "code",
   "execution_count": 11,
   "metadata": {},
   "outputs": [
    {
     "name": "stdout",
     "output_type": "stream",
     "text": [
      "                      0\n",
      "Date_Timestamp         \n",
      "2023-07-04 22:00:10   1\n",
      "2023-07-04 22:00:40   2\n",
      "2023-07-04 22:00:50   3\n",
      "2023-07-04 22:01:10   4\n",
      "2023-07-04 22:01:30   5\n",
      "...                  ..\n",
      "2024-01-25 03:53:40  42\n",
      "2024-01-25 03:54:50  38\n",
      "2024-01-25 03:55:10  17\n",
      "2024-01-25 03:55:40  17\n",
      "2024-01-25 03:56:50  17\n",
      "\n",
      "[837059 rows x 1 columns]\n"
     ]
    }
   ],
   "source": [
    "#test_co_events = mpPandasObj(fml_lib.mpNumCoEvents,('molecule',events.index),24, closeIdx=close.index,t1=events['t1'])\n",
    "\n",
    "if os.path.exists(\"./t_events.csv\"):  \n",
    "    numCoEvents = pd.read_csv(\"./co_events.csv\", index_col=[0])\n",
    "else:\n",
    "    numCoEvents = fml_lib.get_co_events(close,events)\n",
    "    numCoEvents.to_csv(\"./co_events.csv\", index=True)\n",
    "print(numCoEvents)"
   ]
  },
  {
   "cell_type": "code",
   "execution_count": 12,
   "metadata": {},
   "outputs": [
    {
     "name": "stdout",
     "output_type": "stream",
     "text": [
      "Date_Timestamp\n",
      "2023-07-02 22:00:00         NaN\n",
      "2023-07-02 22:00:10    0.000180\n",
      "2023-07-02 22:00:20   -0.000071\n",
      "2023-07-02 22:00:30   -0.000110\n",
      "2023-07-02 22:00:40    0.000110\n",
      "                         ...   \n",
      "2024-01-25 03:57:00   -0.000106\n",
      "2024-01-25 03:57:10    0.000000\n",
      "2024-01-25 03:57:20    0.000003\n",
      "2024-01-25 03:58:30   -0.000054\n",
      "2024-01-25 03:58:40    0.000003\n",
      "Name: Close, Length: 840953, dtype: float64\n"
     ]
    }
   ],
   "source": [
    "ret=np.log(close).diff() # log-returns, so that they are additive\n",
    "print(ret)"
   ]
  },
  {
   "cell_type": "code",
   "execution_count": 13,
   "metadata": {},
   "outputs": [
    {
     "name": "stdout",
     "output_type": "stream",
     "text": [
      "                      0\n",
      "Date_Timestamp         \n",
      "2023-07-04 22:00:10   1\n",
      "2023-07-04 22:00:40   2\n",
      "2023-07-04 22:00:50   3\n",
      "2023-07-04 22:01:10   4\n",
      "2023-07-04 22:01:30   5\n",
      "...                  ..\n",
      "2024-01-25 03:53:40  42\n",
      "2024-01-25 03:54:50  38\n",
      "2024-01-25 03:55:10  17\n",
      "2024-01-25 03:55:40  17\n",
      "2024-01-25 03:56:50  17\n",
      "\n",
      "[837059 rows x 1 columns]\n"
     ]
    }
   ],
   "source": [
    "print(numCoEvents.dropna())"
   ]
  },
  {
   "cell_type": "code",
   "execution_count": 14,
   "metadata": {},
   "outputs": [
    {
     "name": "stdout",
     "output_type": "stream",
     "text": [
      "DatetimeIndex(['2023-07-02 22:00:00', '2023-07-02 22:00:10',\n",
      "               '2023-07-02 22:00:20', '2023-07-02 22:00:30',\n",
      "               '2023-07-02 22:00:40', '2023-07-02 22:00:50',\n",
      "               '2023-07-02 22:01:00', '2023-07-02 22:01:10',\n",
      "               '2023-07-02 22:01:20', '2023-07-02 22:01:30',\n",
      "               ...\n",
      "               '2024-01-25 03:53:40', '2024-01-25 03:54:50',\n",
      "               '2024-01-25 03:55:10', '2024-01-25 03:55:40',\n",
      "               '2024-01-25 03:56:50', '2024-01-25 03:57:00',\n",
      "               '2024-01-25 03:57:10', '2024-01-25 03:57:20',\n",
      "               '2024-01-25 03:58:30', '2024-01-25 03:58:40'],\n",
      "              dtype='datetime64[ns]', name='Date_Timestamp', length=840953, freq=None)\n"
     ]
    }
   ],
   "source": [
    "print(close.index)"
   ]
  },
  {
   "cell_type": "code",
   "execution_count": 15,
   "metadata": {},
   "outputs": [],
   "source": [
    "#numCoEvents.index = pd.to_datetime(numCoEvents.index)\n",
    "old_index = numCoEvents.index\n",
    "old_co = numCoEvents.values"
   ]
  },
  {
   "cell_type": "code",
   "execution_count": 16,
   "metadata": {},
   "outputs": [
    {
     "name": "stdout",
     "output_type": "stream",
     "text": [
      "                      0\n",
      "Date_Timestamp         \n",
      "2023-07-04 22:00:10   1\n",
      "2023-07-04 22:00:40   2\n",
      "2023-07-04 22:00:50   3\n",
      "2023-07-04 22:01:10   4\n",
      "2023-07-04 22:01:30   5\n",
      "...                  ..\n",
      "2024-01-25 03:53:40  42\n",
      "2024-01-25 03:54:50  38\n",
      "2024-01-25 03:55:10  17\n",
      "2024-01-25 03:55:40  17\n",
      "2024-01-25 03:56:50  17\n",
      "\n",
      "[837059 rows x 1 columns]\n",
      "                     0\n",
      "Date_Timestamp        \n",
      "2023-07-02 22:00:00  0\n",
      "2023-07-02 22:00:10  0\n",
      "2023-07-02 22:00:20  0\n",
      "2023-07-02 22:00:30  0\n",
      "2023-07-02 22:00:40  0\n",
      "...                 ..\n",
      "2024-01-25 03:57:00  0\n",
      "2024-01-25 03:57:10  0\n",
      "2024-01-25 03:57:20  0\n",
      "2024-01-25 03:58:30  0\n",
      "2024-01-25 03:58:40  0\n",
      "\n",
      "[840953 rows x 1 columns]\n"
     ]
    },
    {
     "ename": "NameError",
     "evalue": "name 'sys' is not defined",
     "output_type": "error",
     "traceback": [
      "\u001b[1;31m---------------------------------------------------------------------------\u001b[0m",
      "\u001b[1;31mNameError\u001b[0m                                 Traceback (most recent call last)",
      "Cell \u001b[1;32mIn[16], line 6\u001b[0m\n\u001b[0;32m      4\u001b[0m \u001b[38;5;28mprint\u001b[39m(numCoEvents\u001b[38;5;241m.\u001b[39mloc[old_index])\n\u001b[0;32m      5\u001b[0m \u001b[38;5;28mprint\u001b[39m(numCoEvents)\n\u001b[1;32m----> 6\u001b[0m \u001b[43msys\u001b[49m\u001b[38;5;241m.\u001b[39mexit(\u001b[38;5;241m1\u001b[39m)\n",
      "\u001b[1;31mNameError\u001b[0m: name 'sys' is not defined"
     ]
    }
   ],
   "source": [
    "numCoEvents=numCoEvents.loc[~numCoEvents.index.duplicated(keep='last')]\n",
    "numCoEvents=numCoEvents.reindex(close.index,fill_value=0)\n",
    "numCoEvents.loc[old_index] = old_co\n",
    "print(numCoEvents.loc[old_index])\n",
    "print(numCoEvents)\n",
    "sys.exit(1)"
   ]
  },
  {
   "cell_type": "code",
   "execution_count": 17,
   "metadata": {},
   "outputs": [],
   "source": [
    "numThreads = 12\n",
    "\n",
    "#out['tW']=mpPandasObj(fml_lib.mpSampleTW,('molecule',events.index),numThreads, t1=events['t1'],numCoEvents=numCoEvents)"
   ]
  },
  {
   "cell_type": "code",
   "execution_count": 18,
   "metadata": {},
   "outputs": [
    {
     "name": "stderr",
     "output_type": "stream",
     "text": [
      "2024-04-05 02:40:38.024463 100.0% mpSampleW done after 9.22 minutes. Remaining 0.0 minutes...\n",
      "c:\\Users\\David\\Classes\\ECE479\\mp_engine.py:123: FutureWarning: The behavior of array concatenation with empty entries is deprecated. In a future version, this will no longer exclude empty items when determining the result dtype. To retain the old behavior, exclude the empty entries before the concat operation.\n",
      "  df0=df0._append(i)\n"
     ]
    },
    {
     "name": "stdout",
     "output_type": "stream",
     "text": [
      "2023-07-04 22:00:10    0.000883\n",
      "2023-07-04 22:00:40    0.000719\n",
      "2023-07-04 22:00:50    0.000427\n",
      "2023-07-04 22:01:10    0.000652\n",
      "2023-07-04 22:01:30    0.000475\n",
      "                         ...   \n",
      "2024-01-25 03:50:30    0.000077\n",
      "2024-01-25 03:51:30    0.000029\n",
      "2024-01-25 03:51:40    0.000083\n",
      "2024-01-25 03:51:50    0.000020\n",
      "2024-01-25 03:52:00    0.000070\n",
      "Name: w, Length: 814081, dtype: float64\n"
     ]
    }
   ],
   "source": [
    "\n",
    "out['w'] = mpPandasObj(fml_lib.mpSampleW,('molecule',events.index),numThreads, t1=events['t1'],numCoEvents=numCoEvents,close=close)\n",
    "print(out['w'])"
   ]
  },
  {
   "cell_type": "code",
   "execution_count": null,
   "metadata": {},
   "outputs": [],
   "source": []
  },
  {
   "cell_type": "code",
   "execution_count": 19,
   "metadata": {},
   "outputs": [
    {
     "name": "stdout",
     "output_type": "stream",
     "text": [
      "2023-07-04 22:00:10    1.0\n",
      "2023-07-04 22:00:40    1.0\n",
      "2023-07-04 22:00:50    1.0\n",
      "2023-07-04 22:01:10    1.0\n",
      "2023-07-04 22:01:30    1.0\n",
      "                      ... \n",
      "2024-01-25 03:50:30    1.0\n",
      "2024-01-25 03:51:30    1.0\n",
      "2024-01-25 03:51:40    1.0\n",
      "2024-01-25 03:51:50    1.0\n",
      "2024-01-25 03:52:00    1.0\n",
      "Name: w, Length: 814081, dtype: float64\n"
     ]
    }
   ],
   "source": [
    "out['w'] = fml_lib.getTimeDecay(out['w'])\n",
    "print(out['w'])"
   ]
  },
  {
   "cell_type": "code",
   "execution_count": null,
   "metadata": {},
   "outputs": [],
   "source": []
  }
 ],
 "metadata": {
  "kernelspec": {
   "display_name": "Python 3",
   "language": "python",
   "name": "python3"
  },
  "language_info": {
   "codemirror_mode": {
    "name": "ipython",
    "version": 3
   },
   "file_extension": ".py",
   "mimetype": "text/x-python",
   "name": "python",
   "nbconvert_exporter": "python",
   "pygments_lexer": "ipython3",
   "version": "3.9.0"
  }
 },
 "nbformat": 4,
 "nbformat_minor": 2
}
