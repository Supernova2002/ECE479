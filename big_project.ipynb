{
 "cells": [
  {
   "cell_type": "code",
   "execution_count": 1,
   "metadata": {},
   "outputs": [],
   "source": [
    "import fml_lib\n",
    "import numpy as np\n",
    "import pandas as pd\n",
    "import scipy.stats as ss\n",
    "import os.path\n",
    "from math import sqrt, exp, log\n",
    "import matplotlib.pyplot as plt"
   ]
  },
  {
   "cell_type": "code",
   "execution_count": 2,
   "metadata": {},
   "outputs": [
    {
     "name": "stderr",
     "output_type": "stream",
     "text": [
      "C:\\Users\\David\\AppData\\Local\\Temp\\ipykernel_95060\\1907931566.py:1: FutureWarning: Support for nested sequences for 'parse_dates' in pd.read_csv is deprecated. Combine the desired columns with pd.to_datetime after parsing instead.\n",
      "  dollar_bars = pd.read_csv(\"USA500IDXUSD_bars.csv\", parse_dates=[['Date', 'Timestamp']])\n"
     ]
    }
   ],
   "source": [
    "dollar_bars = pd.read_csv(\"USA500IDXUSD_bars.csv\", parse_dates=[['Date', 'Timestamp']])\n",
    "dollar_bars = dollar_bars.set_index(\"Date_Timestamp\")\n",
    "close = dollar_bars['Close']\n",
    "daily_volatility = fml_lib.getDailyVol(dollar_bars.Close,span0=100)\n"
   ]
  },
  {
   "cell_type": "code",
   "execution_count": 3,
   "metadata": {},
   "outputs": [],
   "source": [
    "\n",
    "if os.path.exists(\"./t_events.csv\"):\n",
    "    t_events = pd.read_csv(\"t_events.csv\", index_col=[0])\n",
    "    t_events = t_events.index\n",
    "else:\n",
    "    t_events = fml_lib.getTEvents(dollar_bars.Close, daily_volatility)\n",
    "    t_events_df = pd.DataFrame(index= t_events)\n",
    "    t_events_df.to_csv(\"./t_events_csv\", index=True)"
   ]
  },
  {
   "cell_type": "code",
   "execution_count": 4,
   "metadata": {},
   "outputs": [
    {
     "name": "stdout",
     "output_type": "stream",
     "text": [
      "DatetimeIndex(['2023-07-04 22:00:10', '2023-07-04 22:00:40',\n",
      "               '2023-07-04 22:00:50', '2023-07-04 22:01:10',\n",
      "               '2023-07-04 22:01:30', '2023-07-04 22:01:50',\n",
      "               '2023-07-04 22:02:10', '2023-07-04 22:02:20',\n",
      "               '2023-07-04 22:02:40', '2023-07-04 22:03:00',\n",
      "               ...\n",
      "               '2024-01-25 03:52:20', '2024-01-25 03:53:40',\n",
      "               '2024-01-25 03:54:50', '2024-01-25 03:55:10',\n",
      "               '2024-01-25 03:55:40', '2024-01-25 03:56:50',\n",
      "               '2024-01-25 03:57:00', '2024-01-25 03:57:20',\n",
      "               '2024-01-25 03:58:30', '2024-01-25 03:58:40'],\n",
      "              dtype='datetime64[ns]', length=814094, freq=None)\n"
     ]
    }
   ],
   "source": [
    "t_events = pd.to_datetime(t_events)\n",
    "print(t_events)"
   ]
  },
  {
   "cell_type": "code",
   "execution_count": 5,
   "metadata": {},
   "outputs": [
    {
     "name": "stdout",
     "output_type": "stream",
     "text": [
      "2023-07-04 22:00:10   2023-07-16 22:00:00\n",
      "2023-07-04 22:00:40   2023-07-16 22:00:00\n",
      "2023-07-04 22:00:50   2023-07-16 22:00:00\n",
      "2023-07-04 22:01:10   2023-07-16 22:00:00\n",
      "2023-07-04 22:01:30   2023-07-16 22:00:00\n",
      "                              ...        \n",
      "2024-01-15 03:54:40   2024-01-25 03:54:50\n",
      "2024-01-15 03:56:00   2024-01-25 03:56:50\n",
      "2024-01-15 03:57:00   2024-01-25 03:57:00\n",
      "2024-01-15 03:57:30   2024-01-25 03:58:30\n",
      "2024-01-15 03:58:40   2024-01-25 03:58:40\n",
      "Name: Date_Timestamp, Length: 769572, dtype: datetime64[ns]\n"
     ]
    }
   ],
   "source": [
    "\n",
    "\n",
    "#adds the vertical barrier num_days out from the time of the event\n",
    "numDays = 10\n",
    "t1=close.index.searchsorted(t_events+pd.Timedelta(days=numDays))\n",
    "t1=t1[t1<close.shape[0]]\n",
    "t1=pd.Series(close.index[t1],index=t_events[:t1.shape[0]]) # NaNs at end\n",
    "print(t1)"
   ]
  },
  {
   "cell_type": "code",
   "execution_count": 6,
   "metadata": {},
   "outputs": [
    {
     "name": "stdout",
     "output_type": "stream",
     "text": [
      "                                      t1  trgt\n",
      "2023-07-04 22:00:10  2023-07-04 22:17:50  0.01\n",
      "2023-07-04 22:00:40  2023-07-04 22:17:50  0.01\n",
      "2023-07-04 22:00:50  2023-07-04 22:15:30  0.01\n",
      "2023-07-04 22:01:10  2023-07-04 22:17:50  0.01\n",
      "2023-07-04 22:01:30  2023-07-04 22:17:50  0.01\n",
      "...                                  ...   ...\n",
      "2024-01-25 03:50:30  2024-01-25 03:56:50  0.01\n",
      "2024-01-25 03:51:30  2024-01-25 03:54:50  0.01\n",
      "2024-01-25 03:51:40  2024-01-25 03:56:50  0.01\n",
      "2024-01-25 03:51:50  2024-01-25 03:54:50  0.01\n",
      "2024-01-25 03:52:00  2024-01-25 03:56:50  0.01\n",
      "\n",
      "[814081 rows x 2 columns]\n"
     ]
    }
   ],
   "source": [
    "min_ret= 0.005\n",
    "trgt = pd.Series(0.01, index=t_events)\n",
    "if os.path.exists(\"./events.csv\"):\n",
    "    events = pd.read_csv(\"events.csv\", index_col=[0])\n",
    "    events = events.dropna()\n",
    "else:\n",
    "    events = fml_lib.getEvents(close, t_events, 0.02,trgt ,min_ret,t1)\n",
    "    events.to_csv(\"events.csv\")\n",
    "print(events)"
   ]
  },
  {
   "cell_type": "code",
   "execution_count": 7,
   "metadata": {},
   "outputs": [
    {
     "name": "stdout",
     "output_type": "stream",
     "text": [
      "[ True  True  True ...  True  True  True]\n"
     ]
    }
   ],
   "source": [
    "\n",
    "bins = fml_lib.getBins(events, close, numDays)"
   ]
  },
  {
   "cell_type": "code",
   "execution_count": 8,
   "metadata": {},
   "outputs": [
    {
     "name": "stdout",
     "output_type": "stream",
     "text": [
      "                          ret  bin\n",
      "2023-07-04 22:00:10  0.000226  1.0\n",
      "2023-07-04 22:00:40  0.000223  1.0\n",
      "2023-07-04 22:00:50  0.000220  1.0\n",
      "2023-07-04 22:01:10  0.000226  1.0\n",
      "2023-07-04 22:01:30  0.000224  1.0\n",
      "...                       ...  ...\n",
      "2024-01-25 03:50:30  0.000207  1.0\n",
      "2024-01-25 03:51:30  0.000216  1.0\n",
      "2024-01-25 03:51:40  0.000208  1.0\n",
      "2024-01-25 03:51:50  0.000215  1.0\n",
      "2024-01-25 03:52:00  0.000207  1.0\n",
      "\n",
      "[412467 rows x 2 columns]\n",
      "                          ret  bin\n",
      "2023-07-04 22:00:10  0.000226  1.0\n",
      "2023-07-04 22:00:40  0.000223  1.0\n",
      "2023-07-04 22:00:50  0.000220  1.0\n",
      "2023-07-04 22:01:10  0.000226  1.0\n",
      "2023-07-04 22:01:30  0.000224  1.0\n",
      "...                       ...  ...\n",
      "2024-01-25 03:50:30  0.000207  1.0\n",
      "2024-01-25 03:51:30  0.000216  1.0\n",
      "2024-01-25 03:51:40  0.000208  1.0\n",
      "2024-01-25 03:51:50  0.000215  1.0\n",
      "2024-01-25 03:52:00  0.000207  1.0\n",
      "\n",
      "[814081 rows x 2 columns]\n"
     ]
    }
   ],
   "source": [
    "print(bins[bins['bin'] == 1])\n",
    "print(bins)"
   ]
  },
  {
   "cell_type": "markdown",
   "metadata": {},
   "source": [
    "Want to find sample weights for use in the boosting fit"
   ]
  },
  {
   "cell_type": "code",
   "execution_count": 9,
   "metadata": {},
   "outputs": [
    {
     "name": "stdout",
     "output_type": "stream",
     "text": [
      "                                      t1  trgt\n",
      "2023-07-04 22:00:10  2023-07-04 22:17:50  0.01\n",
      "2023-07-04 22:00:40  2023-07-04 22:17:50  0.01\n",
      "2023-07-04 22:00:50  2023-07-04 22:15:30  0.01\n",
      "2023-07-04 22:01:10  2023-07-04 22:17:50  0.01\n",
      "2023-07-04 22:01:30  2023-07-04 22:17:50  0.01\n",
      "...                                  ...   ...\n",
      "2024-01-25 03:50:30  2024-01-25 03:56:50  0.01\n",
      "2024-01-25 03:51:30  2024-01-25 03:54:50  0.01\n",
      "2024-01-25 03:51:40  2024-01-25 03:56:50  0.01\n",
      "2024-01-25 03:51:50  2024-01-25 03:54:50  0.01\n",
      "2024-01-25 03:52:00  2024-01-25 03:56:50  0.01\n",
      "\n",
      "[814081 rows x 2 columns]\n"
     ]
    }
   ],
   "source": [
    "print(events)"
   ]
  },
  {
   "cell_type": "code",
   "execution_count": 10,
   "metadata": {},
   "outputs": [
    {
     "name": "stdout",
     "output_type": "stream",
     "text": [
      "814081\n",
      "814081\n"
     ]
    }
   ],
   "source": [
    "temp = list(set(pd.to_datetime(events.t1.index)) & set(pd.to_datetime(events.index)) )\n",
    "print(len(temp))\n",
    "print(len(events))"
   ]
  },
  {
   "cell_type": "code",
   "execution_count": 15,
   "metadata": {},
   "outputs": [
    {
     "name": "stdout",
     "output_type": "stream",
     "text": [
      "                      0\n",
      "Date_Timestamp         \n",
      "2023-07-04 22:00:10   1\n",
      "2023-07-04 22:00:40   2\n",
      "2023-07-04 22:00:50   3\n",
      "2023-07-04 22:01:10   4\n",
      "2023-07-04 22:01:30   5\n",
      "...                  ..\n",
      "2024-01-25 03:53:40  42\n",
      "2024-01-25 03:54:50  38\n",
      "2024-01-25 03:55:10  17\n",
      "2024-01-25 03:55:40  17\n",
      "2024-01-25 03:56:50  17\n",
      "\n",
      "[837059 rows x 1 columns]\n"
     ]
    },
    {
     "ename": "KeyboardInterrupt",
     "evalue": "",
     "output_type": "error",
     "traceback": [
      "\u001b[1;31m---------------------------------------------------------------------------\u001b[0m",
      "\u001b[1;31mKeyboardInterrupt\u001b[0m                         Traceback (most recent call last)",
      "Cell \u001b[1;32mIn[15], line 7\u001b[0m\n\u001b[0;32m      5\u001b[0m     co_events\u001b[38;5;241m.\u001b[39mto_csv(\u001b[38;5;124m\"\u001b[39m\u001b[38;5;124m./co_events.csv\u001b[39m\u001b[38;5;124m\"\u001b[39m, index\u001b[38;5;241m=\u001b[39m\u001b[38;5;28;01mTrue\u001b[39;00m)\n\u001b[0;32m      6\u001b[0m \u001b[38;5;28mprint\u001b[39m(co_events)\n\u001b[1;32m----> 7\u001b[0m sample_weights \u001b[38;5;241m=\u001b[39m \u001b[43mfml_lib\u001b[49m\u001b[38;5;241;43m.\u001b[39;49m\u001b[43mmpSampleTW\u001b[49m\u001b[43m(\u001b[49m\u001b[43mevents\u001b[49m\u001b[38;5;241;43m.\u001b[39;49m\u001b[43mt1\u001b[49m\u001b[43m,\u001b[49m\u001b[43m \u001b[49m\u001b[43mco_events\u001b[49m\u001b[43m,\u001b[49m\u001b[43m \u001b[49m\u001b[43mevents\u001b[49m\u001b[38;5;241;43m.\u001b[39;49m\u001b[43mindex\u001b[49m\u001b[43m)\u001b[49m\n\u001b[0;32m      8\u001b[0m \u001b[38;5;28mprint\u001b[39m(sample_weights)\n",
      "File \u001b[1;32mc:\\Users\\David\\Classes\\ECE479\\fml_lib.py:200\u001b[0m, in \u001b[0;36mmpSampleTW\u001b[1;34m(t1, numCoEvents, molecule)\u001b[0m\n\u001b[0;32m    198\u001b[0m wght\u001b[38;5;241m=\u001b[39mpd\u001b[38;5;241m.\u001b[39mSeries(index\u001b[38;5;241m=\u001b[39mmolecule)\n\u001b[0;32m    199\u001b[0m \u001b[38;5;28;01mfor\u001b[39;00m tIn,tOut \u001b[38;5;129;01min\u001b[39;00m t1\u001b[38;5;241m.\u001b[39mloc[wght\u001b[38;5;241m.\u001b[39mindex]\u001b[38;5;241m.\u001b[39mitems():\n\u001b[1;32m--> 200\u001b[0m     \u001b[43mwght\u001b[49m\u001b[38;5;241;43m.\u001b[39;49m\u001b[43mloc\u001b[49m\u001b[43m[\u001b[49m\u001b[43mtIn\u001b[49m\u001b[43m]\u001b[49m\u001b[38;5;241m=\u001b[39m(\u001b[38;5;241m1.\u001b[39m\u001b[38;5;241m/\u001b[39mnumCoEvents\u001b[38;5;241m.\u001b[39mloc[tIn:tOut])\u001b[38;5;241m.\u001b[39mmean()\n\u001b[0;32m    201\u001b[0m \u001b[38;5;28;01mreturn\u001b[39;00m wght\n",
      "File \u001b[1;32mc:\\Python39\\lib\\site-packages\\pandas\\core\\indexing.py:912\u001b[0m, in \u001b[0;36m_LocationIndexer.__setitem__\u001b[1;34m(self, key, value)\u001b[0m\n\u001b[0;32m    909\u001b[0m \u001b[38;5;28mself\u001b[39m\u001b[38;5;241m.\u001b[39m_has_valid_setitem_indexer(key)\n\u001b[0;32m    911\u001b[0m iloc \u001b[38;5;241m=\u001b[39m \u001b[38;5;28mself\u001b[39m \u001b[38;5;28;01mif\u001b[39;00m \u001b[38;5;28mself\u001b[39m\u001b[38;5;241m.\u001b[39mname \u001b[38;5;241m==\u001b[39m \u001b[38;5;124m\"\u001b[39m\u001b[38;5;124miloc\u001b[39m\u001b[38;5;124m\"\u001b[39m \u001b[38;5;28;01melse\u001b[39;00m \u001b[38;5;28mself\u001b[39m\u001b[38;5;241m.\u001b[39mobj\u001b[38;5;241m.\u001b[39miloc\n\u001b[1;32m--> 912\u001b[0m \u001b[43miloc\u001b[49m\u001b[38;5;241;43m.\u001b[39;49m\u001b[43m_setitem_with_indexer\u001b[49m\u001b[43m(\u001b[49m\u001b[43mindexer\u001b[49m\u001b[43m,\u001b[49m\u001b[43m \u001b[49m\u001b[43mvalue\u001b[49m\u001b[43m,\u001b[49m\u001b[43m \u001b[49m\u001b[38;5;28;43mself\u001b[39;49m\u001b[38;5;241;43m.\u001b[39;49m\u001b[43mname\u001b[49m\u001b[43m)\u001b[49m\n",
      "File \u001b[1;32mc:\\Python39\\lib\\site-packages\\pandas\\core\\indexing.py:1948\u001b[0m, in \u001b[0;36m_iLocIndexer._setitem_with_indexer\u001b[1;34m(self, indexer, value, name)\u001b[0m\n\u001b[0;32m   1946\u001b[0m     \u001b[38;5;28mself\u001b[39m\u001b[38;5;241m.\u001b[39m_setitem_with_indexer_split_path(indexer, value, name)\n\u001b[0;32m   1947\u001b[0m \u001b[38;5;28;01melse\u001b[39;00m:\n\u001b[1;32m-> 1948\u001b[0m     \u001b[38;5;28;43mself\u001b[39;49m\u001b[38;5;241;43m.\u001b[39;49m\u001b[43m_setitem_single_block\u001b[49m\u001b[43m(\u001b[49m\u001b[43mindexer\u001b[49m\u001b[43m,\u001b[49m\u001b[43m \u001b[49m\u001b[43mvalue\u001b[49m\u001b[43m,\u001b[49m\u001b[43m \u001b[49m\u001b[43mname\u001b[49m\u001b[43m)\u001b[49m\n",
      "File \u001b[1;32mc:\\Python39\\lib\\site-packages\\pandas\\core\\indexing.py:2182\u001b[0m, in \u001b[0;36m_iLocIndexer._setitem_single_block\u001b[1;34m(self, indexer, value, name)\u001b[0m\n\u001b[0;32m   2176\u001b[0m \u001b[38;5;28;01mfrom\u001b[39;00m \u001b[38;5;21;01mpandas\u001b[39;00m \u001b[38;5;28;01mimport\u001b[39;00m Series\n\u001b[0;32m   2178\u001b[0m \u001b[38;5;28;01mif\u001b[39;00m (\u001b[38;5;28misinstance\u001b[39m(value, ABCSeries) \u001b[38;5;129;01mand\u001b[39;00m name \u001b[38;5;241m!=\u001b[39m \u001b[38;5;124m\"\u001b[39m\u001b[38;5;124miloc\u001b[39m\u001b[38;5;124m\"\u001b[39m) \u001b[38;5;129;01mor\u001b[39;00m \u001b[38;5;28misinstance\u001b[39m(value, \u001b[38;5;28mdict\u001b[39m):\n\u001b[0;32m   2179\u001b[0m     \u001b[38;5;66;03m# TODO(EA): ExtensionBlock.setitem this causes issues with\u001b[39;00m\n\u001b[0;32m   2180\u001b[0m     \u001b[38;5;66;03m# setting for extensionarrays that store dicts. Need to decide\u001b[39;00m\n\u001b[0;32m   2181\u001b[0m     \u001b[38;5;66;03m# if it's worth supporting that.\u001b[39;00m\n\u001b[1;32m-> 2182\u001b[0m     value \u001b[38;5;241m=\u001b[39m \u001b[38;5;28;43mself\u001b[39;49m\u001b[38;5;241;43m.\u001b[39;49m\u001b[43m_align_series\u001b[49m\u001b[43m(\u001b[49m\u001b[43mindexer\u001b[49m\u001b[43m,\u001b[49m\u001b[43m \u001b[49m\u001b[43mSeries\u001b[49m\u001b[43m(\u001b[49m\u001b[43mvalue\u001b[49m\u001b[43m)\u001b[49m\u001b[43m)\u001b[49m\n\u001b[0;32m   2184\u001b[0m info_axis \u001b[38;5;241m=\u001b[39m \u001b[38;5;28mself\u001b[39m\u001b[38;5;241m.\u001b[39mobj\u001b[38;5;241m.\u001b[39m_info_axis_number\n\u001b[0;32m   2185\u001b[0m item_labels \u001b[38;5;241m=\u001b[39m \u001b[38;5;28mself\u001b[39m\u001b[38;5;241m.\u001b[39mobj\u001b[38;5;241m.\u001b[39m_get_axis(info_axis)\n",
      "File \u001b[1;32mc:\\Python39\\lib\\site-packages\\pandas\\core\\indexing.py:2438\u001b[0m, in \u001b[0;36m_iLocIndexer._align_series\u001b[1;34m(self, indexer, ser, multiindex_indexer, using_cow)\u001b[0m\n\u001b[0;32m   2435\u001b[0m     \u001b[38;5;28;01mif\u001b[39;00m ser\u001b[38;5;241m.\u001b[39mindex\u001b[38;5;241m.\u001b[39mequals(ax):\n\u001b[0;32m   2436\u001b[0m         \u001b[38;5;28;01mreturn\u001b[39;00m ser\u001b[38;5;241m.\u001b[39m_values\u001b[38;5;241m.\u001b[39mcopy()\n\u001b[1;32m-> 2438\u001b[0m     \u001b[38;5;28;01mreturn\u001b[39;00m \u001b[43mser\u001b[49m\u001b[38;5;241;43m.\u001b[39;49m\u001b[43mreindex\u001b[49m\u001b[43m(\u001b[49m\u001b[43max\u001b[49m\u001b[43m)\u001b[49m\u001b[38;5;241m.\u001b[39m_values[indexer]\n\u001b[0;32m   2440\u001b[0m \u001b[38;5;28;01melif\u001b[39;00m is_integer(indexer):\n\u001b[0;32m   2441\u001b[0m     ax \u001b[38;5;241m=\u001b[39m \u001b[38;5;28mself\u001b[39m\u001b[38;5;241m.\u001b[39mobj\u001b[38;5;241m.\u001b[39m_get_axis(\u001b[38;5;241m1\u001b[39m)\n",
      "File \u001b[1;32mc:\\Python39\\lib\\site-packages\\pandas\\core\\series.py:5133\u001b[0m, in \u001b[0;36mSeries.reindex\u001b[1;34m(self, index, axis, method, copy, level, fill_value, limit, tolerance)\u001b[0m\n\u001b[0;32m   5116\u001b[0m \u001b[38;5;129m@doc\u001b[39m(\n\u001b[0;32m   5117\u001b[0m     NDFrame\u001b[38;5;241m.\u001b[39mreindex,  \u001b[38;5;66;03m# type: ignore[has-type]\u001b[39;00m\n\u001b[0;32m   5118\u001b[0m     klass\u001b[38;5;241m=\u001b[39m_shared_doc_kwargs[\u001b[38;5;124m\"\u001b[39m\u001b[38;5;124mklass\u001b[39m\u001b[38;5;124m\"\u001b[39m],\n\u001b[1;32m   (...)\u001b[0m\n\u001b[0;32m   5131\u001b[0m     tolerance\u001b[38;5;241m=\u001b[39m\u001b[38;5;28;01mNone\u001b[39;00m,\n\u001b[0;32m   5132\u001b[0m ) \u001b[38;5;241m-\u001b[39m\u001b[38;5;241m>\u001b[39m Series:\n\u001b[1;32m-> 5133\u001b[0m     \u001b[38;5;28;01mreturn\u001b[39;00m \u001b[38;5;28;43msuper\u001b[39;49m\u001b[43m(\u001b[49m\u001b[43m)\u001b[49m\u001b[38;5;241;43m.\u001b[39;49m\u001b[43mreindex\u001b[49m\u001b[43m(\u001b[49m\n\u001b[0;32m   5134\u001b[0m \u001b[43m        \u001b[49m\u001b[43mindex\u001b[49m\u001b[38;5;241;43m=\u001b[39;49m\u001b[43mindex\u001b[49m\u001b[43m,\u001b[49m\n\u001b[0;32m   5135\u001b[0m \u001b[43m        \u001b[49m\u001b[43mmethod\u001b[49m\u001b[38;5;241;43m=\u001b[39;49m\u001b[43mmethod\u001b[49m\u001b[43m,\u001b[49m\n\u001b[0;32m   5136\u001b[0m \u001b[43m        \u001b[49m\u001b[43mcopy\u001b[49m\u001b[38;5;241;43m=\u001b[39;49m\u001b[43mcopy\u001b[49m\u001b[43m,\u001b[49m\n\u001b[0;32m   5137\u001b[0m \u001b[43m        \u001b[49m\u001b[43mlevel\u001b[49m\u001b[38;5;241;43m=\u001b[39;49m\u001b[43mlevel\u001b[49m\u001b[43m,\u001b[49m\n\u001b[0;32m   5138\u001b[0m \u001b[43m        \u001b[49m\u001b[43mfill_value\u001b[49m\u001b[38;5;241;43m=\u001b[39;49m\u001b[43mfill_value\u001b[49m\u001b[43m,\u001b[49m\n\u001b[0;32m   5139\u001b[0m \u001b[43m        \u001b[49m\u001b[43mlimit\u001b[49m\u001b[38;5;241;43m=\u001b[39;49m\u001b[43mlimit\u001b[49m\u001b[43m,\u001b[49m\n\u001b[0;32m   5140\u001b[0m \u001b[43m        \u001b[49m\u001b[43mtolerance\u001b[49m\u001b[38;5;241;43m=\u001b[39;49m\u001b[43mtolerance\u001b[49m\u001b[43m,\u001b[49m\n\u001b[0;32m   5141\u001b[0m \u001b[43m    \u001b[49m\u001b[43m)\u001b[49m\n",
      "File \u001b[1;32mc:\\Python39\\lib\\site-packages\\pandas\\core\\generic.py:5604\u001b[0m, in \u001b[0;36mNDFrame.reindex\u001b[1;34m(self, labels, index, columns, axis, method, copy, level, fill_value, limit, tolerance)\u001b[0m\n\u001b[0;32m   5601\u001b[0m     \u001b[38;5;28;01mreturn\u001b[39;00m \u001b[38;5;28mself\u001b[39m\u001b[38;5;241m.\u001b[39m_reindex_multi(axes, copy, fill_value)\n\u001b[0;32m   5603\u001b[0m \u001b[38;5;66;03m# perform the reindex on the axes\u001b[39;00m\n\u001b[1;32m-> 5604\u001b[0m \u001b[38;5;28;01mreturn\u001b[39;00m \u001b[38;5;28;43mself\u001b[39;49m\u001b[38;5;241;43m.\u001b[39;49m\u001b[43m_reindex_axes\u001b[49m\u001b[43m(\u001b[49m\n\u001b[0;32m   5605\u001b[0m \u001b[43m    \u001b[49m\u001b[43maxes\u001b[49m\u001b[43m,\u001b[49m\u001b[43m \u001b[49m\u001b[43mlevel\u001b[49m\u001b[43m,\u001b[49m\u001b[43m \u001b[49m\u001b[43mlimit\u001b[49m\u001b[43m,\u001b[49m\u001b[43m \u001b[49m\u001b[43mtolerance\u001b[49m\u001b[43m,\u001b[49m\u001b[43m \u001b[49m\u001b[43mmethod\u001b[49m\u001b[43m,\u001b[49m\u001b[43m \u001b[49m\u001b[43mfill_value\u001b[49m\u001b[43m,\u001b[49m\u001b[43m \u001b[49m\u001b[43mcopy\u001b[49m\n\u001b[0;32m   5606\u001b[0m \u001b[43m\u001b[49m\u001b[43m)\u001b[49m\u001b[38;5;241m.\u001b[39m__finalize__(\u001b[38;5;28mself\u001b[39m, method\u001b[38;5;241m=\u001b[39m\u001b[38;5;124m\"\u001b[39m\u001b[38;5;124mreindex\u001b[39m\u001b[38;5;124m\"\u001b[39m)\n",
      "File \u001b[1;32mc:\\Python39\\lib\\site-packages\\pandas\\core\\generic.py:5627\u001b[0m, in \u001b[0;36mNDFrame._reindex_axes\u001b[1;34m(self, axes, level, limit, tolerance, method, fill_value, copy)\u001b[0m\n\u001b[0;32m   5624\u001b[0m     \u001b[38;5;28;01mcontinue\u001b[39;00m\n\u001b[0;32m   5626\u001b[0m ax \u001b[38;5;241m=\u001b[39m \u001b[38;5;28mself\u001b[39m\u001b[38;5;241m.\u001b[39m_get_axis(a)\n\u001b[1;32m-> 5627\u001b[0m new_index, indexer \u001b[38;5;241m=\u001b[39m \u001b[43max\u001b[49m\u001b[38;5;241;43m.\u001b[39;49m\u001b[43mreindex\u001b[49m\u001b[43m(\u001b[49m\n\u001b[0;32m   5628\u001b[0m \u001b[43m    \u001b[49m\u001b[43mlabels\u001b[49m\u001b[43m,\u001b[49m\u001b[43m \u001b[49m\u001b[43mlevel\u001b[49m\u001b[38;5;241;43m=\u001b[39;49m\u001b[43mlevel\u001b[49m\u001b[43m,\u001b[49m\u001b[43m \u001b[49m\u001b[43mlimit\u001b[49m\u001b[38;5;241;43m=\u001b[39;49m\u001b[43mlimit\u001b[49m\u001b[43m,\u001b[49m\u001b[43m \u001b[49m\u001b[43mtolerance\u001b[49m\u001b[38;5;241;43m=\u001b[39;49m\u001b[43mtolerance\u001b[49m\u001b[43m,\u001b[49m\u001b[43m \u001b[49m\u001b[43mmethod\u001b[49m\u001b[38;5;241;43m=\u001b[39;49m\u001b[43mmethod\u001b[49m\n\u001b[0;32m   5629\u001b[0m \u001b[43m\u001b[49m\u001b[43m)\u001b[49m\n\u001b[0;32m   5631\u001b[0m axis \u001b[38;5;241m=\u001b[39m \u001b[38;5;28mself\u001b[39m\u001b[38;5;241m.\u001b[39m_get_axis_number(a)\n\u001b[0;32m   5632\u001b[0m obj \u001b[38;5;241m=\u001b[39m obj\u001b[38;5;241m.\u001b[39m_reindex_with_indexers(\n\u001b[0;32m   5633\u001b[0m     {axis: [new_index, indexer]},\n\u001b[0;32m   5634\u001b[0m     fill_value\u001b[38;5;241m=\u001b[39mfill_value,\n\u001b[0;32m   5635\u001b[0m     copy\u001b[38;5;241m=\u001b[39mcopy,\n\u001b[0;32m   5636\u001b[0m     allow_dups\u001b[38;5;241m=\u001b[39m\u001b[38;5;28;01mFalse\u001b[39;00m,\n\u001b[0;32m   5637\u001b[0m )\n",
      "File \u001b[1;32mc:\\Python39\\lib\\site-packages\\pandas\\core\\indexes\\base.py:4419\u001b[0m, in \u001b[0;36mIndex.reindex\u001b[1;34m(self, target, method, level, limit, tolerance)\u001b[0m\n\u001b[0;32m   4417\u001b[0m \u001b[38;5;28;01melse\u001b[39;00m:\n\u001b[0;32m   4418\u001b[0m     \u001b[38;5;28;01mif\u001b[39;00m \u001b[38;5;28mself\u001b[39m\u001b[38;5;241m.\u001b[39m_index_as_unique:\n\u001b[1;32m-> 4419\u001b[0m         indexer \u001b[38;5;241m=\u001b[39m \u001b[38;5;28;43mself\u001b[39;49m\u001b[38;5;241;43m.\u001b[39;49m\u001b[43mget_indexer\u001b[49m\u001b[43m(\u001b[49m\n\u001b[0;32m   4420\u001b[0m \u001b[43m            \u001b[49m\u001b[43mtarget\u001b[49m\u001b[43m,\u001b[49m\u001b[43m \u001b[49m\u001b[43mmethod\u001b[49m\u001b[38;5;241;43m=\u001b[39;49m\u001b[43mmethod\u001b[49m\u001b[43m,\u001b[49m\u001b[43m \u001b[49m\u001b[43mlimit\u001b[49m\u001b[38;5;241;43m=\u001b[39;49m\u001b[43mlimit\u001b[49m\u001b[43m,\u001b[49m\u001b[43m \u001b[49m\u001b[43mtolerance\u001b[49m\u001b[38;5;241;43m=\u001b[39;49m\u001b[43mtolerance\u001b[49m\n\u001b[0;32m   4421\u001b[0m \u001b[43m        \u001b[49m\u001b[43m)\u001b[49m\n\u001b[0;32m   4422\u001b[0m     \u001b[38;5;28;01melif\u001b[39;00m \u001b[38;5;28mself\u001b[39m\u001b[38;5;241m.\u001b[39m_is_multi:\n\u001b[0;32m   4423\u001b[0m         \u001b[38;5;28;01mraise\u001b[39;00m \u001b[38;5;167;01mValueError\u001b[39;00m(\u001b[38;5;124m\"\u001b[39m\u001b[38;5;124mcannot handle a non-unique multi-index!\u001b[39m\u001b[38;5;124m\"\u001b[39m)\n",
      "File \u001b[1;32mc:\\Python39\\lib\\site-packages\\pandas\\core\\indexes\\base.py:3950\u001b[0m, in \u001b[0;36mIndex.get_indexer\u001b[1;34m(self, target, method, limit, tolerance)\u001b[0m\n\u001b[0;32m   3945\u001b[0m     target \u001b[38;5;241m=\u001b[39m target\u001b[38;5;241m.\u001b[39mastype(dtype, copy\u001b[38;5;241m=\u001b[39m\u001b[38;5;28;01mFalse\u001b[39;00m)\n\u001b[0;32m   3946\u001b[0m     \u001b[38;5;28;01mreturn\u001b[39;00m this\u001b[38;5;241m.\u001b[39m_get_indexer(\n\u001b[0;32m   3947\u001b[0m         target, method\u001b[38;5;241m=\u001b[39mmethod, limit\u001b[38;5;241m=\u001b[39mlimit, tolerance\u001b[38;5;241m=\u001b[39mtolerance\n\u001b[0;32m   3948\u001b[0m     )\n\u001b[1;32m-> 3950\u001b[0m \u001b[38;5;28;01mreturn\u001b[39;00m \u001b[38;5;28;43mself\u001b[39;49m\u001b[38;5;241;43m.\u001b[39;49m\u001b[43m_get_indexer\u001b[49m\u001b[43m(\u001b[49m\u001b[43mtarget\u001b[49m\u001b[43m,\u001b[49m\u001b[43m \u001b[49m\u001b[43mmethod\u001b[49m\u001b[43m,\u001b[49m\u001b[43m \u001b[49m\u001b[43mlimit\u001b[49m\u001b[43m,\u001b[49m\u001b[43m \u001b[49m\u001b[43mtolerance\u001b[49m\u001b[43m)\u001b[49m\n",
      "File \u001b[1;32mc:\\Python39\\lib\\site-packages\\pandas\\core\\indexes\\base.py:3979\u001b[0m, in \u001b[0;36mIndex._get_indexer\u001b[1;34m(self, target, method, limit, tolerance)\u001b[0m\n\u001b[0;32m   3975\u001b[0m         tgt_values \u001b[38;5;241m=\u001b[39m target\u001b[38;5;241m.\u001b[39m_get_engine_target()\n\u001b[0;32m   3977\u001b[0m     indexer \u001b[38;5;241m=\u001b[39m \u001b[38;5;28mself\u001b[39m\u001b[38;5;241m.\u001b[39m_engine\u001b[38;5;241m.\u001b[39mget_indexer(tgt_values)\n\u001b[1;32m-> 3979\u001b[0m \u001b[38;5;28;01mreturn\u001b[39;00m \u001b[43mensure_platform_int\u001b[49m(indexer)\n",
      "\u001b[1;31mKeyboardInterrupt\u001b[0m: "
     ]
    }
   ],
   "source": [
    "if os.path.exists(\"./t_events.csv\"):  \n",
    "    co_events = pd.read_csv(\"./co_events.csv\", index_col=[0])\n",
    "else:\n",
    "    co_events = fml_lib.get_co_events(close,events)\n",
    "    co_events.to_csv(\"./co_events.csv\", index=True)\n",
    "print(co_events)\n",
    "sample_weights = fml_lib.mpSampleTW(events.t1, co_events, events.index)\n",
    "print(sample_weights)\n"
   ]
  },
  {
   "cell_type": "code",
   "execution_count": 12,
   "metadata": {},
   "outputs": [],
   "source": []
  }
 ],
 "metadata": {
  "kernelspec": {
   "display_name": "Python 3",
   "language": "python",
   "name": "python3"
  },
  "language_info": {
   "codemirror_mode": {
    "name": "ipython",
    "version": 3
   },
   "file_extension": ".py",
   "mimetype": "text/x-python",
   "name": "python",
   "nbconvert_exporter": "python",
   "pygments_lexer": "ipython3",
   "version": "3.9.0"
  }
 },
 "nbformat": 4,
 "nbformat_minor": 2
}
