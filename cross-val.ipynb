{
 "cells": [
  {
   "cell_type": "markdown",
   "metadata": {},
   "source": [
    "Q1: Why is shuffling a dataset before conducting k-fold CV generally a bad idea in\n",
    "finance? What is the purpose of shuffling? Why does shuffling defeat the purpose\n",
    "of k-fold CV in financial datasets?\n",
    "\n",
    "\n",
    "A: Shuffling a dataset before conducting cross validation is a bad idea in finance because the data is not independent from itself, i.e. there is correlation between datasets. Therefore, if the dataset is shuffled, and some data in the train set is taken from near data in the validation set, there will be data leakage. The usual purpose of shuffling is to ensure both the train and validation sets have a good sample of the data set. However in financial datasets shuffling actually goes too far, and provides too much information about the distribution in the validation set to the train set "
   ]
  },
  {
   "cell_type": "code",
   "execution_count": 5,
   "metadata": {},
   "outputs": [],
   "source": [
    "import numpy as np\n",
    "import pandas as pd\n",
    "import sys\n",
    "import os\n",
    "from fml_lib import getIndMatrix, getAvgUniqueness, PurgedKFold, cvScore\n",
    "from sklearn.ensemble import RandomForestClassifier"
   ]
  },
  {
   "cell_type": "markdown",
   "metadata": {},
   "source": [
    "Loading in the label data from exercise 3"
   ]
  },
  {
   "cell_type": "code",
   "execution_count": 6,
   "metadata": {},
   "outputs": [],
   "source": [
    "events = pd.read_csv(\"events.csv\",index_col=['Unnamed: 0'])\n",
    "events = events.drop(['trgt'], axis=1)\n",
    "events = events.dropna()\n",
    "events.index = pd.to_datetime(events.index, format='%Y-%m-%d %H:%M:%S.%f')\n",
    "events['t1'] = pd.to_datetime(events['t1'], format='%Y-%m-%d %H:%M:%S.%f')\n",
    "bins = pd.read_csv(\"bins.csv\",index_col=['Unnamed: 0'])\n",
    "bins.index = pd.to_datetime(bins.index, format='%Y-%m-%d %H:%M:%S.%f')\n",
    "weights = pd.read_csv(\"out.csv\", index_col=['Unnamed: 0'])\n",
    "weights.index = pd.to_datetime(weights.index, format='%Y-%m-%d %H:%M:%S.%f')\n",
    "\n",
    "\n",
    "\n",
    "weights = weights.replace([np.inf], 0)\n",
    "bars = pd.read_csv(\"july_2023_dollar_bars.csv\")\n",
    "bars['Timestamp'] = pd.to_datetime(bars['Timestamp'], format = '%Y%m%d %H:%M:%S:%f')\n",
    "bars.index = bars['Timestamp']\n",
    "close = bars['close']\n",
    "#close.index = close['Timestamp']\n",
    "#close = close.drop(['Timestamp'])\n",
    "close = close.loc[bins.index]\n"
   ]
  },
  {
   "cell_type": "markdown",
   "metadata": {},
   "source": [
    "Computing average uniqueness for the random forest"
   ]
  },
  {
   "cell_type": "code",
   "execution_count": 7,
   "metadata": {},
   "outputs": [],
   "source": [
    "\n",
    "ind_matrix = getIndMatrix(bars.index, events)\n",
    "#print(ind_matrix[(ind_matrix.select_dtypes(include=['number']) != 0).any(1)])\n",
    "#avgU = getAvgUniqueness(ind_matrix)"
   ]
  },
  {
   "cell_type": "markdown",
   "metadata": {},
   "source": [
    "Random Forest Initialization for no shuffling case"
   ]
  },
  {
   "cell_type": "code",
   "execution_count": 8,
   "metadata": {},
   "outputs": [
    {
     "name": "stdout",
     "output_type": "stream",
     "text": [
      "float64\n",
      "float64\n",
      "init started\n"
     ]
    },
    {
     "name": "stderr",
     "output_type": "stream",
     "text": [
      "c:\\Users\\dstek\\Documents\\ECE479\\fml_lib.py:317: FutureWarning: Series.__getitem__ treating keys as positions is deprecated. In a future version, integer keys will always be treated as labels (consistent with DataFrame behavior). To access a value by position, use `ser.iloc[pos]`\n",
      "  maxT1Idx=self.t1.index.searchsorted(self.t1[test_indices].max())\n",
      "c:\\Users\\dstek\\Documents\\ECE479\\fml_lib.py:317: FutureWarning: Series.__getitem__ treating keys as positions is deprecated. In a future version, integer keys will always be treated as labels (consistent with DataFrame behavior). To access a value by position, use `ser.iloc[pos]`\n",
      "  maxT1Idx=self.t1.index.searchsorted(self.t1[test_indices].max())\n",
      "c:\\Users\\dstek\\Documents\\ECE479\\fml_lib.py:317: FutureWarning: Series.__getitem__ treating keys as positions is deprecated. In a future version, integer keys will always be treated as labels (consistent with DataFrame behavior). To access a value by position, use `ser.iloc[pos]`\n",
      "  maxT1Idx=self.t1.index.searchsorted(self.t1[test_indices].max())\n",
      "c:\\Users\\dstek\\Documents\\ECE479\\fml_lib.py:317: FutureWarning: Series.__getitem__ treating keys as positions is deprecated. In a future version, integer keys will always be treated as labels (consistent with DataFrame behavior). To access a value by position, use `ser.iloc[pos]`\n",
      "  maxT1Idx=self.t1.index.searchsorted(self.t1[test_indices].max())\n",
      "c:\\Users\\dstek\\Documents\\ECE479\\fml_lib.py:317: FutureWarning: Series.__getitem__ treating keys as positions is deprecated. In a future version, integer keys will always be treated as labels (consistent with DataFrame behavior). To access a value by position, use `ser.iloc[pos]`\n",
      "  maxT1Idx=self.t1.index.searchsorted(self.t1[test_indices].max())\n",
      "c:\\Users\\dstek\\Documents\\ECE479\\fml_lib.py:317: FutureWarning: Series.__getitem__ treating keys as positions is deprecated. In a future version, integer keys will always be treated as labels (consistent with DataFrame behavior). To access a value by position, use `ser.iloc[pos]`\n",
      "  maxT1Idx=self.t1.index.searchsorted(self.t1[test_indices].max())\n",
      "c:\\Users\\dstek\\Documents\\ECE479\\fml_lib.py:317: FutureWarning: Series.__getitem__ treating keys as positions is deprecated. In a future version, integer keys will always be treated as labels (consistent with DataFrame behavior). To access a value by position, use `ser.iloc[pos]`\n",
      "  maxT1Idx=self.t1.index.searchsorted(self.t1[test_indices].max())\n",
      "c:\\Users\\dstek\\Documents\\ECE479\\fml_lib.py:317: FutureWarning: Series.__getitem__ treating keys as positions is deprecated. In a future version, integer keys will always be treated as labels (consistent with DataFrame behavior). To access a value by position, use `ser.iloc[pos]`\n",
      "  maxT1Idx=self.t1.index.searchsorted(self.t1[test_indices].max())\n",
      "c:\\Users\\dstek\\Documents\\ECE479\\fml_lib.py:317: FutureWarning: Series.__getitem__ treating keys as positions is deprecated. In a future version, integer keys will always be treated as labels (consistent with DataFrame behavior). To access a value by position, use `ser.iloc[pos]`\n",
      "  maxT1Idx=self.t1.index.searchsorted(self.t1[test_indices].max())\n",
      "c:\\Users\\dstek\\Documents\\ECE479\\fml_lib.py:317: FutureWarning: Series.__getitem__ treating keys as positions is deprecated. In a future version, integer keys will always be treated as labels (consistent with DataFrame behavior). To access a value by position, use `ser.iloc[pos]`\n",
      "  maxT1Idx=self.t1.index.searchsorted(self.t1[test_indices].max())\n"
     ]
    }
   ],
   "source": [
    "clf0=RandomForestClassifier(n_estimators=1000,class_weight='balanced_subsample',criterion='entropy')\n",
    "x = close\n",
    "print(close.dtypes)\n",
    "y = bins['bin']\n",
    "print(y.dtypes)\n",
    "#print(events.isnull().values.any())\n",
    "\n",
    "t1 = pd.Series(events.t1.values, index = events.index)\n",
    "#print(t1.dtypes)\n",
    "first_KFold = cvScore(clf0, X=x, y=y,sample_weight = weights,t1 = t1,cv = 10,shuffle=False, pctEmbargo=0.01 )"
   ]
  },
  {
   "cell_type": "code",
   "execution_count": 9,
   "metadata": {},
   "outputs": [
    {
     "name": "stdout",
     "output_type": "stream",
     "text": [
      "[-2.15704649 -1.59315106 -1.68475095 -4.13137252 -1.7780026  -1.50757641\n",
      " -1.57965077 -1.4650449  -1.67974621 -1.61783655]\n"
     ]
    }
   ],
   "source": [
    "print(first_KFold)"
   ]
  },
  {
   "cell_type": "code",
   "execution_count": 10,
   "metadata": {},
   "outputs": [
    {
     "name": "stdout",
     "output_type": "stream",
     "text": [
      "init started\n"
     ]
    },
    {
     "name": "stderr",
     "output_type": "stream",
     "text": [
      "c:\\Users\\dstek\\Documents\\ECE479\\fml_lib.py:317: FutureWarning: Series.__getitem__ treating keys as positions is deprecated. In a future version, integer keys will always be treated as labels (consistent with DataFrame behavior). To access a value by position, use `ser.iloc[pos]`\n",
      "  maxT1Idx=self.t1.index.searchsorted(self.t1[test_indices].max())\n",
      "c:\\Users\\dstek\\Documents\\ECE479\\fml_lib.py:317: FutureWarning: Series.__getitem__ treating keys as positions is deprecated. In a future version, integer keys will always be treated as labels (consistent with DataFrame behavior). To access a value by position, use `ser.iloc[pos]`\n",
      "  maxT1Idx=self.t1.index.searchsorted(self.t1[test_indices].max())\n",
      "c:\\Users\\dstek\\Documents\\ECE479\\fml_lib.py:317: FutureWarning: Series.__getitem__ treating keys as positions is deprecated. In a future version, integer keys will always be treated as labels (consistent with DataFrame behavior). To access a value by position, use `ser.iloc[pos]`\n",
      "  maxT1Idx=self.t1.index.searchsorted(self.t1[test_indices].max())\n",
      "c:\\Users\\dstek\\Documents\\ECE479\\fml_lib.py:317: FutureWarning: Series.__getitem__ treating keys as positions is deprecated. In a future version, integer keys will always be treated as labels (consistent with DataFrame behavior). To access a value by position, use `ser.iloc[pos]`\n",
      "  maxT1Idx=self.t1.index.searchsorted(self.t1[test_indices].max())\n",
      "c:\\Users\\dstek\\Documents\\ECE479\\fml_lib.py:317: FutureWarning: Series.__getitem__ treating keys as positions is deprecated. In a future version, integer keys will always be treated as labels (consistent with DataFrame behavior). To access a value by position, use `ser.iloc[pos]`\n",
      "  maxT1Idx=self.t1.index.searchsorted(self.t1[test_indices].max())\n",
      "c:\\Users\\dstek\\Documents\\ECE479\\fml_lib.py:317: FutureWarning: Series.__getitem__ treating keys as positions is deprecated. In a future version, integer keys will always be treated as labels (consistent with DataFrame behavior). To access a value by position, use `ser.iloc[pos]`\n",
      "  maxT1Idx=self.t1.index.searchsorted(self.t1[test_indices].max())\n",
      "c:\\Users\\dstek\\Documents\\ECE479\\fml_lib.py:317: FutureWarning: Series.__getitem__ treating keys as positions is deprecated. In a future version, integer keys will always be treated as labels (consistent with DataFrame behavior). To access a value by position, use `ser.iloc[pos]`\n",
      "  maxT1Idx=self.t1.index.searchsorted(self.t1[test_indices].max())\n",
      "c:\\Users\\dstek\\Documents\\ECE479\\fml_lib.py:317: FutureWarning: Series.__getitem__ treating keys as positions is deprecated. In a future version, integer keys will always be treated as labels (consistent with DataFrame behavior). To access a value by position, use `ser.iloc[pos]`\n",
      "  maxT1Idx=self.t1.index.searchsorted(self.t1[test_indices].max())\n",
      "c:\\Users\\dstek\\Documents\\ECE479\\fml_lib.py:317: FutureWarning: Series.__getitem__ treating keys as positions is deprecated. In a future version, integer keys will always be treated as labels (consistent with DataFrame behavior). To access a value by position, use `ser.iloc[pos]`\n",
      "  maxT1Idx=self.t1.index.searchsorted(self.t1[test_indices].max())\n",
      "c:\\Users\\dstek\\Documents\\ECE479\\fml_lib.py:317: FutureWarning: Series.__getitem__ treating keys as positions is deprecated. In a future version, integer keys will always be treated as labels (consistent with DataFrame behavior). To access a value by position, use `ser.iloc[pos]`\n",
      "  maxT1Idx=self.t1.index.searchsorted(self.t1[test_indices].max())\n"
     ]
    }
   ],
   "source": [
    "second_KFold = cvScore(clf0, X=x, y=y,sample_weight = weights,t1 = t1,cv = 10,shuffle=True, pctEmbargo=0.01 )"
   ]
  },
  {
   "cell_type": "code",
   "execution_count": 11,
   "metadata": {},
   "outputs": [
    {
     "name": "stdout",
     "output_type": "stream",
     "text": [
      "[-2.28601826 -1.58333518 -1.7686587  -3.25738851 -1.66854633 -1.47492554\n",
      " -1.46808772 -1.35358164 -1.55935982 -1.56132081]\n"
     ]
    }
   ],
   "source": [
    "print(second_KFold)"
   ]
  },
  {
   "cell_type": "markdown",
   "metadata": {},
   "source": [
    "Q: Why are both results so different?\n",
    "\n",
    "A: The results for the CV with shuffling are overall better (i.e. lower log loss) because the shuffling has leaked information about the validation set into the train set\n",
    "\n",
    "\n",
    "Q: How does shuffling leak information?\n",
    "\n",
    "A: See above"
   ]
  },
  {
   "cell_type": "markdown",
   "metadata": {},
   "source": []
  }
 ],
 "metadata": {
  "kernelspec": {
   "display_name": "Python 3",
   "language": "python",
   "name": "python3"
  },
  "language_info": {
   "codemirror_mode": {
    "name": "ipython",
    "version": 3
   },
   "file_extension": ".py",
   "mimetype": "text/x-python",
   "name": "python",
   "nbconvert_exporter": "python",
   "pygments_lexer": "ipython3",
   "version": "3.11.8"
  }
 },
 "nbformat": 4,
 "nbformat_minor": 2
}
