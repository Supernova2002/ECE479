{
 "cells": [
  {
   "cell_type": "markdown",
   "metadata": {},
   "source": []
  },
  {
   "cell_type": "code",
   "execution_count": 3,
   "metadata": {},
   "outputs": [],
   "source": [
    "import fml_lib\n",
    "import numpy as np\n",
    "import pandas as pd\n",
    "import sys\n",
    "import math\n",
    "from math import sqrt, exp, log\n",
    "import scipy.optimize as so\n",
    "import scipy\n",
    "import sdepy\n",
    "from ouparams import ouparams\n",
    "import matplotlib.pyplot as plt\n",
    "from itertools import product\n",
    "from random import gauss\n",
    "from statsmodels.tsa.ar_model import AutoReg\n",
    "import statsmodels.api as sm"
   ]
  },
  {
   "cell_type": "markdown",
   "metadata": {},
   "source": [
    "Exercise 1: Suppose you are an execution trader. A client calls you with an order to cover a\n",
    "short position she entered at a price of 100. She gives you two exit conditions:\n",
    "profit-taking at 90 and stop-loss at 105.\n",
    "\n",
    "\n",
    "Q1: Assuming the client believes the price follows an O-U process, are these\n",
    "levels reasonable? For what parameters?\n",
    "\n",
    "A: These levels are reasonable for a standard deviation "
   ]
  },
  {
   "cell_type": "code",
   "execution_count": null,
   "metadata": {},
   "outputs": [],
   "source": [
    "rPT=rSLm=np.linspace(0,10,21)\n",
    "count=0\n",
    "for prod_ in product([10,5,0,-5,-10],[5,10,25,50,100]):\n",
    "    count+=1\n",
    "    coeffs={'forecast':prod_[0],'hl':prod_[1],'sigma':1.5}\n",
    "    # define sigma as 1.5\n",
    "    output=batch(coeffs,nIter=1e5,maxHP=100,rPT=rPT,rSLm=rSLm)\n"
   ]
  },
  {
   "cell_type": "markdown",
   "metadata": {},
   "source": [
    "Exercise 2: Fit the time series of dollar bars of E-mini S&P 500 futures to an O-U process"
   ]
  },
  {
   "cell_type": "code",
   "execution_count": 4,
   "metadata": {},
   "outputs": [],
   "source": [
    "def __compute_log_likelihood(params, *args):\n",
    "    '''\n",
    "    Compute the average Log Likelihood, this function will by minimized by scipy.\n",
    "    Find in (2.2) in linked paper\n",
    "\n",
    "    returns: the average log likelihood from given parameters\n",
    "    '''\n",
    "    # functions passed into scipy's minimize() needs accept one parameter, a tuple of\n",
    "    #   of values that we adjust to minimize the value we return.\n",
    "    #   optionally, *args can be passed, which are values we don't change, but still want\n",
    "    #   to use in our function (e.g. the measured heights in our sample or the value Pi)\n",
    "\n",
    "    theta, mu, sigma = params\n",
    "    X, dt = args\n",
    "    n = len(X)\n",
    "\n",
    "    sigma_tilde_squared = sigma ** 2 * (1 - exp(-2 * mu * dt)) / 2 * mu\n",
    "\n",
    "    summation_term = 0\n",
    "\n",
    "    for i in range(1, len(X)):\n",
    "        summation_term += (X[i] - X[i - 1] * exp(-mu * dt) - theta * (1 - exp(-mu * dt))) ** 2\n",
    "\n",
    "    summation_term = -summation_term / (2 * n * sigma_tilde_squared)\n",
    "\n",
    "    log_likelihood = (-log(2 * math.pi) / 2) + (-log(sqrt(sigma_tilde_squared))) + summation_term\n",
    "\n",
    "    return -log_likelihood\n",
    "    # since we want to maximize this total log likelihood, we need to minimize the\n",
    "    #   negation of the this value (scipy doesn't support maximize)\n",
    "\n",
    "\n",
    "def estimate_coefficients_MLE(X, dt):\n",
    "    '''\n",
    "    Estimates Ornstein-Uhlenbeck coefficients (θ, µ, σ) of the given array\n",
    "    using the Maximum Likelihood Estimation method\n",
    "\n",
    "    input: X - array-like data to be fit as an OU process\n",
    "    returns: θ, µ, σ, Total Log Likelihood\n",
    "    '''\n",
    "\n",
    "    bounds = ((0, None), (None, None), (0, None))  # theta > 0, mu ∈ ℝ, sigma > 0\n",
    "    mu_init = np.mean(X)\n",
    "    result = so.minimize(__compute_log_likelihood, (1e-6, 1e-6, 1e-6), args=(X, dt), bounds=bounds)\n",
    "    theta, mu, sigma = result.x\n",
    "    max_log_likelihood = -result.fun  # undo negation from __compute_log_likelihood\n",
    "    return theta, mu, sigma, max_log_likelihood"
   ]
  },
  {
   "cell_type": "code",
   "execution_count": 6,
   "metadata": {},
   "outputs": [
    {
     "name": "stderr",
     "output_type": "stream",
     "text": [
      "C:\\Users\\dstek\\AppData\\Local\\Temp\\ipykernel_40828\\2420848124.py:1: FutureWarning: Support for nested sequences for 'parse_dates' in pd.read_csv is deprecated. Combine the desired columns with pd.to_datetime after parsing instead.\n",
      "  dollar_bars = pd.read_csv(\"USA500IDXUSD_bars.csv\", parse_dates=[['Date', 'Timestamp']])\n"
     ]
    }
   ],
   "source": [
    "dollar_bars = pd.read_csv(\"USA500IDXUSD_bars.csv\", parse_dates=[['Date', 'Timestamp']])\n",
    "dollar_bars = dollar_bars.set_index(\"Date_Timestamp\")\n",
    "close_prices = dollar_bars[\"Close\"].values"
   ]
  },
  {
   "cell_type": "code",
   "execution_count": 7,
   "metadata": {},
   "outputs": [
    {
     "ename": "",
     "evalue": "",
     "output_type": "error",
     "traceback": [
      "\u001b[1;31mThe Kernel crashed while executing code in the the current cell or a previous cell. Please review the code in the cell(s) to identify a possible cause of the failure. Click <a href='https://aka.ms/vscodeJupyterKernelCrash'>here</a> for more info. View Jupyter <a href='command:jupyter.viewOutput'>log</a> for further details."
     ]
    }
   ],
   "source": [
    "x = close_prices[:-1]\n",
    "y = close_prices[1:]\n",
    "close_prices = np.array(close_prices)\n",
    "close_time = np.array(dollar_bars.index.values)\n",
    "sm.add_constant(x)\n",
    "ar_sim = AutoReg(y,1).fit()\n",
    "mu,sigma, theta = estimate_coefficients_MLE(close_prices, close_time[1]-close_time[0])\n",
    "\n"
   ]
  },
  {
   "cell_type": "code",
   "execution_count": 41,
   "metadata": {},
   "outputs": [
    {
     "name": "stdout",
     "output_type": "stream",
     "text": [
      "[0.00112643 0.99999986]\n",
      "[8032.981292866822, 0.42481407396950527, 1.4104779950638593e-07]\n",
      "float64\n",
      "[4447.626 4448.427 4448.111 ... 4868.626 4868.361 4868.376]\n"
     ]
    }
   ],
   "source": [
    "print(ar_sim.params)\n",
    "print([mu, sigma, theta])\n",
    "print(close_prices)"
   ]
  }
 ],
 "metadata": {
  "kernelspec": {
   "display_name": "Python 3",
   "language": "python",
   "name": "python3"
  },
  "language_info": {
   "codemirror_mode": {
    "name": "ipython",
    "version": 3
   },
   "file_extension": ".py",
   "mimetype": "text/x-python",
   "name": "python",
   "nbconvert_exporter": "python",
   "pygments_lexer": "ipython3",
   "version": "3.11.8"
  }
 },
 "nbformat": 4,
 "nbformat_minor": 2
}
