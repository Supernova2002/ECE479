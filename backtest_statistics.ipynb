{
 "cells": [
  {
   "cell_type": "code",
   "execution_count": 23,
   "metadata": {},
   "outputs": [],
   "source": [
    "import fml_lib\n",
    "import numpy as np\n",
    "import pandas as pd\n",
    "import sys\n",
    "import math\n",
    "from math import sqrt, exp, log\n",
    "import matplotlib.pyplot as plt"
   ]
  },
  {
   "cell_type": "markdown",
   "metadata": {},
   "source": [
    "Q1: A strategy exhibits a high turnover, high leverage, and high number of bets, with\n",
    "a short holding period, low return on execution costs, and a high Sharpe ratio.\n",
    "Is it likely to have large capacity? What kind of strategy do you think it is?\n",
    "\n",
    "A: I think this is a high frequency strategy. I  think it's likely to have a high capacity as it has a low return on execution costs, implying higher transaction costs"
   ]
  },
  {
   "cell_type": "markdown",
   "metadata": {},
   "source": [
    "Exercise 2: On the dollar bars dataset for E-mini S&P 500 futures"
   ]
  },
  {
   "cell_type": "code",
   "execution_count": 24,
   "metadata": {},
   "outputs": [
    {
     "name": "stderr",
     "output_type": "stream",
     "text": [
      "C:\\Users\\dstek\\AppData\\Local\\Temp\\ipykernel_40252\\1214665056.py:1: FutureWarning: Support for nested sequences for 'parse_dates' in pd.read_csv is deprecated. Combine the desired columns with pd.to_datetime after parsing instead.\n",
      "  dollar_bars = pd.read_csv(\"USA500IDXUSD_bars.csv\", parse_dates=[['Date', 'Timestamp']])\n"
     ]
    },
    {
     "name": "stdout",
     "output_type": "stream",
     "text": [
      "Date_Timestamp\n",
      "2023-07-02 22:00:10    0.000180\n",
      "2023-07-02 22:00:20   -0.000071\n",
      "2023-07-02 22:00:30   -0.000110\n",
      "2023-07-02 22:00:40    0.000110\n",
      "2023-07-02 22:00:50    0.000088\n",
      "                         ...   \n",
      "2024-01-25 03:57:00   -0.000106\n",
      "2024-01-25 03:57:10    0.000000\n",
      "2024-01-25 03:57:20    0.000003\n",
      "2024-01-25 03:58:30   -0.000054\n",
      "2024-01-25 03:58:40         NaN\n",
      "Name: Close, Length: 840952, dtype: float64\n"
     ]
    }
   ],
   "source": [
    "dollar_bars = pd.read_csv(\"USA500IDXUSD_bars.csv\", parse_dates=[['Date', 'Timestamp']])\n",
    "dollar_bars = dollar_bars.set_index(\"Date_Timestamp\")\n",
    "close_prices = dollar_bars['Close']\n",
    "absolute_returns = close_prices.diff()\n",
    "returns = absolute_returns/close_prices[:-1]\n",
    "returns = returns.iloc[1:]\n",
    "print(returns)"
   ]
  },
  {
   "cell_type": "markdown",
   "metadata": {},
   "source": [
    "2.a: HHI index on positive returns"
   ]
  },
  {
   "cell_type": "code",
   "execution_count": 25,
   "metadata": {},
   "outputs": [
    {
     "name": "stdout",
     "output_type": "stream",
     "text": [
      "2.9228947493621116e-06\n"
     ]
    }
   ],
   "source": [
    "pos_hhi = fml_lib.getHHI(returns[returns >=0])\n",
    "print(pos_hhi)"
   ]
  },
  {
   "cell_type": "markdown",
   "metadata": {},
   "source": [
    "2.b: HHI index on negative returns."
   ]
  },
  {
   "cell_type": "code",
   "execution_count": 26,
   "metadata": {},
   "outputs": [
    {
     "name": "stdout",
     "output_type": "stream",
     "text": [
      "2.9738909372884605e-06\n"
     ]
    }
   ],
   "source": [
    "neg_hhi = fml_lib.getHHI(returns[returns < 0])\n",
    "print(neg_hhi)"
   ]
  },
  {
   "cell_type": "markdown",
   "metadata": {},
   "source": [
    "2.c: HHI index on time between bars"
   ]
  },
  {
   "cell_type": "code",
   "execution_count": 27,
   "metadata": {},
   "outputs": [
    {
     "name": "stdout",
     "output_type": "stream",
     "text": [
      "0.004094296074964314\n"
     ]
    },
    {
     "name": "stderr",
     "output_type": "stream",
     "text": [
      "C:\\Users\\dstek\\AppData\\Local\\Temp\\ipykernel_40252\\3726927066.py:1: FutureWarning: 'M' is deprecated and will be removed in a future version, please use 'ME' instead.\n",
      "  mid_bar_hhi = fml_lib.getHHI((returns.groupby(pd.Grouper(freq='M')).count()))\n"
     ]
    }
   ],
   "source": [
    "mid_bar_hhi = fml_lib.getHHI((returns.groupby(pd.Grouper(freq='M')).count()))\n",
    "print(mid_bar_hhi)"
   ]
  },
  {
   "cell_type": "markdown",
   "metadata": {},
   "source": [
    "2.d,2.e: The 95-percentile DD and TuW"
   ]
  },
  {
   "cell_type": "code",
   "execution_count": 28,
   "metadata": {},
   "outputs": [
    {
     "name": "stdout",
     "output_type": "stream",
     "text": [
      "95th percentile for drawdown is 2.6625998516537033\n",
      "95th percentile for time under water is 82.64583333333333 days\n"
     ]
    }
   ],
   "source": [
    "dd, tuw = fml_lib.computeDD_TuW(returns)\n",
    "percentile_dd = dd.quantile(.95, interpolation='nearest')\n",
    "percentile_tuw = tuw.quantile(.95, interpolation='nearest')\n",
    "print(f\"95th percentile for drawdown is {percentile_dd}\")\n",
    "print(f\"95th percentile for time under water is {percentile_tuw*365} days\")"
   ]
  },
  {
   "cell_type": "markdown",
   "metadata": {},
   "source": [
    "2.f: Annualized average return"
   ]
  },
  {
   "cell_type": "code",
   "execution_count": null,
   "metadata": {},
   "outputs": [],
   "source": []
  },
  {
   "cell_type": "markdown",
   "metadata": {},
   "source": [
    "2.g,2.h: Average return from hits and misses"
   ]
  },
  {
   "cell_type": "code",
   "execution_count": 29,
   "metadata": {},
   "outputs": [
    {
     "name": "stdout",
     "output_type": "stream",
     "text": [
      "Average hit return is 6.172033830529491e-05\n",
      "Average miss return is -6.618366463121042e-05\n"
     ]
    }
   ],
   "source": [
    "avg_hit_return = np.mean(returns[returns>=0])\n",
    "print(f\"Average hit return is {avg_hit_return}\")\n",
    "avg_miss_return = np.mean(returns[returns<0])\n",
    "print(f\"Average miss return is {avg_miss_return}\")"
   ]
  },
  {
   "cell_type": "markdown",
   "metadata": {},
   "source": [
    "2.i: Annualized sharpe ratio"
   ]
  },
  {
   "cell_type": "code",
   "execution_count": 30,
   "metadata": {},
   "outputs": [
    {
     "name": "stdout",
     "output_type": "stream",
     "text": [
      "Annualized sharpe ratio is 2.559811465115836e-09\n"
     ]
    }
   ],
   "source": [
    "sr = np.mean(returns)/np.std(returns)\n",
    "yearly_index = returns.index.year\n",
    "yearly_returns = yearly_index.value_counts()\n",
    "return_count = 0\n",
    "year_count = 0\n",
    "for year in yearly_returns:\n",
    "    return_count = return_count + year\n",
    "    year_count = year_count + 1\n",
    "avg_yearly_return = return_count/year_count\n",
    "annualized_sr = sr/avg_yearly_return\n",
    "print(f\"Annualized sharpe ratio is {annualized_sr}\")"
   ]
  },
  {
   "cell_type": "markdown",
   "metadata": {},
   "source": [
    "2.j: Information ratio, where the benchmark is the risk-free rate"
   ]
  },
  {
   "cell_type": "code",
   "execution_count": 31,
   "metadata": {},
   "outputs": [],
   "source": [
    "# current 10 year yield is 4.2% so that's the risk free rate\n"
   ]
  }
 ],
 "metadata": {
  "kernelspec": {
   "display_name": "Python 3",
   "language": "python",
   "name": "python3"
  },
  "language_info": {
   "codemirror_mode": {
    "name": "ipython",
    "version": 3
   },
   "file_extension": ".py",
   "mimetype": "text/x-python",
   "name": "python",
   "nbconvert_exporter": "python",
   "pygments_lexer": "ipython3",
   "version": "3.11.8"
  }
 },
 "nbformat": 4,
 "nbformat_minor": 2
}
