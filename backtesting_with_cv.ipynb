{
 "cells": [
  {
   "cell_type": "markdown",
   "metadata": {},
   "source": [
    "Q: Suppose that you develop a momentum strategy on a futures contract, where\n",
    "the forecast is based on an AR(1) process. You backtest this strategy using the\n",
    "WF method, and the Sharpe ratio is 1.5. You then repeat the backtest on the\n",
    "reversed series and achieve a Sharpe ratio of –1.5. What would be the mathematical grounds for disregarding the second result, if any?\n",
    "\n",
    "A: Historically, fitting an outperforming model on the reverse series will lead to an underperforming backtest"
   ]
  },
  {
   "cell_type": "markdown",
   "metadata": {},
   "source": [
    "Q: You develop a mean-reverting strategy on a futures contract. Your WF backtest\n",
    "achieves a Sharpe ratio of 1.5. You increase the length of the warm-up period,\n",
    "and the Sharpe ratio drops to 0.7. You go ahead and present only the result with\n",
    "the higher Sharpe ratio, arguing that a strategy with a shorter warm-up is more\n",
    "realistic. Is this selection bias?\n",
    "\n",
    "A: No because the shorter warm up means more of the observations are actually being seen by the model"
   ]
  },
  {
   "cell_type": "markdown",
   "metadata": {},
   "source": [
    "Q: Your strategy achieves a Sharpe ratio of 1.5 on a WF backtest, but a Sharpe\n",
    "ratio of 0.7 on a CV backtest. You go ahead and present only the result with\n",
    "the higher Sharpe ratio, arguing that the WF backtest is historically accurate,\n",
    "while the CV backtest is a scenario simulation, or an inferential exercise. Is this\n",
    "selection bias?\n",
    "\n",
    "A: Yes, because for all you know that one WF backtest was on a particularly lucky period. The CV backtest is more likely to be indicative of the strategy's overall performance"
   ]
  },
  {
   "cell_type": "markdown",
   "metadata": {},
   "source": [
    "Q: Your strategy produces 100,000 forecasts over time. You would like to derive\n",
    "the CPCV distribution of Sharpe ratios by generating 1,000 paths. What are the\n",
    "possible combinations of parameters (N, k) that will allow you to achieve that?\n",
    "\n",
    "\n",
    "A: (14,4) provides 1001 paths. Not sure how to calculate this without the use of a calculator though"
   ]
  }
 ],
 "metadata": {
  "language_info": {
   "name": "python"
  }
 },
 "nbformat": 4,
 "nbformat_minor": 2
}
